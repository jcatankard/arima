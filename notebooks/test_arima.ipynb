{
 "cells": [
  {
   "cell_type": "code",
   "execution_count": 1,
   "metadata": {},
   "outputs": [
    {
     "name": "stdout",
     "output_type": "stream",
     "text": [
      "Requirement already satisfied: statsforecast in c:\\users\\e10110199\\rust_projects\\arima\\env\\lib\\site-packages (1.7.3)\n",
      "Requirement already satisfied: cloudpickle in c:\\users\\e10110199\\rust_projects\\arima\\env\\lib\\site-packages (from statsforecast) (3.0.0)\n",
      "Requirement already satisfied: numba>=0.55.0 in c:\\users\\e10110199\\rust_projects\\arima\\env\\lib\\site-packages (from statsforecast) (0.59.0)\n",
      "Requirement already satisfied: numpy>=1.21.6 in c:\\users\\e10110199\\rust_projects\\arima\\env\\lib\\site-packages (from statsforecast) (1.26.4)\n",
      "Requirement already satisfied: pandas>=1.3.5 in c:\\users\\e10110199\\rust_projects\\arima\\env\\lib\\site-packages (from statsforecast) (2.2.1)\n",
      "Requirement already satisfied: scipy>=1.7.3 in c:\\users\\e10110199\\rust_projects\\arima\\env\\lib\\site-packages (from statsforecast) (1.12.0)\n",
      "Requirement already satisfied: statsmodels>=0.13.2 in c:\\users\\e10110199\\rust_projects\\arima\\env\\lib\\site-packages (from statsforecast) (0.14.1)\n",
      "Requirement already satisfied: tqdm in c:\\users\\e10110199\\rust_projects\\arima\\env\\lib\\site-packages (from statsforecast) (4.66.2)\n",
      "Requirement already satisfied: fugue>=0.8.1 in c:\\users\\e10110199\\rust_projects\\arima\\env\\lib\\site-packages (from statsforecast) (0.8.7)\n",
      "Requirement already satisfied: utilsforecast>=0.0.24 in c:\\users\\e10110199\\rust_projects\\arima\\env\\lib\\site-packages (from statsforecast) (0.1.1)\n",
      "Requirement already satisfied: threadpoolctl in c:\\users\\e10110199\\rust_projects\\arima\\env\\lib\\site-packages (from statsforecast) (3.3.0)\n",
      "Requirement already satisfied: triad>=0.9.3 in c:\\users\\e10110199\\rust_projects\\arima\\env\\lib\\site-packages (from fugue>=0.8.1->statsforecast) (0.9.5)\n",
      "Requirement already satisfied: adagio>=0.2.4 in c:\\users\\e10110199\\rust_projects\\arima\\env\\lib\\site-packages (from fugue>=0.8.1->statsforecast) (0.2.4)\n",
      "Requirement already satisfied: qpd>=0.4.4 in c:\\users\\e10110199\\rust_projects\\arima\\env\\lib\\site-packages (from fugue>=0.8.1->statsforecast) (0.4.4)\n",
      "Requirement already satisfied: fugue-sql-antlr>=0.1.6 in c:\\users\\e10110199\\rust_projects\\arima\\env\\lib\\site-packages (from fugue>=0.8.1->statsforecast) (0.2.0)\n",
      "Requirement already satisfied: sqlglot in c:\\users\\e10110199\\rust_projects\\arima\\env\\lib\\site-packages (from fugue>=0.8.1->statsforecast) (22.2.1)\n",
      "Requirement already satisfied: jinja2 in c:\\users\\e10110199\\rust_projects\\arima\\env\\lib\\site-packages (from fugue>=0.8.1->statsforecast) (3.1.3)\n",
      "Requirement already satisfied: llvmlite<0.43,>=0.42.0dev0 in c:\\users\\e10110199\\rust_projects\\arima\\env\\lib\\site-packages (from numba>=0.55.0->statsforecast) (0.42.0)\n",
      "Requirement already satisfied: python-dateutil>=2.8.2 in c:\\users\\e10110199\\rust_projects\\arima\\env\\lib\\site-packages (from pandas>=1.3.5->statsforecast) (2.9.0.post0)\n",
      "Requirement already satisfied: pytz>=2020.1 in c:\\users\\e10110199\\rust_projects\\arima\\env\\lib\\site-packages (from pandas>=1.3.5->statsforecast) (2024.1)\n",
      "Requirement already satisfied: tzdata>=2022.7 in c:\\users\\e10110199\\rust_projects\\arima\\env\\lib\\site-packages (from pandas>=1.3.5->statsforecast) (2024.1)\n",
      "Requirement already satisfied: patsy>=0.5.4 in c:\\users\\e10110199\\rust_projects\\arima\\env\\lib\\site-packages (from statsmodels>=0.13.2->statsforecast) (0.5.6)\n",
      "Requirement already satisfied: packaging>=21.3 in c:\\users\\e10110199\\rust_projects\\arima\\env\\lib\\site-packages (from statsmodels>=0.13.2->statsforecast) (23.2)\n",
      "Requirement already satisfied: colorama in c:\\users\\e10110199\\rust_projects\\arima\\env\\lib\\site-packages (from tqdm->statsforecast) (0.4.6)\n",
      "Requirement already satisfied: antlr4-python3-runtime<4.12 in c:\\users\\e10110199\\rust_projects\\arima\\env\\lib\\site-packages (from fugue-sql-antlr>=0.1.6->fugue>=0.8.1->statsforecast) (4.11.1)\n",
      "Requirement already satisfied: six in c:\\users\\e10110199\\rust_projects\\arima\\env\\lib\\site-packages (from patsy>=0.5.4->statsmodels>=0.13.2->statsforecast) (1.16.0)\n",
      "Requirement already satisfied: pyarrow>=6.0.1 in c:\\users\\e10110199\\rust_projects\\arima\\env\\lib\\site-packages (from triad>=0.9.3->fugue>=0.8.1->statsforecast) (15.0.0)\n",
      "Requirement already satisfied: fsspec>=2022.5.0 in c:\\users\\e10110199\\rust_projects\\arima\\env\\lib\\site-packages (from triad>=0.9.3->fugue>=0.8.1->statsforecast) (2024.2.0)\n",
      "Requirement already satisfied: fs in c:\\users\\e10110199\\rust_projects\\arima\\env\\lib\\site-packages (from triad>=0.9.3->fugue>=0.8.1->statsforecast) (2.4.16)\n",
      "Requirement already satisfied: MarkupSafe>=2.0 in c:\\users\\e10110199\\rust_projects\\arima\\env\\lib\\site-packages (from jinja2->fugue>=0.8.1->statsforecast) (2.1.5)\n",
      "Requirement already satisfied: appdirs~=1.4.3 in c:\\users\\e10110199\\rust_projects\\arima\\env\\lib\\site-packages (from fs->triad>=0.9.3->fugue>=0.8.1->statsforecast) (1.4.4)\n",
      "Requirement already satisfied: setuptools in c:\\users\\e10110199\\rust_projects\\arima\\env\\lib\\site-packages (from fs->triad>=0.9.3->fugue>=0.8.1->statsforecast) (63.2.0)\n",
      "Note: you may need to restart the kernel to use updated packages.\n",
      "Requirement already satisfied: statsmodels in c:\\users\\e10110199\\rust_projects\\arima\\env\\lib\\site-packages (0.14.1)\n",
      "Requirement already satisfied: numpy<2,>=1.18 in c:\\users\\e10110199\\rust_projects\\arima\\env\\lib\\site-packages (from statsmodels) (1.26.4)\n",
      "Requirement already satisfied: scipy!=1.9.2,>=1.4 in c:\\users\\e10110199\\rust_projects\\arima\\env\\lib\\site-packages (from statsmodels) (1.12.0)\n",
      "Requirement already satisfied: pandas!=2.1.0,>=1.0 in c:\\users\\e10110199\\rust_projects\\arima\\env\\lib\\site-packages (from statsmodels) (2.2.1)\n",
      "Requirement already satisfied: patsy>=0.5.4 in c:\\users\\e10110199\\rust_projects\\arima\\env\\lib\\site-packages (from statsmodels) (0.5.6)\n",
      "Requirement already satisfied: packaging>=21.3 in c:\\users\\e10110199\\rust_projects\\arima\\env\\lib\\site-packages (from statsmodels) (23.2)\n",
      "Requirement already satisfied: python-dateutil>=2.8.2 in c:\\users\\e10110199\\rust_projects\\arima\\env\\lib\\site-packages (from pandas!=2.1.0,>=1.0->statsmodels) (2.9.0.post0)\n",
      "Requirement already satisfied: pytz>=2020.1 in c:\\users\\e10110199\\rust_projects\\arima\\env\\lib\\site-packages (from pandas!=2.1.0,>=1.0->statsmodels) (2024.1)\n",
      "Requirement already satisfied: tzdata>=2022.7 in c:\\users\\e10110199\\rust_projects\\arima\\env\\lib\\site-packages (from pandas!=2.1.0,>=1.0->statsmodels) (2024.1)\n",
      "Requirement already satisfied: six in c:\\users\\e10110199\\rust_projects\\arima\\env\\lib\\site-packages (from patsy>=0.5.4->statsmodels) (1.16.0)\n",
      "Note: you may need to restart the kernel to use updated packages.\n",
      "Requirement already satisfied: pmdarima in c:\\users\\e10110199\\rust_projects\\arima\\env\\lib\\site-packages (2.0.4)\n",
      "Requirement already satisfied: joblib>=0.11 in c:\\users\\e10110199\\rust_projects\\arima\\env\\lib\\site-packages (from pmdarima) (1.3.2)\n",
      "Requirement already satisfied: Cython!=0.29.18,!=0.29.31,>=0.29 in c:\\users\\e10110199\\rust_projects\\arima\\env\\lib\\site-packages (from pmdarima) (3.0.9)\n",
      "Requirement already satisfied: numpy>=1.21.2 in c:\\users\\e10110199\\rust_projects\\arima\\env\\lib\\site-packages (from pmdarima) (1.26.4)\n",
      "Requirement already satisfied: pandas>=0.19 in c:\\users\\e10110199\\rust_projects\\arima\\env\\lib\\site-packages (from pmdarima) (2.2.1)\n",
      "Requirement already satisfied: scikit-learn>=0.22 in c:\\users\\e10110199\\rust_projects\\arima\\env\\lib\\site-packages (from pmdarima) (1.4.1.post1)\n",
      "Requirement already satisfied: scipy>=1.3.2 in c:\\users\\e10110199\\rust_projects\\arima\\env\\lib\\site-packages (from pmdarima) (1.12.0)\n",
      "Requirement already satisfied: statsmodels>=0.13.2 in c:\\users\\e10110199\\rust_projects\\arima\\env\\lib\\site-packages (from pmdarima) (0.14.1)\n",
      "Requirement already satisfied: urllib3 in c:\\users\\e10110199\\rust_projects\\arima\\env\\lib\\site-packages (from pmdarima) (2.2.1)\n",
      "Requirement already satisfied: setuptools!=50.0.0,>=38.6.0 in c:\\users\\e10110199\\rust_projects\\arima\\env\\lib\\site-packages (from pmdarima) (63.2.0)\n",
      "Requirement already satisfied: packaging>=17.1 in c:\\users\\e10110199\\rust_projects\\arima\\env\\lib\\site-packages (from pmdarima) (23.2)\n",
      "Requirement already satisfied: python-dateutil>=2.8.2 in c:\\users\\e10110199\\rust_projects\\arima\\env\\lib\\site-packages (from pandas>=0.19->pmdarima) (2.9.0.post0)\n",
      "Requirement already satisfied: pytz>=2020.1 in c:\\users\\e10110199\\rust_projects\\arima\\env\\lib\\site-packages (from pandas>=0.19->pmdarima) (2024.1)\n",
      "Requirement already satisfied: tzdata>=2022.7 in c:\\users\\e10110199\\rust_projects\\arima\\env\\lib\\site-packages (from pandas>=0.19->pmdarima) (2024.1)\n",
      "Requirement already satisfied: threadpoolctl>=2.0.0 in c:\\users\\e10110199\\rust_projects\\arima\\env\\lib\\site-packages (from scikit-learn>=0.22->pmdarima) (3.3.0)\n",
      "Requirement already satisfied: patsy>=0.5.4 in c:\\users\\e10110199\\rust_projects\\arima\\env\\lib\\site-packages (from statsmodels>=0.13.2->pmdarima) (0.5.6)\n",
      "Requirement already satisfied: six in c:\\users\\e10110199\\rust_projects\\arima\\env\\lib\\site-packages (from patsy>=0.5.4->statsmodels>=0.13.2->pmdarima) (1.16.0)\n",
      "Note: you may need to restart the kernel to use updated packages.\n",
      "Requirement already satisfied: pandas in c:\\users\\e10110199\\rust_projects\\arima\\env\\lib\\site-packages (2.2.1)\n",
      "Requirement already satisfied: numpy<2,>=1.22.4 in c:\\users\\e10110199\\rust_projects\\arima\\env\\lib\\site-packages (from pandas) (1.26.4)\n",
      "Requirement already satisfied: python-dateutil>=2.8.2 in c:\\users\\e10110199\\rust_projects\\arima\\env\\lib\\site-packages (from pandas) (2.9.0.post0)\n",
      "Requirement already satisfied: pytz>=2020.1 in c:\\users\\e10110199\\rust_projects\\arima\\env\\lib\\site-packages (from pandas) (2024.1)\n",
      "Requirement already satisfied: tzdata>=2022.7 in c:\\users\\e10110199\\rust_projects\\arima\\env\\lib\\site-packages (from pandas) (2024.1)\n",
      "Requirement already satisfied: six>=1.5 in c:\\users\\e10110199\\rust_projects\\arima\\env\\lib\\site-packages (from python-dateutil>=2.8.2->pandas) (1.16.0)\n",
      "Note: you may need to restart the kernel to use updated packages.\n",
      "Requirement already satisfied: plotly in c:\\users\\e10110199\\rust_projects\\arima\\env\\lib\\site-packages (5.19.0)\n",
      "Requirement already satisfied: tenacity>=6.2.0 in c:\\users\\e10110199\\rust_projects\\arima\\env\\lib\\site-packages (from plotly) (8.2.3)\n",
      "Requirement already satisfied: packaging in c:\\users\\e10110199\\rust_projects\\arima\\env\\lib\\site-packages (from plotly) (23.2)\n",
      "Note: you may need to restart the kernel to use updated packages.\n",
      "Note: you may need to restart the kernel to use updated packages.\n"
     ]
    }
   ],
   "source": [
    "%pip install statsforecast\n",
    "%pip install statsmodels\n",
    "%pip install pmdarima\n",
    "%pip install pandas\n",
    "%pip install plotly\n",
    "%pip install nbformat>=4.2.0"
   ]
  },
  {
   "cell_type": "code",
   "execution_count": 103,
   "metadata": {},
   "outputs": [],
   "source": [
    "from dataclasses import dataclass, asdict\n",
    "from statsforecast.models import ARIMA\n",
    "from typing import Optional, Callable\n",
    "from pmdarima.arima import auto_arima\n",
    "from numpy.typing import NDArray\n",
    "import plotly.graph_objs as go\n",
    "import statsmodels.api as sm\n",
    "from arima import Model\n",
    "import pandas as pd\n",
    "import time"
   ]
  },
  {
   "cell_type": "code",
   "execution_count": 136,
   "metadata": {},
   "outputs": [],
   "source": [
    "@dataclass\n",
    "class SearchParams:\n",
    "    start_p: int = 0\n",
    "    max_p: int = 3\n",
    "    d: int = 0\n",
    "    max_d: int = 2\n",
    "    start_q: int = 0\n",
    "    max_q: int = 3\n",
    "    start_P: int = 0\n",
    "    max_P: int = 1\n",
    "    start_Q: int = 0\n",
    "    max_Q: int = 1\n",
    "    D: int = 0\n",
    "    max_D: int = 2\n",
    "    seasonal: bool = True\n",
    "    m: int = 12\n",
    "    maxiter: int = 50\n",
    "    information_criterion: str = \"aic\"\n",
    "    suppress_warnings: bool = True\n",
    "    trace: bool = True\n",
    "\n",
    "    def count_max_enumerations(self) -> None:\n",
    "        p = self.max_p - self.start_p + 1\n",
    "        d = self.max_d - self.d + 1\n",
    "        q = self.max_q - self.start_q + 1\n",
    "        P = self.max_P - self.start_P + 1\n",
    "        D = self.max_D - self.D + 1\n",
    "        Q = self.max_Q - self.start_Q + 1\n",
    "\n",
    "        n = p * d * q * P * D * Q\n",
    "        print(f\"Max possible iterations = {n}\")"
   ]
  },
  {
   "cell_type": "code",
   "execution_count": 44,
   "metadata": {},
   "outputs": [],
   "source": [
    "@dataclass\n",
    "class HyperParams:\n",
    "    order: tuple[int, int, int]\n",
    "    seasonal_order: tuple[int, int, int, int]"
   ]
  },
  {
   "cell_type": "code",
   "execution_count": 119,
   "metadata": {},
   "outputs": [],
   "source": [
    "def timeit(func: Callable) -> Callable:\n",
    "\n",
    "    def inner(*args, **kwargs):\n",
    "        start = time.time()\n",
    "        result = func(*args, **kwargs)\n",
    "        end = time.time()\n",
    "        print(f\"Time for {func.__name__}: {round(end - start, 2)} seconds.\")\n",
    "        return result\n",
    "    \n",
    "    return inner"
   ]
  },
  {
   "cell_type": "code",
   "execution_count": 120,
   "metadata": {},
   "outputs": [],
   "source": [
    "@timeit\n",
    "def my_preds(hyperparams: HyperParams, y_train: NDArray, h: int) -> NDArray:\n",
    "    m = Model.sarima(order=hyperparams.order, seasonal_order=hyperparams.seasonal_order)\n",
    "    m.fit(y=y_train)\n",
    "    return m.predict(h=h, x=None)"
   ]
  },
  {
   "cell_type": "code",
   "execution_count": 121,
   "metadata": {},
   "outputs": [],
   "source": [
    "@timeit\n",
    "def sf_preds(hyperparams: HyperParams, y_train: NDArray, h: int) -> NDArray:\n",
    "    m = Model.sarima(order=hyperparams.order, seasonal_order=hyperparams.seasonal_order)\n",
    "    m.fit(y=y_train)\n",
    "    m = ARIMA(order=hyperparams.order,\n",
    "              seasonal_order=hyperparams.seasonal_order[: -1],\n",
    "              season_length=hyperparams.seasonal_order[-1]\n",
    "              )\n",
    "    return m.forecast(y=y_train, h=h)[\"mean\"]"
   ]
  },
  {
   "cell_type": "code",
   "execution_count": 122,
   "metadata": {},
   "outputs": [],
   "source": [
    "@timeit\n",
    "def sm_preds(hyperparams: HyperParams, y_train: NDArray, h: int) -> NDArray:\n",
    "    m = (sm.tsa.statespace\n",
    "        .SARIMAX(endog=y_train, order=hyperparams.order, seasonal_order=hyperparams.seasonal_order)\n",
    "        .fit()\n",
    "    )\n",
    "    return m.predict(start=y_train.size, end=y_train.size + h - 1)"
   ]
  },
  {
   "cell_type": "code",
   "execution_count": 159,
   "metadata": {},
   "outputs": [],
   "source": [
    "class Run:\n",
    "\n",
    "    def __init__(\n",
    "            self,\n",
    "            df: pd.DataFrame,\n",
    "            ds: str,\n",
    "            y: str,\n",
    "            h: int\n",
    "    ) -> None:\n",
    "        self.df = df\n",
    "        self.ds = ds\n",
    "        self.y = y\n",
    "        self.h = h\n",
    "\n",
    "        self.y_train = df[y].values[:-h]\n",
    "        self.test_dates = df[ds].values[-h:]\n",
    "        self.preds: dict[str, NDArray] = {}\n",
    "        self.hyper_params: Optional[HyperParams] = None\n",
    "\n",
    "    @timeit\n",
    "    def assign_params(\n",
    "            self,\n",
    "            search_params: Optional[SearchParams] = None,\n",
    "            default_params: Optional[HyperParams] = None\n",
    "    ) -> None:\n",
    "        if ((search_params is None and default_params is None)\n",
    "            or (search_params is not None and default_params is not None)\n",
    "            ):\n",
    "            raise ValueError(\"Must pass exactly one of search_params or default_params.\")\n",
    "        elif search_params is not None:\n",
    "            self.hyper_params = self._search_hyperparameters(search_params)\n",
    "        else:\n",
    "            self.hyper_params = default_params\n",
    "\n",
    "    def _search_hyperparameters(self, search_params: SearchParams) -> HyperParams:\n",
    "        search = auto_arima(y=self.y_train, **asdict(search_params))\n",
    "        params = search.get_params()\n",
    "        return HyperParams(params[\"order\"], params[\"seasonal_order\"])\n",
    "    \n",
    "    def add_preds(self, func: Callable, name: str) -> None:\n",
    "        self.preds[name] = func(self.hyper_params, self.y_train, self.h)\n",
    "\n",
    "    def plot(self) -> None:\n",
    "        fig = go.Figure()\n",
    "        fig.add_trace(go.Scatter(x=self.df[self.ds], y=self.df[self.y], mode='lines', name=self.y))\n",
    "        for name, y in self.preds.items():\n",
    "            fig.add_trace(go.Scatter(x=self.test_dates, y=y, mode='lines', name=name))\n",
    "        fig.update_layout(showlegend=True)\n",
    "        fig.show()"
   ]
  },
  {
   "cell_type": "markdown",
   "metadata": {},
   "source": [
    "# SUNSPOTS"
   ]
  },
  {
   "cell_type": "code",
   "execution_count": 152,
   "metadata": {},
   "outputs": [
    {
     "name": "stdout",
     "output_type": "stream",
     "text": [
      "Max possible iterations = 900\n"
     ]
    }
   ],
   "source": [
    "search_params = SearchParams(\n",
    "    start_p=0,\n",
    "    max_p=4,\n",
    "    d=0,\n",
    "    max_d=1,\n",
    "    start_q=0,\n",
    "    max_q=4,\n",
    "    start_P=0,\n",
    "    max_P=2,\n",
    "    start_Q=0,\n",
    "    max_Q=2,\n",
    "    D=1,\n",
    "    seasonal=True,\n",
    "    m=12,\n",
    "    maxiter=50,\n",
    ")\n",
    "search_params.count_max_enumerations()"
   ]
  },
  {
   "cell_type": "code",
   "execution_count": 155,
   "metadata": {},
   "outputs": [
    {
     "name": "stdout",
     "output_type": "stream",
     "text": [
      "Time for my_preds: 0.0 seconds.\n",
      "Time for sf_preds: 1.38 seconds.\n"
     ]
    },
    {
     "data": {
      "application/vnd.plotly.v1+json": {
       "config": {
        "plotlyServerURL": "https://plot.ly"
       },
       "data": [
        {
         "mode": "lines",
         "name": "SUNACTIVITY",
         "type": "scatter",
         "x": [
          1700,
          1701,
          1702,
          1703,
          1704,
          1705,
          1706,
          1707,
          1708,
          1709,
          1710,
          1711,
          1712,
          1713,
          1714,
          1715,
          1716,
          1717,
          1718,
          1719,
          1720,
          1721,
          1722,
          1723,
          1724,
          1725,
          1726,
          1727,
          1728,
          1729,
          1730,
          1731,
          1732,
          1733,
          1734,
          1735,
          1736,
          1737,
          1738,
          1739,
          1740,
          1741,
          1742,
          1743,
          1744,
          1745,
          1746,
          1747,
          1748,
          1749,
          1750,
          1751,
          1752,
          1753,
          1754,
          1755,
          1756,
          1757,
          1758,
          1759,
          1760,
          1761,
          1762,
          1763,
          1764,
          1765,
          1766,
          1767,
          1768,
          1769,
          1770,
          1771,
          1772,
          1773,
          1774,
          1775,
          1776,
          1777,
          1778,
          1779,
          1780,
          1781,
          1782,
          1783,
          1784,
          1785,
          1786,
          1787,
          1788,
          1789,
          1790,
          1791,
          1792,
          1793,
          1794,
          1795,
          1796,
          1797,
          1798,
          1799,
          1800,
          1801,
          1802,
          1803,
          1804,
          1805,
          1806,
          1807,
          1808,
          1809,
          1810,
          1811,
          1812,
          1813,
          1814,
          1815,
          1816,
          1817,
          1818,
          1819,
          1820,
          1821,
          1822,
          1823,
          1824,
          1825,
          1826,
          1827,
          1828,
          1829,
          1830,
          1831,
          1832,
          1833,
          1834,
          1835,
          1836,
          1837,
          1838,
          1839,
          1840,
          1841,
          1842,
          1843,
          1844,
          1845,
          1846,
          1847,
          1848,
          1849,
          1850,
          1851,
          1852,
          1853,
          1854,
          1855,
          1856,
          1857,
          1858,
          1859,
          1860,
          1861,
          1862,
          1863,
          1864,
          1865,
          1866,
          1867,
          1868,
          1869,
          1870,
          1871,
          1872,
          1873,
          1874,
          1875,
          1876,
          1877,
          1878,
          1879,
          1880,
          1881,
          1882,
          1883,
          1884,
          1885,
          1886,
          1887,
          1888,
          1889,
          1890,
          1891,
          1892,
          1893,
          1894,
          1895,
          1896,
          1897,
          1898,
          1899,
          1900,
          1901,
          1902,
          1903,
          1904,
          1905,
          1906,
          1907,
          1908,
          1909,
          1910,
          1911,
          1912,
          1913,
          1914,
          1915,
          1916,
          1917,
          1918,
          1919,
          1920,
          1921,
          1922,
          1923,
          1924,
          1925,
          1926,
          1927,
          1928,
          1929,
          1930,
          1931,
          1932,
          1933,
          1934,
          1935,
          1936,
          1937,
          1938,
          1939,
          1940,
          1941,
          1942,
          1943,
          1944,
          1945,
          1946,
          1947,
          1948,
          1949,
          1950,
          1951,
          1952,
          1953,
          1954,
          1955,
          1956,
          1957,
          1958,
          1959,
          1960,
          1961,
          1962,
          1963,
          1964,
          1965,
          1966,
          1967,
          1968,
          1969,
          1970,
          1971,
          1972,
          1973,
          1974,
          1975,
          1976,
          1977,
          1978,
          1979,
          1980,
          1981,
          1982,
          1983,
          1984,
          1985,
          1986,
          1987,
          1988,
          1989,
          1990,
          1991,
          1992,
          1993,
          1994,
          1995,
          1996,
          1997,
          1998,
          1999,
          2000,
          2001,
          2002,
          2003,
          2004,
          2005,
          2006,
          2007,
          2008
         ],
         "y": [
          5,
          11,
          16,
          23,
          36,
          58,
          29,
          20,
          10,
          8,
          3,
          0,
          0,
          2,
          11,
          27,
          47,
          63,
          60,
          39,
          28,
          26,
          22,
          11,
          21,
          40,
          78,
          122,
          103,
          73,
          47,
          35,
          11,
          5,
          16,
          34,
          70,
          81,
          111,
          101,
          73,
          40,
          20,
          16,
          5,
          11,
          22,
          40,
          60,
          80.9,
          83.4,
          47.7,
          47.8,
          30.7,
          12.2,
          9.6,
          10.2,
          32.4,
          47.6,
          54,
          62.9,
          85.9,
          61.2,
          45.1,
          36.4,
          20.9,
          11.4,
          37.8,
          69.8,
          106.1,
          100.8,
          81.6,
          66.5,
          34.8,
          30.6,
          7,
          19.8,
          92.5,
          154.4,
          125.9,
          84.8,
          68.1,
          38.5,
          22.8,
          10.2,
          24.1,
          82.9,
          132,
          130.9,
          118.1,
          89.9,
          66.6,
          60,
          46.9,
          41,
          21.3,
          16,
          6.4,
          4.1,
          6.8,
          14.5,
          34,
          45,
          43.1,
          47.5,
          42.2,
          28.1,
          10.1,
          8.1,
          2.5,
          0,
          1.4,
          5,
          12.2,
          13.9,
          35.4,
          45.8,
          41.1,
          30.1,
          23.9,
          15.6,
          6.6,
          4,
          1.8,
          8.5,
          16.6,
          36.3,
          49.6,
          64.2,
          67,
          70.9,
          47.8,
          27.5,
          8.5,
          13.2,
          56.9,
          121.5,
          138.3,
          103.2,
          85.7,
          64.6,
          36.7,
          24.2,
          10.7,
          15,
          40.1,
          61.5,
          98.5,
          124.7,
          96.3,
          66.6,
          64.5,
          54.1,
          39,
          20.6,
          6.7,
          4.3,
          22.7,
          54.8,
          93.8,
          95.8,
          77.2,
          59.1,
          44,
          47,
          30.5,
          16.3,
          7.3,
          37.6,
          74,
          139,
          111.2,
          101.6,
          66.2,
          44.7,
          17,
          11.3,
          12.4,
          3.4,
          6,
          32.3,
          54.3,
          59.7,
          63.7,
          63.5,
          52.2,
          25.4,
          13.1,
          6.8,
          6.3,
          7.1,
          35.6,
          73,
          85.1,
          78,
          64,
          41.8,
          26.2,
          26.7,
          12.1,
          9.5,
          2.7,
          5,
          24.4,
          42,
          63.5,
          53.8,
          62,
          48.5,
          43.9,
          18.6,
          5.7,
          3.6,
          1.4,
          9.6,
          47.4,
          57.1,
          103.9,
          80.6,
          63.6,
          37.6,
          26.1,
          14.2,
          5.8,
          16.7,
          44.3,
          63.9,
          69,
          77.8,
          64.9,
          35.7,
          21.2,
          11.1,
          5.7,
          8.7,
          36.1,
          79.7,
          114.4,
          109.6,
          88.8,
          67.8,
          47.5,
          30.6,
          16.3,
          9.6,
          33.2,
          92.6,
          151.6,
          136.3,
          134.7,
          83.9,
          69.4,
          31.5,
          13.9,
          4.4,
          38,
          141.7,
          190.2,
          184.8,
          159,
          112.3,
          53.9,
          37.6,
          27.9,
          10.2,
          15.1,
          47,
          93.8,
          105.9,
          105.5,
          104.5,
          66.6,
          68.9,
          38,
          34.5,
          15.5,
          12.6,
          27.5,
          92.5,
          155.4,
          154.6,
          140.4,
          115.9,
          66.6,
          45.9,
          17.9,
          13.4,
          29.4,
          100.2,
          157.6,
          142.6,
          145.7,
          94.3,
          54.6,
          29.9,
          17.5,
          8.6,
          21.5,
          64.3,
          93.3,
          119.6,
          111,
          104,
          63.7,
          40.4,
          29.8,
          15.2,
          7.5,
          2.9
         ]
        },
        {
         "mode": "lines",
         "name": "MyArima",
         "type": "scatter",
         "x": [
          1964,
          1965,
          1966,
          1967,
          1968,
          1969,
          1970,
          1971,
          1972,
          1973,
          1974,
          1975,
          1976,
          1977,
          1978,
          1979,
          1980,
          1981,
          1982,
          1983,
          1984,
          1985,
          1986,
          1987,
          1988,
          1989,
          1990,
          1991,
          1992,
          1993,
          1994,
          1995,
          1996,
          1997,
          1998,
          1999,
          2000,
          2001,
          2002,
          2003,
          2004,
          2005,
          2006,
          2007,
          2008
         ],
         "y": [
          28.178518526239117,
          24.597908634736875,
          23.704313866721783,
          41.05189320982576,
          69.09821795991812,
          83.42501991206731,
          80.53525944729304,
          79.3442471835541,
          56.73118525573992,
          23.56105198144359,
          10.759291030427105,
          6.958736408784656,
          9.250800829543525,
          22.092888483144698,
          58.84423649545268,
          104.23547657816607,
          129.69624667212122,
          110.49947052025472,
          76.18173767614708,
          47.62056468033196,
          29.10714033463244,
          19.492454062601666,
          15.526590564865014,
          17.161680245028517,
          41.99494668192444,
          92.25724253050507,
          133.13914960880956,
          105.75521324309915,
          97.69214206090433,
          55.798797556850595,
          55.75132255554422,
          37.25775099715979,
          33.39330871127737,
          29.553917873505704,
          55.74365430727665,
          131.08213516449533,
          142.89227664590402,
          113.4587136031559,
          84.51834011700903,
          63.35569049001458,
          44.24246188595675,
          63.82991933574213,
          73.27768115735464,
          71.16274662108538,
          54.14657118797399
         ]
        },
        {
         "mode": "lines",
         "name": "StatsForecast",
         "type": "scatter",
         "x": [
          1964,
          1965,
          1966,
          1967,
          1968,
          1969,
          1970,
          1971,
          1972,
          1973,
          1974,
          1975,
          1976,
          1977,
          1978,
          1979,
          1980,
          1981,
          1982,
          1983,
          1984,
          1985,
          1986,
          1987,
          1988,
          1989,
          1990,
          1991,
          1992,
          1993,
          1994,
          1995,
          1996,
          1997,
          1998,
          1999,
          2000,
          2001,
          2002,
          2003,
          2004,
          2005,
          2006,
          2007,
          2008
         ],
         "y": [
          27.09948141345709,
          31.603159298195624,
          41.30231028700208,
          47.26347126717383,
          56.68741839135676,
          62.01300304519776,
          59.53865889661069,
          55.968143485476254,
          37.2383070154734,
          21.780901552186698,
          18.11103364866428,
          17.88051347165117,
          22.65480871766878,
          41.132042039791415,
          63.34037499988726,
          79.95507667546114,
          89.35638392742057,
          79.38945949340297,
          58.92537354607949,
          40.80636897227322,
          31.014085164450712,
          17.668911687597465,
          14.321196460035233,
          14.2961252654965,
          30.945391587119502,
          62.35068055888117,
          89.22740059117228,
          90.06552539110339,
          82.47036049392372,
          67.62662451611484,
          53.23113503706371,
          34.47188531862203,
          14.880894998459572,
          10.729881965911453,
          28.68830470418322,
          77.85785337230212,
          94.95495431121591,
          108.3423059733517,
          96.91733054339316,
          96.81142767313091,
          59.57725244552301,
          44.79478596873745,
          29.60026714127208,
          22.548248487467976,
          19.312924245679493
         ]
        }
       ],
       "layout": {
        "showlegend": true,
        "template": {
         "data": {
          "bar": [
           {
            "error_x": {
             "color": "#2a3f5f"
            },
            "error_y": {
             "color": "#2a3f5f"
            },
            "marker": {
             "line": {
              "color": "#E5ECF6",
              "width": 0.5
             },
             "pattern": {
              "fillmode": "overlay",
              "size": 10,
              "solidity": 0.2
             }
            },
            "type": "bar"
           }
          ],
          "barpolar": [
           {
            "marker": {
             "line": {
              "color": "#E5ECF6",
              "width": 0.5
             },
             "pattern": {
              "fillmode": "overlay",
              "size": 10,
              "solidity": 0.2
             }
            },
            "type": "barpolar"
           }
          ],
          "carpet": [
           {
            "aaxis": {
             "endlinecolor": "#2a3f5f",
             "gridcolor": "white",
             "linecolor": "white",
             "minorgridcolor": "white",
             "startlinecolor": "#2a3f5f"
            },
            "baxis": {
             "endlinecolor": "#2a3f5f",
             "gridcolor": "white",
             "linecolor": "white",
             "minorgridcolor": "white",
             "startlinecolor": "#2a3f5f"
            },
            "type": "carpet"
           }
          ],
          "choropleth": [
           {
            "colorbar": {
             "outlinewidth": 0,
             "ticks": ""
            },
            "type": "choropleth"
           }
          ],
          "contour": [
           {
            "colorbar": {
             "outlinewidth": 0,
             "ticks": ""
            },
            "colorscale": [
             [
              0,
              "#0d0887"
             ],
             [
              0.1111111111111111,
              "#46039f"
             ],
             [
              0.2222222222222222,
              "#7201a8"
             ],
             [
              0.3333333333333333,
              "#9c179e"
             ],
             [
              0.4444444444444444,
              "#bd3786"
             ],
             [
              0.5555555555555556,
              "#d8576b"
             ],
             [
              0.6666666666666666,
              "#ed7953"
             ],
             [
              0.7777777777777778,
              "#fb9f3a"
             ],
             [
              0.8888888888888888,
              "#fdca26"
             ],
             [
              1,
              "#f0f921"
             ]
            ],
            "type": "contour"
           }
          ],
          "contourcarpet": [
           {
            "colorbar": {
             "outlinewidth": 0,
             "ticks": ""
            },
            "type": "contourcarpet"
           }
          ],
          "heatmap": [
           {
            "colorbar": {
             "outlinewidth": 0,
             "ticks": ""
            },
            "colorscale": [
             [
              0,
              "#0d0887"
             ],
             [
              0.1111111111111111,
              "#46039f"
             ],
             [
              0.2222222222222222,
              "#7201a8"
             ],
             [
              0.3333333333333333,
              "#9c179e"
             ],
             [
              0.4444444444444444,
              "#bd3786"
             ],
             [
              0.5555555555555556,
              "#d8576b"
             ],
             [
              0.6666666666666666,
              "#ed7953"
             ],
             [
              0.7777777777777778,
              "#fb9f3a"
             ],
             [
              0.8888888888888888,
              "#fdca26"
             ],
             [
              1,
              "#f0f921"
             ]
            ],
            "type": "heatmap"
           }
          ],
          "heatmapgl": [
           {
            "colorbar": {
             "outlinewidth": 0,
             "ticks": ""
            },
            "colorscale": [
             [
              0,
              "#0d0887"
             ],
             [
              0.1111111111111111,
              "#46039f"
             ],
             [
              0.2222222222222222,
              "#7201a8"
             ],
             [
              0.3333333333333333,
              "#9c179e"
             ],
             [
              0.4444444444444444,
              "#bd3786"
             ],
             [
              0.5555555555555556,
              "#d8576b"
             ],
             [
              0.6666666666666666,
              "#ed7953"
             ],
             [
              0.7777777777777778,
              "#fb9f3a"
             ],
             [
              0.8888888888888888,
              "#fdca26"
             ],
             [
              1,
              "#f0f921"
             ]
            ],
            "type": "heatmapgl"
           }
          ],
          "histogram": [
           {
            "marker": {
             "pattern": {
              "fillmode": "overlay",
              "size": 10,
              "solidity": 0.2
             }
            },
            "type": "histogram"
           }
          ],
          "histogram2d": [
           {
            "colorbar": {
             "outlinewidth": 0,
             "ticks": ""
            },
            "colorscale": [
             [
              0,
              "#0d0887"
             ],
             [
              0.1111111111111111,
              "#46039f"
             ],
             [
              0.2222222222222222,
              "#7201a8"
             ],
             [
              0.3333333333333333,
              "#9c179e"
             ],
             [
              0.4444444444444444,
              "#bd3786"
             ],
             [
              0.5555555555555556,
              "#d8576b"
             ],
             [
              0.6666666666666666,
              "#ed7953"
             ],
             [
              0.7777777777777778,
              "#fb9f3a"
             ],
             [
              0.8888888888888888,
              "#fdca26"
             ],
             [
              1,
              "#f0f921"
             ]
            ],
            "type": "histogram2d"
           }
          ],
          "histogram2dcontour": [
           {
            "colorbar": {
             "outlinewidth": 0,
             "ticks": ""
            },
            "colorscale": [
             [
              0,
              "#0d0887"
             ],
             [
              0.1111111111111111,
              "#46039f"
             ],
             [
              0.2222222222222222,
              "#7201a8"
             ],
             [
              0.3333333333333333,
              "#9c179e"
             ],
             [
              0.4444444444444444,
              "#bd3786"
             ],
             [
              0.5555555555555556,
              "#d8576b"
             ],
             [
              0.6666666666666666,
              "#ed7953"
             ],
             [
              0.7777777777777778,
              "#fb9f3a"
             ],
             [
              0.8888888888888888,
              "#fdca26"
             ],
             [
              1,
              "#f0f921"
             ]
            ],
            "type": "histogram2dcontour"
           }
          ],
          "mesh3d": [
           {
            "colorbar": {
             "outlinewidth": 0,
             "ticks": ""
            },
            "type": "mesh3d"
           }
          ],
          "parcoords": [
           {
            "line": {
             "colorbar": {
              "outlinewidth": 0,
              "ticks": ""
             }
            },
            "type": "parcoords"
           }
          ],
          "pie": [
           {
            "automargin": true,
            "type": "pie"
           }
          ],
          "scatter": [
           {
            "fillpattern": {
             "fillmode": "overlay",
             "size": 10,
             "solidity": 0.2
            },
            "type": "scatter"
           }
          ],
          "scatter3d": [
           {
            "line": {
             "colorbar": {
              "outlinewidth": 0,
              "ticks": ""
             }
            },
            "marker": {
             "colorbar": {
              "outlinewidth": 0,
              "ticks": ""
             }
            },
            "type": "scatter3d"
           }
          ],
          "scattercarpet": [
           {
            "marker": {
             "colorbar": {
              "outlinewidth": 0,
              "ticks": ""
             }
            },
            "type": "scattercarpet"
           }
          ],
          "scattergeo": [
           {
            "marker": {
             "colorbar": {
              "outlinewidth": 0,
              "ticks": ""
             }
            },
            "type": "scattergeo"
           }
          ],
          "scattergl": [
           {
            "marker": {
             "colorbar": {
              "outlinewidth": 0,
              "ticks": ""
             }
            },
            "type": "scattergl"
           }
          ],
          "scattermapbox": [
           {
            "marker": {
             "colorbar": {
              "outlinewidth": 0,
              "ticks": ""
             }
            },
            "type": "scattermapbox"
           }
          ],
          "scatterpolar": [
           {
            "marker": {
             "colorbar": {
              "outlinewidth": 0,
              "ticks": ""
             }
            },
            "type": "scatterpolar"
           }
          ],
          "scatterpolargl": [
           {
            "marker": {
             "colorbar": {
              "outlinewidth": 0,
              "ticks": ""
             }
            },
            "type": "scatterpolargl"
           }
          ],
          "scatterternary": [
           {
            "marker": {
             "colorbar": {
              "outlinewidth": 0,
              "ticks": ""
             }
            },
            "type": "scatterternary"
           }
          ],
          "surface": [
           {
            "colorbar": {
             "outlinewidth": 0,
             "ticks": ""
            },
            "colorscale": [
             [
              0,
              "#0d0887"
             ],
             [
              0.1111111111111111,
              "#46039f"
             ],
             [
              0.2222222222222222,
              "#7201a8"
             ],
             [
              0.3333333333333333,
              "#9c179e"
             ],
             [
              0.4444444444444444,
              "#bd3786"
             ],
             [
              0.5555555555555556,
              "#d8576b"
             ],
             [
              0.6666666666666666,
              "#ed7953"
             ],
             [
              0.7777777777777778,
              "#fb9f3a"
             ],
             [
              0.8888888888888888,
              "#fdca26"
             ],
             [
              1,
              "#f0f921"
             ]
            ],
            "type": "surface"
           }
          ],
          "table": [
           {
            "cells": {
             "fill": {
              "color": "#EBF0F8"
             },
             "line": {
              "color": "white"
             }
            },
            "header": {
             "fill": {
              "color": "#C8D4E3"
             },
             "line": {
              "color": "white"
             }
            },
            "type": "table"
           }
          ]
         },
         "layout": {
          "annotationdefaults": {
           "arrowcolor": "#2a3f5f",
           "arrowhead": 0,
           "arrowwidth": 1
          },
          "autotypenumbers": "strict",
          "coloraxis": {
           "colorbar": {
            "outlinewidth": 0,
            "ticks": ""
           }
          },
          "colorscale": {
           "diverging": [
            [
             0,
             "#8e0152"
            ],
            [
             0.1,
             "#c51b7d"
            ],
            [
             0.2,
             "#de77ae"
            ],
            [
             0.3,
             "#f1b6da"
            ],
            [
             0.4,
             "#fde0ef"
            ],
            [
             0.5,
             "#f7f7f7"
            ],
            [
             0.6,
             "#e6f5d0"
            ],
            [
             0.7,
             "#b8e186"
            ],
            [
             0.8,
             "#7fbc41"
            ],
            [
             0.9,
             "#4d9221"
            ],
            [
             1,
             "#276419"
            ]
           ],
           "sequential": [
            [
             0,
             "#0d0887"
            ],
            [
             0.1111111111111111,
             "#46039f"
            ],
            [
             0.2222222222222222,
             "#7201a8"
            ],
            [
             0.3333333333333333,
             "#9c179e"
            ],
            [
             0.4444444444444444,
             "#bd3786"
            ],
            [
             0.5555555555555556,
             "#d8576b"
            ],
            [
             0.6666666666666666,
             "#ed7953"
            ],
            [
             0.7777777777777778,
             "#fb9f3a"
            ],
            [
             0.8888888888888888,
             "#fdca26"
            ],
            [
             1,
             "#f0f921"
            ]
           ],
           "sequentialminus": [
            [
             0,
             "#0d0887"
            ],
            [
             0.1111111111111111,
             "#46039f"
            ],
            [
             0.2222222222222222,
             "#7201a8"
            ],
            [
             0.3333333333333333,
             "#9c179e"
            ],
            [
             0.4444444444444444,
             "#bd3786"
            ],
            [
             0.5555555555555556,
             "#d8576b"
            ],
            [
             0.6666666666666666,
             "#ed7953"
            ],
            [
             0.7777777777777778,
             "#fb9f3a"
            ],
            [
             0.8888888888888888,
             "#fdca26"
            ],
            [
             1,
             "#f0f921"
            ]
           ]
          },
          "colorway": [
           "#636efa",
           "#EF553B",
           "#00cc96",
           "#ab63fa",
           "#FFA15A",
           "#19d3f3",
           "#FF6692",
           "#B6E880",
           "#FF97FF",
           "#FECB52"
          ],
          "font": {
           "color": "#2a3f5f"
          },
          "geo": {
           "bgcolor": "white",
           "lakecolor": "white",
           "landcolor": "#E5ECF6",
           "showlakes": true,
           "showland": true,
           "subunitcolor": "white"
          },
          "hoverlabel": {
           "align": "left"
          },
          "hovermode": "closest",
          "mapbox": {
           "style": "light"
          },
          "paper_bgcolor": "white",
          "plot_bgcolor": "#E5ECF6",
          "polar": {
           "angularaxis": {
            "gridcolor": "white",
            "linecolor": "white",
            "ticks": ""
           },
           "bgcolor": "#E5ECF6",
           "radialaxis": {
            "gridcolor": "white",
            "linecolor": "white",
            "ticks": ""
           }
          },
          "scene": {
           "xaxis": {
            "backgroundcolor": "#E5ECF6",
            "gridcolor": "white",
            "gridwidth": 2,
            "linecolor": "white",
            "showbackground": true,
            "ticks": "",
            "zerolinecolor": "white"
           },
           "yaxis": {
            "backgroundcolor": "#E5ECF6",
            "gridcolor": "white",
            "gridwidth": 2,
            "linecolor": "white",
            "showbackground": true,
            "ticks": "",
            "zerolinecolor": "white"
           },
           "zaxis": {
            "backgroundcolor": "#E5ECF6",
            "gridcolor": "white",
            "gridwidth": 2,
            "linecolor": "white",
            "showbackground": true,
            "ticks": "",
            "zerolinecolor": "white"
           }
          },
          "shapedefaults": {
           "line": {
            "color": "#2a3f5f"
           }
          },
          "ternary": {
           "aaxis": {
            "gridcolor": "white",
            "linecolor": "white",
            "ticks": ""
           },
           "baxis": {
            "gridcolor": "white",
            "linecolor": "white",
            "ticks": ""
           },
           "bgcolor": "#E5ECF6",
           "caxis": {
            "gridcolor": "white",
            "linecolor": "white",
            "ticks": ""
           }
          },
          "title": {
           "x": 0.05
          },
          "xaxis": {
           "automargin": true,
           "gridcolor": "white",
           "linecolor": "white",
           "ticks": "",
           "title": {
            "standoff": 15
           },
           "zerolinecolor": "white",
           "zerolinewidth": 2
          },
          "yaxis": {
           "automargin": true,
           "gridcolor": "white",
           "linecolor": "white",
           "ticks": "",
           "title": {
            "standoff": 15
           },
           "zerolinecolor": "white",
           "zerolinewidth": 2
          }
         }
        }
       }
      }
     },
     "metadata": {},
     "output_type": "display_data"
    }
   ],
   "source": [
    "sunspots = Run(\n",
    "    df=sm.datasets.sunspots.load_pandas().data,\n",
    "    ds=\"YEAR\",\n",
    "    y=\"SUNACTIVITY\",\n",
    "    h=45\n",
    ")\n",
    "sunspots.assign_params(\n",
    "        # search_params=search_params,\n",
    "    default_params=HyperParams((5, 0, 0), (2, 1, 0, 43))\n",
    ")\n",
    "sunspots.add_preds(my_preds, \"MyArima\")\n",
    "sunspots.add_preds(sf_preds, \"StatsForecast\")\n",
    "sunspots.add_preds(sm_preds, \"StatsModels\")\n",
    "sunspots.plot()"
   ]
  },
  {
   "cell_type": "markdown",
   "metadata": {},
   "source": [
    "# AUSSIE BEER PRODUCTION"
   ]
  },
  {
   "cell_type": "code",
   "execution_count": 135,
   "metadata": {},
   "outputs": [
    {
     "name": "stdout",
     "output_type": "stream",
     "text": [
      "Max iterations = 882\n"
     ]
    }
   ],
   "source": [
    "search_params = SearchParams(\n",
    "    start_p=0,\n",
    "    max_p=6,\n",
    "    d=0,\n",
    "    max_d=1,\n",
    "    start_q=0,\n",
    "    max_q=6,\n",
    "    start_P=0,\n",
    "    max_P=2,\n",
    "    start_Q=0,\n",
    "    max_Q=2,\n",
    "    D=2,\n",
    "    seasonal=True,\n",
    "    m=12,\n",
    "    maxiter=50,\n",
    ")\n",
    "search_params.count_max_enumerations()"
   ]
  },
  {
   "cell_type": "code",
   "execution_count": 158,
   "metadata": {},
   "outputs": [
    {
     "name": "stdout",
     "output_type": "stream",
     "text": [
      "Time for my_preds: 0.01 seconds.\n",
      "Time for sf_preds: 0.96 seconds.\n",
      "Time for sm_preds: 15.05 seconds.\n"
     ]
    },
    {
     "data": {
      "application/vnd.plotly.v1+json": {
       "config": {
        "plotlyServerURL": "https://plot.ly"
       },
       "data": [
        {
         "mode": "lines",
         "name": "Monthly beer production",
         "type": "scatter",
         "x": [
          "1956-01",
          "1956-02",
          "1956-03",
          "1956-04",
          "1956-05",
          "1956-06",
          "1956-07",
          "1956-08",
          "1956-09",
          "1956-10",
          "1956-11",
          "1956-12",
          "1957-01",
          "1957-02",
          "1957-03",
          "1957-04",
          "1957-05",
          "1957-06",
          "1957-07",
          "1957-08",
          "1957-09",
          "1957-10",
          "1957-11",
          "1957-12",
          "1958-01",
          "1958-02",
          "1958-03",
          "1958-04",
          "1958-05",
          "1958-06",
          "1958-07",
          "1958-08",
          "1958-09",
          "1958-10",
          "1958-11",
          "1958-12",
          "1959-01",
          "1959-02",
          "1959-03",
          "1959-04",
          "1959-05",
          "1959-06",
          "1959-07",
          "1959-08",
          "1959-09",
          "1959-10",
          "1959-11",
          "1959-12",
          "1960-01",
          "1960-02",
          "1960-03",
          "1960-04",
          "1960-05",
          "1960-06",
          "1960-07",
          "1960-08",
          "1960-09",
          "1960-10",
          "1960-11",
          "1960-12",
          "1961-01",
          "1961-02",
          "1961-03",
          "1961-04",
          "1961-05",
          "1961-06",
          "1961-07",
          "1961-08",
          "1961-09",
          "1961-10",
          "1961-11",
          "1961-12",
          "1962-01",
          "1962-02",
          "1962-03",
          "1962-04",
          "1962-05",
          "1962-06",
          "1962-07",
          "1962-08",
          "1962-09",
          "1962-10",
          "1962-11",
          "1962-12",
          "1963-01",
          "1963-02",
          "1963-03",
          "1963-04",
          "1963-05",
          "1963-06",
          "1963-07",
          "1963-08",
          "1963-09",
          "1963-10",
          "1963-11",
          "1963-12",
          "1964-01",
          "1964-02",
          "1964-03",
          "1964-04",
          "1964-05",
          "1964-06",
          "1964-07",
          "1964-08",
          "1964-09",
          "1964-10",
          "1964-11",
          "1964-12",
          "1965-01",
          "1965-02",
          "1965-03",
          "1965-04",
          "1965-05",
          "1965-06",
          "1965-07",
          "1965-08",
          "1965-09",
          "1965-10",
          "1965-11",
          "1965-12",
          "1966-01",
          "1966-02",
          "1966-03",
          "1966-04",
          "1966-05",
          "1966-06",
          "1966-07",
          "1966-08",
          "1966-09",
          "1966-10",
          "1966-11",
          "1966-12",
          "1967-01",
          "1967-02",
          "1967-03",
          "1967-04",
          "1967-05",
          "1967-06",
          "1967-07",
          "1967-08",
          "1967-09",
          "1967-10",
          "1967-11",
          "1967-12",
          "1968-01",
          "1968-02",
          "1968-03",
          "1968-04",
          "1968-05",
          "1968-06",
          "1968-07",
          "1968-08",
          "1968-09",
          "1968-10",
          "1968-11",
          "1968-12",
          "1969-01",
          "1969-02",
          "1969-03",
          "1969-04",
          "1969-05",
          "1969-06",
          "1969-07",
          "1969-08",
          "1969-09",
          "1969-10",
          "1969-11",
          "1969-12",
          "1970-01",
          "1970-02",
          "1970-03",
          "1970-04",
          "1970-05",
          "1970-06",
          "1970-07",
          "1970-08",
          "1970-09",
          "1970-10",
          "1970-11",
          "1970-12",
          "1971-01",
          "1971-02",
          "1971-03",
          "1971-04",
          "1971-05",
          "1971-06",
          "1971-07",
          "1971-08",
          "1971-09",
          "1971-10",
          "1971-11",
          "1971-12",
          "1972-01",
          "1972-02",
          "1972-03",
          "1972-04",
          "1972-05",
          "1972-06",
          "1972-07",
          "1972-08",
          "1972-09",
          "1972-10",
          "1972-11",
          "1972-12",
          "1973-01",
          "1973-02",
          "1973-03",
          "1973-04",
          "1973-05",
          "1973-06",
          "1973-07",
          "1973-08",
          "1973-09",
          "1973-10",
          "1973-11",
          "1973-12",
          "1974-01",
          "1974-02",
          "1974-03",
          "1974-04",
          "1974-05",
          "1974-06",
          "1974-07",
          "1974-08",
          "1974-09",
          "1974-10",
          "1974-11",
          "1974-12",
          "1975-01",
          "1975-02",
          "1975-03",
          "1975-04",
          "1975-05",
          "1975-06",
          "1975-07",
          "1975-08",
          "1975-09",
          "1975-10",
          "1975-11",
          "1975-12",
          "1976-01",
          "1976-02",
          "1976-03",
          "1976-04",
          "1976-05",
          "1976-06",
          "1976-07",
          "1976-08",
          "1976-09",
          "1976-10",
          "1976-11",
          "1976-12",
          "1977-01",
          "1977-02",
          "1977-03",
          "1977-04",
          "1977-05",
          "1977-06",
          "1977-07",
          "1977-08",
          "1977-09",
          "1977-10",
          "1977-11",
          "1977-12",
          "1978-01",
          "1978-02",
          "1978-03",
          "1978-04",
          "1978-05",
          "1978-06",
          "1978-07",
          "1978-08",
          "1978-09",
          "1978-10",
          "1978-11",
          "1978-12",
          "1979-01",
          "1979-02",
          "1979-03",
          "1979-04",
          "1979-05",
          "1979-06",
          "1979-07",
          "1979-08",
          "1979-09",
          "1979-10",
          "1979-11",
          "1979-12",
          "1980-01",
          "1980-02",
          "1980-03",
          "1980-04",
          "1980-05",
          "1980-06",
          "1980-07",
          "1980-08",
          "1980-09",
          "1980-10",
          "1980-11",
          "1980-12",
          "1981-01",
          "1981-02",
          "1981-03",
          "1981-04",
          "1981-05",
          "1981-06",
          "1981-07",
          "1981-08",
          "1981-09",
          "1981-10",
          "1981-11",
          "1981-12",
          "1982-01",
          "1982-02",
          "1982-03",
          "1982-04",
          "1982-05",
          "1982-06",
          "1982-07",
          "1982-08",
          "1982-09",
          "1982-10",
          "1982-11",
          "1982-12",
          "1983-01",
          "1983-02",
          "1983-03",
          "1983-04",
          "1983-05",
          "1983-06",
          "1983-07",
          "1983-08",
          "1983-09",
          "1983-10",
          "1983-11",
          "1983-12",
          "1984-01",
          "1984-02",
          "1984-03",
          "1984-04",
          "1984-05",
          "1984-06",
          "1984-07",
          "1984-08",
          "1984-09",
          "1984-10",
          "1984-11",
          "1984-12",
          "1985-01",
          "1985-02",
          "1985-03",
          "1985-04",
          "1985-05",
          "1985-06",
          "1985-07",
          "1985-08",
          "1985-09",
          "1985-10",
          "1985-11",
          "1985-12",
          "1986-01",
          "1986-02",
          "1986-03",
          "1986-04",
          "1986-05",
          "1986-06",
          "1986-07",
          "1986-08",
          "1986-09",
          "1986-10",
          "1986-11",
          "1986-12",
          "1987-01",
          "1987-02",
          "1987-03",
          "1987-04",
          "1987-05",
          "1987-06",
          "1987-07",
          "1987-08",
          "1987-09",
          "1987-10",
          "1987-11",
          "1987-12",
          "1988-01",
          "1988-02",
          "1988-03",
          "1988-04",
          "1988-05",
          "1988-06",
          "1988-07",
          "1988-08",
          "1988-09",
          "1988-10",
          "1988-11",
          "1988-12",
          "1989-01",
          "1989-02",
          "1989-03",
          "1989-04",
          "1989-05",
          "1989-06",
          "1989-07",
          "1989-08",
          "1989-09",
          "1989-10",
          "1989-11",
          "1989-12",
          "1990-01",
          "1990-02",
          "1990-03",
          "1990-04",
          "1990-05",
          "1990-06",
          "1990-07",
          "1990-08",
          "1990-09",
          "1990-10",
          "1990-11",
          "1990-12",
          "1991-01",
          "1991-02",
          "1991-03",
          "1991-04",
          "1991-05",
          "1991-06",
          "1991-07",
          "1991-08",
          "1991-09",
          "1991-10",
          "1991-11",
          "1991-12",
          "1992-01",
          "1992-02",
          "1992-03",
          "1992-04",
          "1992-05",
          "1992-06",
          "1992-07",
          "1992-08",
          "1992-09",
          "1992-10",
          "1992-11",
          "1992-12",
          "1993-01",
          "1993-02",
          "1993-03",
          "1993-04",
          "1993-05",
          "1993-06",
          "1993-07",
          "1993-08",
          "1993-09",
          "1993-10",
          "1993-11",
          "1993-12",
          "1994-01",
          "1994-02",
          "1994-03",
          "1994-04",
          "1994-05",
          "1994-06",
          "1994-07",
          "1994-08",
          "1994-09",
          "1994-10",
          "1994-11",
          "1994-12",
          "1995-01",
          "1995-02",
          "1995-03",
          "1995-04",
          "1995-05",
          "1995-06",
          "1995-07",
          "1995-08"
         ],
         "y": [
          93.2,
          96,
          95.2,
          77.1,
          70.9,
          64.8,
          70.1,
          77.3,
          79.5,
          100.6,
          100.7,
          107.1,
          95.9,
          82.8,
          83.3,
          80,
          80.4,
          67.5,
          75.7,
          71.1,
          89.3,
          101.1,
          105.2,
          114.1,
          96.3,
          84.4,
          91.2,
          81.9,
          80.5,
          70.4,
          74.8,
          75.9,
          86.3,
          98.7,
          100.9,
          113.8,
          89.8,
          84.4,
          87.2,
          85.6,
          72,
          69.2,
          77.5,
          78.1,
          94.3,
          97.7,
          100.2,
          116.4,
          97.1,
          93,
          96,
          80.5,
          76.1,
          69.9,
          73.6,
          92.6,
          94.2,
          93.5,
          108.5,
          109.4,
          105.1,
          92.5,
          97.1,
          81.4,
          79.1,
          72.1,
          78.7,
          87.1,
          91.4,
          109.9,
          116.3,
          113,
          100,
          84.8,
          94.3,
          87.1,
          90.3,
          72.4,
          84.9,
          92.7,
          92.2,
          114.9,
          112.5,
          118.3,
          106,
          91.2,
          96.6,
          96.3,
          88.2,
          70.2,
          86.5,
          88.2,
          102.8,
          119.1,
          119.2,
          125.1,
          106.1,
          102.1,
          105.2,
          101,
          84.3,
          87.5,
          92.7,
          94.4,
          113,
          113.9,
          122.9,
          132.7,
          106.9,
          96.6,
          127.3,
          98.2,
          100.2,
          89.4,
          95.3,
          104.2,
          106.4,
          116.2,
          135.9,
          134,
          104.6,
          107.1,
          123.5,
          98.8,
          98.6,
          90.6,
          89.1,
          105.2,
          114,
          122.1,
          138,
          142.2,
          116.4,
          112.6,
          123.8,
          103.6,
          113.9,
          98.6,
          95,
          116,
          113.9,
          127.5,
          131.4,
          145.9,
          131.5,
          131,
          130.5,
          118.9,
          114.3,
          85.7,
          104.6,
          105.1,
          117.3,
          142.5,
          140,
          159.8,
          131.2,
          125.4,
          126.5,
          119.4,
          113.5,
          98.7,
          114.5,
          113.8,
          133.1,
          143.4,
          137.3,
          165.2,
          126.9,
          124,
          135.7,
          130,
          109.4,
          117.8,
          120.3,
          121,
          132.3,
          142.9,
          147.4,
          175.9,
          132.6,
          123.7,
          153.3,
          134,
          119.6,
          116.2,
          118.6,
          130.7,
          129.3,
          144.4,
          163.2,
          179.4,
          128.1,
          138.4,
          152.7,
          120,
          140.5,
          116.2,
          121.4,
          127.8,
          143.6,
          157.6,
          166.2,
          182.3,
          153.1,
          147.6,
          157.7,
          137.2,
          151.5,
          98.7,
          145.8,
          151.7,
          129.4,
          174.1,
          197,
          193.9,
          164.1,
          142.8,
          157.9,
          159.2,
          162.2,
          123.1,
          130,
          150.1,
          169.4,
          179.7,
          182.1,
          194.3,
          161.4,
          169.4,
          168.8,
          158.1,
          158.5,
          135.3,
          149.3,
          143.4,
          142.2,
          188.4,
          166.2,
          199.2,
          182.7,
          145.2,
          182.1,
          158.7,
          141.6,
          132.6,
          139.6,
          147,
          166.6,
          157,
          180.4,
          210.2,
          159.8,
          157.8,
          168.2,
          158.4,
          152,
          142.2,
          137.2,
          152.6,
          166.8,
          165.6,
          198.6,
          201.5,
          170.7,
          164.4,
          179.7,
          157,
          168,
          139.3,
          138.6,
          153.4,
          138.9,
          172.1,
          198.4,
          217.8,
          173.7,
          153.8,
          175.6,
          147.1,
          160.3,
          135.2,
          148.8,
          151,
          148.2,
          182.2,
          189.2,
          183.1,
          170,
          158.4,
          176.1,
          156.2,
          153.2,
          117.9,
          149.8,
          156.6,
          166.7,
          156.8,
          158.6,
          210.8,
          203.6,
          175.2,
          168.7,
          155.9,
          147.3,
          137,
          141.1,
          167.4,
          160.2,
          191.9,
          174.4,
          208.2,
          159.4,
          161.1,
          172.1,
          158.4,
          114.6,
          159.6,
          159.7,
          159.4,
          160.7,
          165.5,
          205,
          205.2,
          141.6,
          148.1,
          184.9,
          132.5,
          137.3,
          135.5,
          121.7,
          166.1,
          146.8,
          162.8,
          186.8,
          185.5,
          151.5,
          158.1,
          143,
          151.2,
          147.6,
          130.7,
          137.5,
          146.1,
          133.6,
          167.9,
          181.9,
          202,
          166.5,
          151.3,
          146.2,
          148.3,
          144.7,
          123.6,
          151.6,
          133.9,
          137.4,
          181.6,
          182,
          190,
          161.2,
          155.5,
          141.9,
          164.6,
          136.2,
          126.8,
          152.5,
          126.6,
          150.1,
          186.3,
          147.5,
          200.4,
          177.2,
          127.4,
          177.1,
          154.4,
          135.2,
          126.4,
          147.3,
          140.6,
          152.3,
          151.2,
          172.2,
          215.3,
          154.1,
          159.3,
          160.4,
          151.9,
          148.4,
          139.6,
          148.2,
          153.5,
          145.1,
          183.7,
          210.5,
          203.3,
          153.3,
          144.3,
          169.6,
          143.7,
          160.1,
          135.6,
          141.8,
          159.9,
          145.7,
          183.5,
          198.2,
          186.8,
          172,
          150.6,
          163.3,
          153.7,
          152.9,
          135.5,
          148.5,
          148.4,
          133.6,
          194.1,
          208.6,
          197.3,
          164.4,
          148.1,
          152,
          144.1,
          155,
          124.5,
          153,
          146,
          138,
          190,
          192,
          192,
          147,
          133,
          163,
          150,
          129,
          131,
          145,
          137,
          138,
          168,
          176,
          188,
          139,
          143,
          150,
          154,
          137,
          129,
          128,
          140,
          143,
          151,
          177,
          184,
          151,
          134,
          164,
          126,
          131,
          125,
          127,
          143,
          143,
          160,
          190,
          182,
          138,
          136,
          152,
          127,
          151,
          130,
          119,
          153
         ]
        },
        {
         "mode": "lines",
         "name": "MyArima",
         "type": "scatter",
         "x": [
          "1994-09",
          "1994-10",
          "1994-11",
          "1994-12",
          "1995-01",
          "1995-02",
          "1995-03",
          "1995-04",
          "1995-05",
          "1995-06",
          "1995-07",
          "1995-08"
         ],
         "y": [
          137.2130587110309,
          144.4761975151019,
          170.77009011526184,
          180.51226826509784,
          150.56176202673637,
          128.1700341346821,
          159.40480256449266,
          124.66723448186048,
          129.53276574353603,
          109.22962336000003,
          125.59959616360811,
          141.90936587190944
         ]
        },
        {
         "mode": "lines",
         "name": "StatsForecast",
         "type": "scatter",
         "x": [
          "1994-09",
          "1994-10",
          "1994-11",
          "1994-12",
          "1995-01",
          "1995-02",
          "1995-03",
          "1995-04",
          "1995-05",
          "1995-06",
          "1995-07",
          "1995-08"
         ],
         "y": [
          135.30115539454368,
          154.33893436194384,
          178.2477246212806,
          183.5975210970214,
          146.7556848355931,
          136.67276768177905,
          158.75573957761569,
          137.0093998370658,
          133.2526407512949,
          127.185088939172,
          127.83062377630128,
          142.77143464273274
         ]
        }
       ],
       "layout": {
        "showlegend": true,
        "template": {
         "data": {
          "bar": [
           {
            "error_x": {
             "color": "#2a3f5f"
            },
            "error_y": {
             "color": "#2a3f5f"
            },
            "marker": {
             "line": {
              "color": "#E5ECF6",
              "width": 0.5
             },
             "pattern": {
              "fillmode": "overlay",
              "size": 10,
              "solidity": 0.2
             }
            },
            "type": "bar"
           }
          ],
          "barpolar": [
           {
            "marker": {
             "line": {
              "color": "#E5ECF6",
              "width": 0.5
             },
             "pattern": {
              "fillmode": "overlay",
              "size": 10,
              "solidity": 0.2
             }
            },
            "type": "barpolar"
           }
          ],
          "carpet": [
           {
            "aaxis": {
             "endlinecolor": "#2a3f5f",
             "gridcolor": "white",
             "linecolor": "white",
             "minorgridcolor": "white",
             "startlinecolor": "#2a3f5f"
            },
            "baxis": {
             "endlinecolor": "#2a3f5f",
             "gridcolor": "white",
             "linecolor": "white",
             "minorgridcolor": "white",
             "startlinecolor": "#2a3f5f"
            },
            "type": "carpet"
           }
          ],
          "choropleth": [
           {
            "colorbar": {
             "outlinewidth": 0,
             "ticks": ""
            },
            "type": "choropleth"
           }
          ],
          "contour": [
           {
            "colorbar": {
             "outlinewidth": 0,
             "ticks": ""
            },
            "colorscale": [
             [
              0,
              "#0d0887"
             ],
             [
              0.1111111111111111,
              "#46039f"
             ],
             [
              0.2222222222222222,
              "#7201a8"
             ],
             [
              0.3333333333333333,
              "#9c179e"
             ],
             [
              0.4444444444444444,
              "#bd3786"
             ],
             [
              0.5555555555555556,
              "#d8576b"
             ],
             [
              0.6666666666666666,
              "#ed7953"
             ],
             [
              0.7777777777777778,
              "#fb9f3a"
             ],
             [
              0.8888888888888888,
              "#fdca26"
             ],
             [
              1,
              "#f0f921"
             ]
            ],
            "type": "contour"
           }
          ],
          "contourcarpet": [
           {
            "colorbar": {
             "outlinewidth": 0,
             "ticks": ""
            },
            "type": "contourcarpet"
           }
          ],
          "heatmap": [
           {
            "colorbar": {
             "outlinewidth": 0,
             "ticks": ""
            },
            "colorscale": [
             [
              0,
              "#0d0887"
             ],
             [
              0.1111111111111111,
              "#46039f"
             ],
             [
              0.2222222222222222,
              "#7201a8"
             ],
             [
              0.3333333333333333,
              "#9c179e"
             ],
             [
              0.4444444444444444,
              "#bd3786"
             ],
             [
              0.5555555555555556,
              "#d8576b"
             ],
             [
              0.6666666666666666,
              "#ed7953"
             ],
             [
              0.7777777777777778,
              "#fb9f3a"
             ],
             [
              0.8888888888888888,
              "#fdca26"
             ],
             [
              1,
              "#f0f921"
             ]
            ],
            "type": "heatmap"
           }
          ],
          "heatmapgl": [
           {
            "colorbar": {
             "outlinewidth": 0,
             "ticks": ""
            },
            "colorscale": [
             [
              0,
              "#0d0887"
             ],
             [
              0.1111111111111111,
              "#46039f"
             ],
             [
              0.2222222222222222,
              "#7201a8"
             ],
             [
              0.3333333333333333,
              "#9c179e"
             ],
             [
              0.4444444444444444,
              "#bd3786"
             ],
             [
              0.5555555555555556,
              "#d8576b"
             ],
             [
              0.6666666666666666,
              "#ed7953"
             ],
             [
              0.7777777777777778,
              "#fb9f3a"
             ],
             [
              0.8888888888888888,
              "#fdca26"
             ],
             [
              1,
              "#f0f921"
             ]
            ],
            "type": "heatmapgl"
           }
          ],
          "histogram": [
           {
            "marker": {
             "pattern": {
              "fillmode": "overlay",
              "size": 10,
              "solidity": 0.2
             }
            },
            "type": "histogram"
           }
          ],
          "histogram2d": [
           {
            "colorbar": {
             "outlinewidth": 0,
             "ticks": ""
            },
            "colorscale": [
             [
              0,
              "#0d0887"
             ],
             [
              0.1111111111111111,
              "#46039f"
             ],
             [
              0.2222222222222222,
              "#7201a8"
             ],
             [
              0.3333333333333333,
              "#9c179e"
             ],
             [
              0.4444444444444444,
              "#bd3786"
             ],
             [
              0.5555555555555556,
              "#d8576b"
             ],
             [
              0.6666666666666666,
              "#ed7953"
             ],
             [
              0.7777777777777778,
              "#fb9f3a"
             ],
             [
              0.8888888888888888,
              "#fdca26"
             ],
             [
              1,
              "#f0f921"
             ]
            ],
            "type": "histogram2d"
           }
          ],
          "histogram2dcontour": [
           {
            "colorbar": {
             "outlinewidth": 0,
             "ticks": ""
            },
            "colorscale": [
             [
              0,
              "#0d0887"
             ],
             [
              0.1111111111111111,
              "#46039f"
             ],
             [
              0.2222222222222222,
              "#7201a8"
             ],
             [
              0.3333333333333333,
              "#9c179e"
             ],
             [
              0.4444444444444444,
              "#bd3786"
             ],
             [
              0.5555555555555556,
              "#d8576b"
             ],
             [
              0.6666666666666666,
              "#ed7953"
             ],
             [
              0.7777777777777778,
              "#fb9f3a"
             ],
             [
              0.8888888888888888,
              "#fdca26"
             ],
             [
              1,
              "#f0f921"
             ]
            ],
            "type": "histogram2dcontour"
           }
          ],
          "mesh3d": [
           {
            "colorbar": {
             "outlinewidth": 0,
             "ticks": ""
            },
            "type": "mesh3d"
           }
          ],
          "parcoords": [
           {
            "line": {
             "colorbar": {
              "outlinewidth": 0,
              "ticks": ""
             }
            },
            "type": "parcoords"
           }
          ],
          "pie": [
           {
            "automargin": true,
            "type": "pie"
           }
          ],
          "scatter": [
           {
            "fillpattern": {
             "fillmode": "overlay",
             "size": 10,
             "solidity": 0.2
            },
            "type": "scatter"
           }
          ],
          "scatter3d": [
           {
            "line": {
             "colorbar": {
              "outlinewidth": 0,
              "ticks": ""
             }
            },
            "marker": {
             "colorbar": {
              "outlinewidth": 0,
              "ticks": ""
             }
            },
            "type": "scatter3d"
           }
          ],
          "scattercarpet": [
           {
            "marker": {
             "colorbar": {
              "outlinewidth": 0,
              "ticks": ""
             }
            },
            "type": "scattercarpet"
           }
          ],
          "scattergeo": [
           {
            "marker": {
             "colorbar": {
              "outlinewidth": 0,
              "ticks": ""
             }
            },
            "type": "scattergeo"
           }
          ],
          "scattergl": [
           {
            "marker": {
             "colorbar": {
              "outlinewidth": 0,
              "ticks": ""
             }
            },
            "type": "scattergl"
           }
          ],
          "scattermapbox": [
           {
            "marker": {
             "colorbar": {
              "outlinewidth": 0,
              "ticks": ""
             }
            },
            "type": "scattermapbox"
           }
          ],
          "scatterpolar": [
           {
            "marker": {
             "colorbar": {
              "outlinewidth": 0,
              "ticks": ""
             }
            },
            "type": "scatterpolar"
           }
          ],
          "scatterpolargl": [
           {
            "marker": {
             "colorbar": {
              "outlinewidth": 0,
              "ticks": ""
             }
            },
            "type": "scatterpolargl"
           }
          ],
          "scatterternary": [
           {
            "marker": {
             "colorbar": {
              "outlinewidth": 0,
              "ticks": ""
             }
            },
            "type": "scatterternary"
           }
          ],
          "surface": [
           {
            "colorbar": {
             "outlinewidth": 0,
             "ticks": ""
            },
            "colorscale": [
             [
              0,
              "#0d0887"
             ],
             [
              0.1111111111111111,
              "#46039f"
             ],
             [
              0.2222222222222222,
              "#7201a8"
             ],
             [
              0.3333333333333333,
              "#9c179e"
             ],
             [
              0.4444444444444444,
              "#bd3786"
             ],
             [
              0.5555555555555556,
              "#d8576b"
             ],
             [
              0.6666666666666666,
              "#ed7953"
             ],
             [
              0.7777777777777778,
              "#fb9f3a"
             ],
             [
              0.8888888888888888,
              "#fdca26"
             ],
             [
              1,
              "#f0f921"
             ]
            ],
            "type": "surface"
           }
          ],
          "table": [
           {
            "cells": {
             "fill": {
              "color": "#EBF0F8"
             },
             "line": {
              "color": "white"
             }
            },
            "header": {
             "fill": {
              "color": "#C8D4E3"
             },
             "line": {
              "color": "white"
             }
            },
            "type": "table"
           }
          ]
         },
         "layout": {
          "annotationdefaults": {
           "arrowcolor": "#2a3f5f",
           "arrowhead": 0,
           "arrowwidth": 1
          },
          "autotypenumbers": "strict",
          "coloraxis": {
           "colorbar": {
            "outlinewidth": 0,
            "ticks": ""
           }
          },
          "colorscale": {
           "diverging": [
            [
             0,
             "#8e0152"
            ],
            [
             0.1,
             "#c51b7d"
            ],
            [
             0.2,
             "#de77ae"
            ],
            [
             0.3,
             "#f1b6da"
            ],
            [
             0.4,
             "#fde0ef"
            ],
            [
             0.5,
             "#f7f7f7"
            ],
            [
             0.6,
             "#e6f5d0"
            ],
            [
             0.7,
             "#b8e186"
            ],
            [
             0.8,
             "#7fbc41"
            ],
            [
             0.9,
             "#4d9221"
            ],
            [
             1,
             "#276419"
            ]
           ],
           "sequential": [
            [
             0,
             "#0d0887"
            ],
            [
             0.1111111111111111,
             "#46039f"
            ],
            [
             0.2222222222222222,
             "#7201a8"
            ],
            [
             0.3333333333333333,
             "#9c179e"
            ],
            [
             0.4444444444444444,
             "#bd3786"
            ],
            [
             0.5555555555555556,
             "#d8576b"
            ],
            [
             0.6666666666666666,
             "#ed7953"
            ],
            [
             0.7777777777777778,
             "#fb9f3a"
            ],
            [
             0.8888888888888888,
             "#fdca26"
            ],
            [
             1,
             "#f0f921"
            ]
           ],
           "sequentialminus": [
            [
             0,
             "#0d0887"
            ],
            [
             0.1111111111111111,
             "#46039f"
            ],
            [
             0.2222222222222222,
             "#7201a8"
            ],
            [
             0.3333333333333333,
             "#9c179e"
            ],
            [
             0.4444444444444444,
             "#bd3786"
            ],
            [
             0.5555555555555556,
             "#d8576b"
            ],
            [
             0.6666666666666666,
             "#ed7953"
            ],
            [
             0.7777777777777778,
             "#fb9f3a"
            ],
            [
             0.8888888888888888,
             "#fdca26"
            ],
            [
             1,
             "#f0f921"
            ]
           ]
          },
          "colorway": [
           "#636efa",
           "#EF553B",
           "#00cc96",
           "#ab63fa",
           "#FFA15A",
           "#19d3f3",
           "#FF6692",
           "#B6E880",
           "#FF97FF",
           "#FECB52"
          ],
          "font": {
           "color": "#2a3f5f"
          },
          "geo": {
           "bgcolor": "white",
           "lakecolor": "white",
           "landcolor": "#E5ECF6",
           "showlakes": true,
           "showland": true,
           "subunitcolor": "white"
          },
          "hoverlabel": {
           "align": "left"
          },
          "hovermode": "closest",
          "mapbox": {
           "style": "light"
          },
          "paper_bgcolor": "white",
          "plot_bgcolor": "#E5ECF6",
          "polar": {
           "angularaxis": {
            "gridcolor": "white",
            "linecolor": "white",
            "ticks": ""
           },
           "bgcolor": "#E5ECF6",
           "radialaxis": {
            "gridcolor": "white",
            "linecolor": "white",
            "ticks": ""
           }
          },
          "scene": {
           "xaxis": {
            "backgroundcolor": "#E5ECF6",
            "gridcolor": "white",
            "gridwidth": 2,
            "linecolor": "white",
            "showbackground": true,
            "ticks": "",
            "zerolinecolor": "white"
           },
           "yaxis": {
            "backgroundcolor": "#E5ECF6",
            "gridcolor": "white",
            "gridwidth": 2,
            "linecolor": "white",
            "showbackground": true,
            "ticks": "",
            "zerolinecolor": "white"
           },
           "zaxis": {
            "backgroundcolor": "#E5ECF6",
            "gridcolor": "white",
            "gridwidth": 2,
            "linecolor": "white",
            "showbackground": true,
            "ticks": "",
            "zerolinecolor": "white"
           }
          },
          "shapedefaults": {
           "line": {
            "color": "#2a3f5f"
           }
          },
          "ternary": {
           "aaxis": {
            "gridcolor": "white",
            "linecolor": "white",
            "ticks": ""
           },
           "baxis": {
            "gridcolor": "white",
            "linecolor": "white",
            "ticks": ""
           },
           "bgcolor": "#E5ECF6",
           "caxis": {
            "gridcolor": "white",
            "linecolor": "white",
            "ticks": ""
           }
          },
          "title": {
           "x": 0.05
          },
          "xaxis": {
           "automargin": true,
           "gridcolor": "white",
           "linecolor": "white",
           "ticks": "",
           "title": {
            "standoff": 15
           },
           "zerolinecolor": "white",
           "zerolinewidth": 2
          },
          "yaxis": {
           "automargin": true,
           "gridcolor": "white",
           "linecolor": "white",
           "ticks": "",
           "title": {
            "standoff": 15
           },
           "zerolinecolor": "white",
           "zerolinewidth": 2
          }
         }
        }
       }
      }
     },
     "metadata": {},
     "output_type": "display_data"
    }
   ],
   "source": [
    "beer = Run(\n",
    "    df=pd.read_csv(\"https://raw.githubusercontent.com/ejgao/Time-Series-Datasets/master/monthly-beer-production-in-austr.csv\"),\n",
    "    ds=\"Month\",\n",
    "    y=\"Monthly beer production\",\n",
    "    h=12\n",
    ")\n",
    "beer.assign_params(\n",
    "    # search_params=search_params,\n",
    "    default_params=HyperParams((5, 0, 0), (1, 2, 1, 12))\n",
    ")\n",
    "beer.add_preds(my_preds, \"MyArima\")\n",
    "beer.add_preds(sf_preds, \"StatsForecast\")\n",
    "sunspots.add_preds(sm_preds, \"StatsModels\")\n",
    "beer.plot()"
   ]
  }
 ],
 "metadata": {
  "kernelspec": {
   "display_name": "env",
   "language": "python",
   "name": "python3"
  },
  "language_info": {
   "codemirror_mode": {
    "name": "ipython",
    "version": 3
   },
   "file_extension": ".py",
   "mimetype": "text/x-python",
   "name": "python",
   "nbconvert_exporter": "python",
   "pygments_lexer": "ipython3",
   "version": "3.10.7"
  }
 },
 "nbformat": 4,
 "nbformat_minor": 2
}
