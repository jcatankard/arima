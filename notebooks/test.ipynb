{
 "cells": [
  {
   "cell_type": "code",
   "execution_count": 4,
   "metadata": {},
   "outputs": [
    {
     "name": "stdout",
     "output_type": "stream",
     "text": [
      "Requirement already satisfied: statsforecast in c:\\users\\e10110199\\rust_projects\\arima\\env\\lib\\site-packages (1.7.3)Note: you may need to restart the kernel to use updated packages.\n"
     ]
    },
    {
     "name": "stderr",
     "output_type": "stream",
     "text": [
      "\n",
      "[notice] A new release of pip available: 22.2.2 -> 24.0\n",
      "[notice] To update, run: python.exe -m pip install --upgrade pip\n"
     ]
    },
    {
     "name": "stdout",
     "output_type": "stream",
     "text": [
      "\n",
      "Requirement already satisfied: pandas>=1.3.5 in c:\\users\\e10110199\\rust_projects\\arima\\env\\lib\\site-packages (from statsforecast) (2.2.1)\n",
      "Requirement already satisfied: statsmodels>=0.13.2 in c:\\users\\e10110199\\rust_projects\\arima\\env\\lib\\site-packages (from statsforecast) (0.14.1)\n",
      "Requirement already satisfied: numpy>=1.21.6 in c:\\users\\e10110199\\rust_projects\\arima\\env\\lib\\site-packages (from statsforecast) (1.26.4)\n",
      "Requirement already satisfied: numba>=0.55.0 in c:\\users\\e10110199\\rust_projects\\arima\\env\\lib\\site-packages (from statsforecast) (0.59.0)\n",
      "Requirement already satisfied: cloudpickle in c:\\users\\e10110199\\rust_projects\\arima\\env\\lib\\site-packages (from statsforecast) (3.0.0)\n",
      "Requirement already satisfied: tqdm in c:\\users\\e10110199\\rust_projects\\arima\\env\\lib\\site-packages (from statsforecast) (4.66.2)\n",
      "Requirement already satisfied: fugue>=0.8.1 in c:\\users\\e10110199\\rust_projects\\arima\\env\\lib\\site-packages (from statsforecast) (0.8.7)\n",
      "Requirement already satisfied: utilsforecast>=0.0.24 in c:\\users\\e10110199\\rust_projects\\arima\\env\\lib\\site-packages (from statsforecast) (0.1.1)\n",
      "Requirement already satisfied: scipy>=1.7.3 in c:\\users\\e10110199\\rust_projects\\arima\\env\\lib\\site-packages (from statsforecast) (1.12.0)\n",
      "Requirement already satisfied: threadpoolctl in c:\\users\\e10110199\\rust_projects\\arima\\env\\lib\\site-packages (from statsforecast) (3.3.0)\n",
      "Requirement already satisfied: triad>=0.9.3 in c:\\users\\e10110199\\rust_projects\\arima\\env\\lib\\site-packages (from fugue>=0.8.1->statsforecast) (0.9.5)\n",
      "Requirement already satisfied: fugue-sql-antlr>=0.1.6 in c:\\users\\e10110199\\rust_projects\\arima\\env\\lib\\site-packages (from fugue>=0.8.1->statsforecast) (0.2.0)\n",
      "Requirement already satisfied: jinja2 in c:\\users\\e10110199\\rust_projects\\arima\\env\\lib\\site-packages (from fugue>=0.8.1->statsforecast) (3.1.3)\n",
      "Requirement already satisfied: adagio>=0.2.4 in c:\\users\\e10110199\\rust_projects\\arima\\env\\lib\\site-packages (from fugue>=0.8.1->statsforecast) (0.2.4)\n",
      "Requirement already satisfied: sqlglot in c:\\users\\e10110199\\rust_projects\\arima\\env\\lib\\site-packages (from fugue>=0.8.1->statsforecast) (22.2.1)\n",
      "Requirement already satisfied: qpd>=0.4.4 in c:\\users\\e10110199\\rust_projects\\arima\\env\\lib\\site-packages (from fugue>=0.8.1->statsforecast) (0.4.4)\n",
      "Requirement already satisfied: llvmlite<0.43,>=0.42.0dev0 in c:\\users\\e10110199\\rust_projects\\arima\\env\\lib\\site-packages (from numba>=0.55.0->statsforecast) (0.42.0)\n",
      "Requirement already satisfied: pytz>=2020.1 in c:\\users\\e10110199\\rust_projects\\arima\\env\\lib\\site-packages (from pandas>=1.3.5->statsforecast) (2024.1)\n",
      "Requirement already satisfied: tzdata>=2022.7 in c:\\users\\e10110199\\rust_projects\\arima\\env\\lib\\site-packages (from pandas>=1.3.5->statsforecast) (2024.1)\n",
      "Requirement already satisfied: python-dateutil>=2.8.2 in c:\\users\\e10110199\\rust_projects\\arima\\env\\lib\\site-packages (from pandas>=1.3.5->statsforecast) (2.9.0.post0)\n",
      "Requirement already satisfied: packaging>=21.3 in c:\\users\\e10110199\\rust_projects\\arima\\env\\lib\\site-packages (from statsmodels>=0.13.2->statsforecast) (23.2)\n",
      "Requirement already satisfied: patsy>=0.5.4 in c:\\users\\e10110199\\rust_projects\\arima\\env\\lib\\site-packages (from statsmodels>=0.13.2->statsforecast) (0.5.6)\n",
      "Requirement already satisfied: colorama in c:\\users\\e10110199\\rust_projects\\arima\\env\\lib\\site-packages (from tqdm->statsforecast) (0.4.6)\n",
      "Requirement already satisfied: antlr4-python3-runtime<4.12 in c:\\users\\e10110199\\rust_projects\\arima\\env\\lib\\site-packages (from fugue-sql-antlr>=0.1.6->fugue>=0.8.1->statsforecast) (4.11.1)\n",
      "Requirement already satisfied: six in c:\\users\\e10110199\\rust_projects\\arima\\env\\lib\\site-packages (from patsy>=0.5.4->statsmodels>=0.13.2->statsforecast) (1.16.0)\n",
      "Requirement already satisfied: fsspec>=2022.5.0 in c:\\users\\e10110199\\rust_projects\\arima\\env\\lib\\site-packages (from triad>=0.9.3->fugue>=0.8.1->statsforecast) (2024.2.0)\n",
      "Requirement already satisfied: pyarrow>=6.0.1 in c:\\users\\e10110199\\rust_projects\\arima\\env\\lib\\site-packages (from triad>=0.9.3->fugue>=0.8.1->statsforecast) (15.0.0)\n",
      "Requirement already satisfied: fs in c:\\users\\e10110199\\rust_projects\\arima\\env\\lib\\site-packages (from triad>=0.9.3->fugue>=0.8.1->statsforecast) (2.4.16)\n",
      "Requirement already satisfied: MarkupSafe>=2.0 in c:\\users\\e10110199\\rust_projects\\arima\\env\\lib\\site-packages (from jinja2->fugue>=0.8.1->statsforecast) (2.1.5)\n",
      "Requirement already satisfied: setuptools in c:\\users\\e10110199\\rust_projects\\arima\\env\\lib\\site-packages (from fs->triad>=0.9.3->fugue>=0.8.1->statsforecast) (63.2.0)\n",
      "Requirement already satisfied: appdirs~=1.4.3 in c:\\users\\e10110199\\rust_projects\\arima\\env\\lib\\site-packages (from fs->triad>=0.9.3->fugue>=0.8.1->statsforecast) (1.4.4)\n",
      "Note: you may need to restart the kernel to use updated packages.\n",
      "Collecting holidays\n",
      "  Downloading holidays-0.44-py3-none-any.whl (922 kB)\n",
      "     -------------------------------------- 922.7/922.7 kB 4.9 MB/s eta 0:00:00\n",
      "Requirement already satisfied: python-dateutil in c:\\users\\e10110199\\rust_projects\\arima\\env\\lib\\site-packages (from holidays) (2.9.0.post0)\n",
      "Requirement already satisfied: six>=1.5 in c:\\users\\e10110199\\rust_projects\\arima\\env\\lib\\site-packages (from python-dateutil->holidays) (1.16.0)\n",
      "Installing collected packages: holidays\n",
      "Successfully installed holidays-0.44\n"
     ]
    },
    {
     "name": "stderr",
     "output_type": "stream",
     "text": [
      "\n",
      "[notice] A new release of pip available: 22.2.2 -> 24.0\n",
      "[notice] To update, run: python.exe -m pip install --upgrade pip\n"
     ]
    },
    {
     "name": "stdout",
     "output_type": "stream",
     "text": [
      "Requirement already satisfied: pandas in c:\\users\\e10110199\\rust_projects\\arima\\env\\lib\\site-packages (2.2.1)\n",
      "Requirement already satisfied: tzdata>=2022.7 in c:\\users\\e10110199\\rust_projects\\arima\\env\\lib\\site-packages (from pandas) (2024.1)\n",
      "Requirement already satisfied: numpy<2,>=1.22.4 in c:\\users\\e10110199\\rust_projects\\arima\\env\\lib\\site-packages (from pandas) (1.26.4)\n",
      "Requirement already satisfied: python-dateutil>=2.8.2 in c:\\users\\e10110199\\rust_projects\\arima\\env\\lib\\site-packages (from pandas) (2.9.0.post0)\n",
      "Requirement already satisfied: pytz>=2020.1 in c:\\users\\e10110199\\rust_projects\\arima\\env\\lib\\site-packages (from pandas) (2024.1)\n",
      "Requirement already satisfied: six>=1.5 in c:\\users\\e10110199\\rust_projects\\arima\\env\\lib\\site-packages (from python-dateutil>=2.8.2->pandas) (1.16.0)\n",
      "Note: you may need to restart the kernel to use updated packages.\n"
     ]
    },
    {
     "name": "stderr",
     "output_type": "stream",
     "text": [
      "\n",
      "[notice] A new release of pip available: 22.2.2 -> 24.0\n",
      "[notice] To update, run: python.exe -m pip install --upgrade pip\n"
     ]
    }
   ],
   "source": [
    "%pip install statsforecast\n",
    "%pip install holidays\n",
    "%pip install pandas"
   ]
  },
  {
   "cell_type": "code",
   "execution_count": 5,
   "metadata": {},
   "outputs": [],
   "source": [
    "# from fourier_forecast.fourier_forecast import FourierForecast\n",
    "from statsforecast.models import AutoARIMA, ARIMA\n",
    "from holidays import country_holidays\n",
    "from datetime import date, timedelta\n",
    "from numpy.typing import NDArray\n",
    "from itertools import product\n",
    "# from prophet import Prophet\n",
    "import pandas as pd\n",
    "import numpy as np"
   ]
  },
  {
   "cell_type": "code",
   "execution_count": 6,
   "metadata": {},
   "outputs": [],
   "source": [
    "from arima import Model"
   ]
  },
  {
   "cell_type": "code",
   "execution_count": 28,
   "metadata": {},
   "outputs": [],
   "source": [
    "def find_holidays(start_date: date, end_date: date) -> list[date]:\n",
    "    \"\"\"return dictionary with just holiday dates by market\"\"\"\n",
    "    yrs = range(start_date.year, end_date.year + 1)\n",
    "    return list(country_holidays(country=\"US\", years=yrs).keys())\n",
    "\n",
    "\n",
    "def add_us_holidays(df: pd.DataFrame) -> pd.DataFrame:\n",
    "    \"\"\"return dataframe by date & market with is_holiday column where True for holiday date and false otherwise\"\"\"\n",
    "    h = find_holidays(df[\"ds\"].min(), df[\"ds\"].max())\n",
    "    return df.assign(is_holiday=df[\"ds\"].apply(lambda z: z in h))\n"
   ]
  },
  {
   "cell_type": "code",
   "execution_count": null,
   "metadata": {},
   "outputs": [],
   "source": [
    "def calculate_mape(predictions: NDArray, actuals: NDArray) -> float:\n",
    "    return np.abs(predictions / actuals - 1).mean()"
   ]
  },
  {
   "cell_type": "markdown",
   "metadata": {},
   "source": [
    "[Data](https://data.cityofevanston.org/dataset/CTA-Ridership-Daily-Boarding-Totals/bnrf-isry)"
   ]
  },
  {
   "cell_type": "code",
   "execution_count": 30,
   "metadata": {},
   "outputs": [
    {
     "data": {
      "text/html": [
       "<div>\n",
       "<style scoped>\n",
       "    .dataframe tbody tr th:only-of-type {\n",
       "        vertical-align: middle;\n",
       "    }\n",
       "\n",
       "    .dataframe tbody tr th {\n",
       "        vertical-align: top;\n",
       "    }\n",
       "\n",
       "    .dataframe thead th {\n",
       "        text-align: right;\n",
       "    }\n",
       "</style>\n",
       "<table border=\"1\" class=\"dataframe\">\n",
       "  <thead>\n",
       "    <tr style=\"text-align: right;\">\n",
       "      <th></th>\n",
       "      <th>ds</th>\n",
       "      <th>y</th>\n",
       "      <th>is_holiday</th>\n",
       "    </tr>\n",
       "  </thead>\n",
       "  <tbody>\n",
       "    <tr>\n",
       "      <th>0</th>\n",
       "      <td>2001-01-01</td>\n",
       "      <td>423647</td>\n",
       "      <td>True</td>\n",
       "    </tr>\n",
       "    <tr>\n",
       "      <th>1</th>\n",
       "      <td>2001-01-02</td>\n",
       "      <td>1282779</td>\n",
       "      <td>False</td>\n",
       "    </tr>\n",
       "    <tr>\n",
       "      <th>2</th>\n",
       "      <td>2001-01-03</td>\n",
       "      <td>1361355</td>\n",
       "      <td>False</td>\n",
       "    </tr>\n",
       "    <tr>\n",
       "      <th>3</th>\n",
       "      <td>2001-01-04</td>\n",
       "      <td>1420032</td>\n",
       "      <td>False</td>\n",
       "    </tr>\n",
       "    <tr>\n",
       "      <th>4</th>\n",
       "      <td>2001-01-05</td>\n",
       "      <td>1448343</td>\n",
       "      <td>False</td>\n",
       "    </tr>\n",
       "    <tr>\n",
       "      <th>...</th>\n",
       "      <td>...</td>\n",
       "      <td>...</td>\n",
       "      <td>...</td>\n",
       "    </tr>\n",
       "    <tr>\n",
       "      <th>6508</th>\n",
       "      <td>2018-10-27</td>\n",
       "      <td>928367</td>\n",
       "      <td>False</td>\n",
       "    </tr>\n",
       "    <tr>\n",
       "      <th>6509</th>\n",
       "      <td>2018-10-28</td>\n",
       "      <td>649725</td>\n",
       "      <td>False</td>\n",
       "    </tr>\n",
       "    <tr>\n",
       "      <th>6510</th>\n",
       "      <td>2018-10-29</td>\n",
       "      <td>1601855</td>\n",
       "      <td>False</td>\n",
       "    </tr>\n",
       "    <tr>\n",
       "      <th>6511</th>\n",
       "      <td>2018-10-30</td>\n",
       "      <td>1636184</td>\n",
       "      <td>False</td>\n",
       "    </tr>\n",
       "    <tr>\n",
       "      <th>6512</th>\n",
       "      <td>2018-10-31</td>\n",
       "      <td>1616985</td>\n",
       "      <td>False</td>\n",
       "    </tr>\n",
       "  </tbody>\n",
       "</table>\n",
       "<p>6513 rows × 3 columns</p>\n",
       "</div>"
      ],
      "text/plain": [
       "              ds        y  is_holiday\n",
       "0     2001-01-01   423647        True\n",
       "1     2001-01-02  1282779       False\n",
       "2     2001-01-03  1361355       False\n",
       "3     2001-01-04  1420032       False\n",
       "4     2001-01-05  1448343       False\n",
       "...          ...      ...         ...\n",
       "6508  2018-10-27   928367       False\n",
       "6509  2018-10-28   649725       False\n",
       "6510  2018-10-29  1601855       False\n",
       "6511  2018-10-30  1636184       False\n",
       "6512  2018-10-31  1616985       False\n",
       "\n",
       "[6513 rows x 3 columns]"
      ]
     },
     "metadata": {},
     "output_type": "display_data"
    }
   ],
   "source": [
    "df = (pd.read_csv(\"./cta_ridership_totals.csv\")\n",
    "        .assign(ds=lambda x: pd.to_datetime(x[\"date\"]).dt.date,\n",
    "                y=lambda x: x[\"total_rides\"]\n",
    "                )\n",
    "        .sort_values(by=\"ds\", ascending=True)\n",
    ")\n",
    "df = add_us_holidays(df)\n",
    "df = df[[\"ds\", \"y\", \"is_holiday\"]]\n",
    "display(df)"
   ]
  },
  {
   "cell_type": "code",
   "execution_count": 31,
   "metadata": {},
   "outputs": [],
   "source": [
    "train_years = 2\n",
    "first_year, last_year = 2003, 2018"
   ]
  },
  {
   "cell_type": "code",
   "execution_count": 32,
   "metadata": {},
   "outputs": [],
   "source": [
    "ff_results = np.zeros(last_year - first_year + 1, dtype=np.float64)\n",
    "prophet_results = np.zeros(last_year - first_year + 1, dtype=np.float64)\n",
    "aa_results = np.zeros(last_year - first_year + 1, dtype=np.float64)"
   ]
  },
  {
   "cell_type": "code",
   "execution_count": 33,
   "metadata": {},
   "outputs": [],
   "source": [
    "SplitType = tuple[pd.DataFrame, pd.DataFrame, pd.DataFrame, pd.DataFrame]\n",
    "\n",
    "def train_test_split(test_year: int, data: pd.DataFrame) -> SplitType:\n",
    "        \n",
    "\n",
    "        train_dates = (date(test_year - train_years, 1, 1), date(test_year - 1, 12, 31))\n",
    "        test_dates = (date(test_year, 1, 1), date(test_year, 12, 31))\n",
    "\n",
    "        train = df[df[\"ds\"].isin(train_dates)]\n",
    "        test = df[df[\"ds\"].isin(test_dates)]\n",
    "\n",
    "        return train.drop(\"y\"), test.drop(\"y\"), train[\"y\"], test[\"y\"]"
   ]
  },
  {
   "cell_type": "code",
   "execution_count": null,
   "metadata": {},
   "outputs": [],
   "source": [
    "for i, test_year in enumerate(range(first_year, last_year + 1)):\n",
    "\n",
    "    train_dates = (date(test_year - train_years, 1, 1), date(test_year - 1, 12, 31))\n",
    "    test_dates = (date(test_year, 1, 1), date(test_year, 12, 31))\n",
    "\n",
    "    train_index = df[df[\"ds\"].isin(train_dates)].index\n",
    "    test_index = df[df[\"ds\"].isin(test_dates)].index\n",
    "    h = test_index.size\n",
    "\n",
    "    train_df = df[df.index.isin(train_index)]\n",
    "    test_df = df[df.index.isin(test_index)]\n",
    "    train_hols = hols[train_index]\n",
    "    test_hols = hols[test_index]\n",
    "\n",
    "    # ff = FourierForecast(weekly_seasonality_terms=3, yearly_seasonality_terms=10, log_y=True)\n",
    "    # ff.fit(train_df[\"y\"].values, regressors=train_hols)\n",
    "\n",
    "    # preds = ff.predict(h=h, regressors=test_hols)\n",
    "    # ff_results[i] = calculate_mape(preds, test_df[\"y\"].values)\n",
    "\n",
    "    m = Prophet(seasonality_mode=\"multiplicative\", uncertainty_samples=False)\n",
    "    m.add_country_holidays(country_name=\"US\")\n",
    "    m.fit(train_df)\n",
    "\n",
    "    future_df = m.make_future_dataframe(periods=h).tail(h)\n",
    "    pred_df = m.predict(future_df)\n",
    "\n",
    "    prophet_results[i] = calculate_mape(pred_df[\"yhat\"].values, test_df[\"y\"].values)\n",
    "\n",
    "\n",
    "    aa = ARIMA(season_length=[7])\n",
    "    aa.fit(train_df[\"y\"].values, train_hols.astype(np.float64))\n",
    "    aa_preds = aa.predict(h, test_hols.astype(np.float64), level=None)[\"mean\"]\n",
    "    aa_results[i] = calculate_mape(aa_preds, test_df[\"y\"].values)\n",
    "\n",
    "print(\"FourierForecast:\", ff_results)\n",
    "print(\"FourierForecast:\", ff_results.mean().round(3))\n",
    "print(\"Prophet:\", prophet_results)\n",
    "print(\"Prophet:\", prophet_results.mean().round(3))\n",
    "# print(\"AutoArima:\", aa_results)\n",
    "# print(\"AutoArima:\", aa_results.mean().round(3))"
   ]
  },
  {
   "cell_type": "code",
   "execution_count": 1,
   "metadata": {},
   "outputs": [],
   "source": []
  },
  {
   "cell_type": "code",
   "execution_count": 3,
   "metadata": {},
   "outputs": [],
   "source": [
    "model = Model.arima(1, 1, 1)"
   ]
  },
  {
   "cell_type": "code",
   "execution_count": 4,
   "metadata": {},
   "outputs": [
    {
     "ename": "AttributeError",
     "evalue": "'arima.Model' object has no attribute 'coefs_fit'",
     "output_type": "error",
     "traceback": [
      "\u001b[1;31m---------------------------------------------------------------------------\u001b[0m",
      "\u001b[1;31mAttributeError\u001b[0m                            Traceback (most recent call last)",
      "Cell \u001b[1;32mIn[4], line 1\u001b[0m\n\u001b[1;32m----> 1\u001b[0m \u001b[43mmodel\u001b[49m\u001b[38;5;241;43m.\u001b[39;49m\u001b[43mcoefs_fit\u001b[49m\n",
      "\u001b[1;31mAttributeError\u001b[0m: 'arima.Model' object has no attribute 'coefs_fit'"
     ]
    }
   ],
   "source": [
    "model.coefs_fit\n"
   ]
  }
 ],
 "metadata": {
  "kernelspec": {
   "display_name": "env",
   "language": "python",
   "name": "python3"
  },
  "language_info": {
   "codemirror_mode": {
    "name": "ipython",
    "version": 3
   },
   "file_extension": ".py",
   "mimetype": "text/x-python",
   "name": "python",
   "nbconvert_exporter": "python",
   "pygments_lexer": "ipython3",
   "version": "3.10.7"
  }
 },
 "nbformat": 4,
 "nbformat_minor": 2
}
