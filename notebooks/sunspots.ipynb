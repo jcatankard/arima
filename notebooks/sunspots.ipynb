{
 "cells": [
  {
   "cell_type": "code",
   "execution_count": 1,
   "metadata": {},
   "outputs": [
    {
     "name": "stdout",
     "output_type": "stream",
     "text": [
      "Requirement already satisfied: statsforecast in c:\\users\\e10110199\\rust_projects\\arima\\env\\lib\\site-packages (1.7.3)\n",
      "Requirement already satisfied: cloudpickle in c:\\users\\e10110199\\rust_projects\\arima\\env\\lib\\site-packages (from statsforecast) (3.0.0)\n",
      "Requirement already satisfied: numba>=0.55.0 in c:\\users\\e10110199\\rust_projects\\arima\\env\\lib\\site-packages (from statsforecast) (0.59.0)\n",
      "Requirement already satisfied: numpy>=1.21.6 in c:\\users\\e10110199\\rust_projects\\arima\\env\\lib\\site-packages (from statsforecast) (1.26.4)\n",
      "Requirement already satisfied: pandas>=1.3.5 in c:\\users\\e10110199\\rust_projects\\arima\\env\\lib\\site-packages (from statsforecast) (2.2.1)\n",
      "Requirement already satisfied: scipy>=1.7.3 in c:\\users\\e10110199\\rust_projects\\arima\\env\\lib\\site-packages (from statsforecast) (1.12.0)\n",
      "Requirement already satisfied: statsmodels>=0.13.2 in c:\\users\\e10110199\\rust_projects\\arima\\env\\lib\\site-packages (from statsforecast) (0.14.1)\n",
      "Requirement already satisfied: tqdm in c:\\users\\e10110199\\rust_projects\\arima\\env\\lib\\site-packages (from statsforecast) (4.66.2)\n",
      "Requirement already satisfied: fugue>=0.8.1 in c:\\users\\e10110199\\rust_projects\\arima\\env\\lib\\site-packages (from statsforecast) (0.8.7)\n",
      "Requirement already satisfied: utilsforecast>=0.0.24 in c:\\users\\e10110199\\rust_projects\\arima\\env\\lib\\site-packages (from statsforecast) (0.1.1)\n",
      "Requirement already satisfied: threadpoolctl in c:\\users\\e10110199\\rust_projects\\arima\\env\\lib\\site-packages (from statsforecast) (3.3.0)\n",
      "Requirement already satisfied: triad>=0.9.3 in c:\\users\\e10110199\\rust_projects\\arima\\env\\lib\\site-packages (from fugue>=0.8.1->statsforecast) (0.9.5)\n",
      "Requirement already satisfied: adagio>=0.2.4 in c:\\users\\e10110199\\rust_projects\\arima\\env\\lib\\site-packages (from fugue>=0.8.1->statsforecast) (0.2.4)\n",
      "Requirement already satisfied: qpd>=0.4.4 in c:\\users\\e10110199\\rust_projects\\arima\\env\\lib\\site-packages (from fugue>=0.8.1->statsforecast) (0.4.4)\n",
      "Requirement already satisfied: fugue-sql-antlr>=0.1.6 in c:\\users\\e10110199\\rust_projects\\arima\\env\\lib\\site-packages (from fugue>=0.8.1->statsforecast) (0.2.0)\n",
      "Requirement already satisfied: sqlglot in c:\\users\\e10110199\\rust_projects\\arima\\env\\lib\\site-packages (from fugue>=0.8.1->statsforecast) (22.2.1)\n",
      "Requirement already satisfied: jinja2 in c:\\users\\e10110199\\rust_projects\\arima\\env\\lib\\site-packages (from fugue>=0.8.1->statsforecast) (3.1.3)\n",
      "Requirement already satisfied: llvmlite<0.43,>=0.42.0dev0 in c:\\users\\e10110199\\rust_projects\\arima\\env\\lib\\site-packages (from numba>=0.55.0->statsforecast) (0.42.0)\n",
      "Requirement already satisfied: python-dateutil>=2.8.2 in c:\\users\\e10110199\\rust_projects\\arima\\env\\lib\\site-packages (from pandas>=1.3.5->statsforecast) (2.9.0.post0)\n",
      "Requirement already satisfied: pytz>=2020.1 in c:\\users\\e10110199\\rust_projects\\arima\\env\\lib\\site-packages (from pandas>=1.3.5->statsforecast) (2024.1)\n",
      "Requirement already satisfied: tzdata>=2022.7 in c:\\users\\e10110199\\rust_projects\\arima\\env\\lib\\site-packages (from pandas>=1.3.5->statsforecast) (2024.1)\n",
      "Requirement already satisfied: patsy>=0.5.4 in c:\\users\\e10110199\\rust_projects\\arima\\env\\lib\\site-packages (from statsmodels>=0.13.2->statsforecast) (0.5.6)\n",
      "Requirement already satisfied: packaging>=21.3 in c:\\users\\e10110199\\rust_projects\\arima\\env\\lib\\site-packages (from statsmodels>=0.13.2->statsforecast) (23.2)\n",
      "Requirement already satisfied: colorama in c:\\users\\e10110199\\rust_projects\\arima\\env\\lib\\site-packages (from tqdm->statsforecast) (0.4.6)\n",
      "Requirement already satisfied: antlr4-python3-runtime<4.12 in c:\\users\\e10110199\\rust_projects\\arima\\env\\lib\\site-packages (from fugue-sql-antlr>=0.1.6->fugue>=0.8.1->statsforecast) (4.11.1)\n",
      "Requirement already satisfied: six in c:\\users\\e10110199\\rust_projects\\arima\\env\\lib\\site-packages (from patsy>=0.5.4->statsmodels>=0.13.2->statsforecast) (1.16.0)\n",
      "Requirement already satisfied: pyarrow>=6.0.1 in c:\\users\\e10110199\\rust_projects\\arima\\env\\lib\\site-packages (from triad>=0.9.3->fugue>=0.8.1->statsforecast) (15.0.0)\n",
      "Requirement already satisfied: fsspec>=2022.5.0 in c:\\users\\e10110199\\rust_projects\\arima\\env\\lib\\site-packages (from triad>=0.9.3->fugue>=0.8.1->statsforecast) (2024.2.0)\n",
      "Requirement already satisfied: fs in c:\\users\\e10110199\\rust_projects\\arima\\env\\lib\\site-packages (from triad>=0.9.3->fugue>=0.8.1->statsforecast) (2.4.16)\n",
      "Requirement already satisfied: MarkupSafe>=2.0 in c:\\users\\e10110199\\rust_projects\\arima\\env\\lib\\site-packages (from jinja2->fugue>=0.8.1->statsforecast) (2.1.5)\n",
      "Requirement already satisfied: appdirs~=1.4.3 in c:\\users\\e10110199\\rust_projects\\arima\\env\\lib\\site-packages (from fs->triad>=0.9.3->fugue>=0.8.1->statsforecast) (1.4.4)\n",
      "Requirement already satisfied: setuptools in c:\\users\\e10110199\\rust_projects\\arima\\env\\lib\\site-packages (from fs->triad>=0.9.3->fugue>=0.8.1->statsforecast) (63.2.0)\n",
      "Note: you may need to restart the kernel to use updated packages.\n",
      "Requirement already satisfied: statsmodels in c:\\users\\e10110199\\rust_projects\\arima\\env\\lib\\site-packages (0.14.1)\n",
      "Requirement already satisfied: numpy<2,>=1.18 in c:\\users\\e10110199\\rust_projects\\arima\\env\\lib\\site-packages (from statsmodels) (1.26.4)\n",
      "Requirement already satisfied: scipy!=1.9.2,>=1.4 in c:\\users\\e10110199\\rust_projects\\arima\\env\\lib\\site-packages (from statsmodels) (1.12.0)\n",
      "Requirement already satisfied: pandas!=2.1.0,>=1.0 in c:\\users\\e10110199\\rust_projects\\arima\\env\\lib\\site-packages (from statsmodels) (2.2.1)\n",
      "Requirement already satisfied: patsy>=0.5.4 in c:\\users\\e10110199\\rust_projects\\arima\\env\\lib\\site-packages (from statsmodels) (0.5.6)\n",
      "Requirement already satisfied: packaging>=21.3 in c:\\users\\e10110199\\rust_projects\\arima\\env\\lib\\site-packages (from statsmodels) (23.2)\n",
      "Requirement already satisfied: python-dateutil>=2.8.2 in c:\\users\\e10110199\\rust_projects\\arima\\env\\lib\\site-packages (from pandas!=2.1.0,>=1.0->statsmodels) (2.9.0.post0)\n",
      "Requirement already satisfied: pytz>=2020.1 in c:\\users\\e10110199\\rust_projects\\arima\\env\\lib\\site-packages (from pandas!=2.1.0,>=1.0->statsmodels) (2024.1)\n",
      "Requirement already satisfied: tzdata>=2022.7 in c:\\users\\e10110199\\rust_projects\\arima\\env\\lib\\site-packages (from pandas!=2.1.0,>=1.0->statsmodels) (2024.1)\n",
      "Requirement already satisfied: six in c:\\users\\e10110199\\rust_projects\\arima\\env\\lib\\site-packages (from patsy>=0.5.4->statsmodels) (1.16.0)\n",
      "Note: you may need to restart the kernel to use updated packages.\n",
      "Requirement already satisfied: pandas in c:\\users\\e10110199\\rust_projects\\arima\\env\\lib\\site-packages (2.2.1)\n",
      "Requirement already satisfied: numpy<2,>=1.22.4 in c:\\users\\e10110199\\rust_projects\\arima\\env\\lib\\site-packages (from pandas) (1.26.4)\n",
      "Requirement already satisfied: python-dateutil>=2.8.2 in c:\\users\\e10110199\\rust_projects\\arima\\env\\lib\\site-packages (from pandas) (2.9.0.post0)\n",
      "Requirement already satisfied: pytz>=2020.1 in c:\\users\\e10110199\\rust_projects\\arima\\env\\lib\\site-packages (from pandas) (2024.1)\n",
      "Requirement already satisfied: tzdata>=2022.7 in c:\\users\\e10110199\\rust_projects\\arima\\env\\lib\\site-packages (from pandas) (2024.1)\n",
      "Requirement already satisfied: six>=1.5 in c:\\users\\e10110199\\rust_projects\\arima\\env\\lib\\site-packages (from python-dateutil>=2.8.2->pandas) (1.16.0)\n",
      "Note: you may need to restart the kernel to use updated packages.\n",
      "Requirement already satisfied: plotly in c:\\users\\e10110199\\rust_projects\\arima\\env\\lib\\site-packages (5.19.0)\n",
      "Requirement already satisfied: tenacity>=6.2.0 in c:\\users\\e10110199\\rust_projects\\arima\\env\\lib\\site-packages (from plotly) (8.2.3)\n",
      "Requirement already satisfied: packaging in c:\\users\\e10110199\\rust_projects\\arima\\env\\lib\\site-packages (from plotly) (23.2)\n",
      "Note: you may need to restart the kernel to use updated packages.\n",
      "Note: you may need to restart the kernel to use updated packages.\n",
      "Requirement already satisfied: fourier-forecast in c:\\users\\e10110199\\rust_projects\\arima\\env\\lib\\site-packages (0.0.4)\n",
      "Requirement already satisfied: numpy in c:\\users\\e10110199\\rust_projects\\arima\\env\\lib\\site-packages (from fourier-forecast) (1.26.4)\n",
      "Requirement already satisfied: plotly in c:\\users\\e10110199\\rust_projects\\arima\\env\\lib\\site-packages (from fourier-forecast) (5.19.0)\n",
      "Requirement already satisfied: tenacity>=6.2.0 in c:\\users\\e10110199\\rust_projects\\arima\\env\\lib\\site-packages (from plotly->fourier-forecast) (8.2.3)\n",
      "Requirement already satisfied: packaging in c:\\users\\e10110199\\rust_projects\\arima\\env\\lib\\site-packages (from plotly->fourier-forecast) (23.2)\n",
      "Note: you may need to restart the kernel to use updated packages.\n"
     ]
    }
   ],
   "source": [
    "%pip install statsforecast\n",
    "%pip install statsmodels\n",
    "%pip install pandas\n",
    "%pip install plotly\n",
    "%pip install nbformat>=4.2.0"
   ]
  },
  {
   "cell_type": "code",
   "execution_count": 7,
   "metadata": {},
   "outputs": [],
   "source": [
    "from statsforecast.models import ARIMA\n",
    "import plotly.graph_objs as go\n",
    "import statsmodels.api as sm\n",
    "from arima import Model"
   ]
  },
  {
   "cell_type": "markdown",
   "metadata": {},
   "source": [
    "# YEARLY SUNSPOT DATA"
   ]
  },
  {
   "cell_type": "code",
   "execution_count": 8,
   "metadata": {},
   "outputs": [],
   "source": [
    "h = 33\n",
    "order = (5, 0, 5)\n",
    "seasonal_order = (2, 1, 2, 43)\n",
    "ds, y = \"YEAR\", \"SUNACTIVITY\""
   ]
  },
  {
   "cell_type": "code",
   "execution_count": 9,
   "metadata": {},
   "outputs": [],
   "source": [
    "df = sm.datasets.sunspots.load_pandas().data\n",
    "train = df.head(len(df) - h)"
   ]
  },
  {
   "cell_type": "code",
   "execution_count": 10,
   "metadata": {},
   "outputs": [],
   "source": [
    "m1 = Model.sarima(order=order, seasonal_order=seasonal_order)\n",
    "m1.fit(y=train[y].values, x=None)\n",
    "preds1 = m1.predict(h=h, x=None)"
   ]
  },
  {
   "cell_type": "code",
   "execution_count": null,
   "metadata": {},
   "outputs": [],
   "source": [
    "m2 = FourierForecast()"
   ]
  },
  {
   "cell_type": "code",
   "execution_count": 11,
   "metadata": {},
   "outputs": [
    {
     "data": {
      "application/vnd.plotly.v1+json": {
       "config": {
        "plotlyServerURL": "https://plot.ly"
       },
       "data": [
        {
         "mode": "lines",
         "name": "SUNACTIVITY",
         "type": "scatter",
         "x": [
          1700,
          1701,
          1702,
          1703,
          1704,
          1705,
          1706,
          1707,
          1708,
          1709,
          1710,
          1711,
          1712,
          1713,
          1714,
          1715,
          1716,
          1717,
          1718,
          1719,
          1720,
          1721,
          1722,
          1723,
          1724,
          1725,
          1726,
          1727,
          1728,
          1729,
          1730,
          1731,
          1732,
          1733,
          1734,
          1735,
          1736,
          1737,
          1738,
          1739,
          1740,
          1741,
          1742,
          1743,
          1744,
          1745,
          1746,
          1747,
          1748,
          1749,
          1750,
          1751,
          1752,
          1753,
          1754,
          1755,
          1756,
          1757,
          1758,
          1759,
          1760,
          1761,
          1762,
          1763,
          1764,
          1765,
          1766,
          1767,
          1768,
          1769,
          1770,
          1771,
          1772,
          1773,
          1774,
          1775,
          1776,
          1777,
          1778,
          1779,
          1780,
          1781,
          1782,
          1783,
          1784,
          1785,
          1786,
          1787,
          1788,
          1789,
          1790,
          1791,
          1792,
          1793,
          1794,
          1795,
          1796,
          1797,
          1798,
          1799,
          1800,
          1801,
          1802,
          1803,
          1804,
          1805,
          1806,
          1807,
          1808,
          1809,
          1810,
          1811,
          1812,
          1813,
          1814,
          1815,
          1816,
          1817,
          1818,
          1819,
          1820,
          1821,
          1822,
          1823,
          1824,
          1825,
          1826,
          1827,
          1828,
          1829,
          1830,
          1831,
          1832,
          1833,
          1834,
          1835,
          1836,
          1837,
          1838,
          1839,
          1840,
          1841,
          1842,
          1843,
          1844,
          1845,
          1846,
          1847,
          1848,
          1849,
          1850,
          1851,
          1852,
          1853,
          1854,
          1855,
          1856,
          1857,
          1858,
          1859,
          1860,
          1861,
          1862,
          1863,
          1864,
          1865,
          1866,
          1867,
          1868,
          1869,
          1870,
          1871,
          1872,
          1873,
          1874,
          1875,
          1876,
          1877,
          1878,
          1879,
          1880,
          1881,
          1882,
          1883,
          1884,
          1885,
          1886,
          1887,
          1888,
          1889,
          1890,
          1891,
          1892,
          1893,
          1894,
          1895,
          1896,
          1897,
          1898,
          1899,
          1900,
          1901,
          1902,
          1903,
          1904,
          1905,
          1906,
          1907,
          1908,
          1909,
          1910,
          1911,
          1912,
          1913,
          1914,
          1915,
          1916,
          1917,
          1918,
          1919,
          1920,
          1921,
          1922,
          1923,
          1924,
          1925,
          1926,
          1927,
          1928,
          1929,
          1930,
          1931,
          1932,
          1933,
          1934,
          1935,
          1936,
          1937,
          1938,
          1939,
          1940,
          1941,
          1942,
          1943,
          1944,
          1945,
          1946,
          1947,
          1948,
          1949,
          1950,
          1951,
          1952,
          1953,
          1954,
          1955,
          1956,
          1957,
          1958,
          1959,
          1960,
          1961,
          1962,
          1963,
          1964,
          1965,
          1966,
          1967,
          1968,
          1969,
          1970,
          1971,
          1972,
          1973,
          1974,
          1975,
          1976,
          1977,
          1978,
          1979,
          1980,
          1981,
          1982,
          1983,
          1984,
          1985,
          1986,
          1987,
          1988,
          1989,
          1990,
          1991,
          1992,
          1993,
          1994,
          1995,
          1996,
          1997,
          1998,
          1999,
          2000,
          2001,
          2002,
          2003,
          2004,
          2005,
          2006,
          2007,
          2008
         ],
         "y": [
          5,
          11,
          16,
          23,
          36,
          58,
          29,
          20,
          10,
          8,
          3,
          0,
          0,
          2,
          11,
          27,
          47,
          63,
          60,
          39,
          28,
          26,
          22,
          11,
          21,
          40,
          78,
          122,
          103,
          73,
          47,
          35,
          11,
          5,
          16,
          34,
          70,
          81,
          111,
          101,
          73,
          40,
          20,
          16,
          5,
          11,
          22,
          40,
          60,
          80.9,
          83.4,
          47.7,
          47.8,
          30.7,
          12.2,
          9.6,
          10.2,
          32.4,
          47.6,
          54,
          62.9,
          85.9,
          61.2,
          45.1,
          36.4,
          20.9,
          11.4,
          37.8,
          69.8,
          106.1,
          100.8,
          81.6,
          66.5,
          34.8,
          30.6,
          7,
          19.8,
          92.5,
          154.4,
          125.9,
          84.8,
          68.1,
          38.5,
          22.8,
          10.2,
          24.1,
          82.9,
          132,
          130.9,
          118.1,
          89.9,
          66.6,
          60,
          46.9,
          41,
          21.3,
          16,
          6.4,
          4.1,
          6.8,
          14.5,
          34,
          45,
          43.1,
          47.5,
          42.2,
          28.1,
          10.1,
          8.1,
          2.5,
          0,
          1.4,
          5,
          12.2,
          13.9,
          35.4,
          45.8,
          41.1,
          30.1,
          23.9,
          15.6,
          6.6,
          4,
          1.8,
          8.5,
          16.6,
          36.3,
          49.6,
          64.2,
          67,
          70.9,
          47.8,
          27.5,
          8.5,
          13.2,
          56.9,
          121.5,
          138.3,
          103.2,
          85.7,
          64.6,
          36.7,
          24.2,
          10.7,
          15,
          40.1,
          61.5,
          98.5,
          124.7,
          96.3,
          66.6,
          64.5,
          54.1,
          39,
          20.6,
          6.7,
          4.3,
          22.7,
          54.8,
          93.8,
          95.8,
          77.2,
          59.1,
          44,
          47,
          30.5,
          16.3,
          7.3,
          37.6,
          74,
          139,
          111.2,
          101.6,
          66.2,
          44.7,
          17,
          11.3,
          12.4,
          3.4,
          6,
          32.3,
          54.3,
          59.7,
          63.7,
          63.5,
          52.2,
          25.4,
          13.1,
          6.8,
          6.3,
          7.1,
          35.6,
          73,
          85.1,
          78,
          64,
          41.8,
          26.2,
          26.7,
          12.1,
          9.5,
          2.7,
          5,
          24.4,
          42,
          63.5,
          53.8,
          62,
          48.5,
          43.9,
          18.6,
          5.7,
          3.6,
          1.4,
          9.6,
          47.4,
          57.1,
          103.9,
          80.6,
          63.6,
          37.6,
          26.1,
          14.2,
          5.8,
          16.7,
          44.3,
          63.9,
          69,
          77.8,
          64.9,
          35.7,
          21.2,
          11.1,
          5.7,
          8.7,
          36.1,
          79.7,
          114.4,
          109.6,
          88.8,
          67.8,
          47.5,
          30.6,
          16.3,
          9.6,
          33.2,
          92.6,
          151.6,
          136.3,
          134.7,
          83.9,
          69.4,
          31.5,
          13.9,
          4.4,
          38,
          141.7,
          190.2,
          184.8,
          159,
          112.3,
          53.9,
          37.6,
          27.9,
          10.2,
          15.1,
          47,
          93.8,
          105.9,
          105.5,
          104.5,
          66.6,
          68.9,
          38,
          34.5,
          15.5,
          12.6,
          27.5,
          92.5,
          155.4,
          154.6,
          140.4,
          115.9,
          66.6,
          45.9,
          17.9,
          13.4,
          29.4,
          100.2,
          157.6,
          142.6,
          145.7,
          94.3,
          54.6,
          29.9,
          17.5,
          8.6,
          21.5,
          64.3,
          93.3,
          119.6,
          111,
          104,
          63.7,
          40.4,
          29.8,
          15.2,
          7.5,
          2.9
         ]
        },
        {
         "mode": "lines",
         "name": "PREDS",
         "type": "scatter",
         "x": [
          1976,
          1977,
          1978,
          1979,
          1980,
          1981,
          1982,
          1983,
          1984,
          1985,
          1986,
          1987,
          1988,
          1989,
          1990,
          1991,
          1992,
          1993,
          1994,
          1995,
          1996,
          1997,
          1998,
          1999,
          2000,
          2001,
          2002,
          2003,
          2004,
          2005,
          2006,
          2007,
          2008
         ],
         "y": [
          13.215708654800014,
          26.823743508253017,
          69.7061950248899,
          106.29745510262867,
          117.98744983257477,
          103.30906840668061,
          70.7734409961555,
          47.98903426655187,
          35.50983514925893,
          25.156922999067906,
          22.956273236994612,
          23.191266998983423,
          44.55743082319018,
          89.97192415023362,
          126.58671471414499,
          109.76552074592604,
          97.24623739131934,
          64.61130676560822,
          60.973305937408185,
          42.95897184289079,
          34.95986329387844,
          28.599303439275836,
          52.050237831662756,
          114.50961515285924,
          129.6212534818631,
          119.50385480872943,
          98.2011429647305,
          86.8266343223625,
          59.84891984571054,
          63.84707869493829,
          62.22727565307171,
          48.77337157497249,
          42.57692734317201
         ]
        }
       ],
       "layout": {
        "showlegend": true,
        "template": {
         "data": {
          "bar": [
           {
            "error_x": {
             "color": "#2a3f5f"
            },
            "error_y": {
             "color": "#2a3f5f"
            },
            "marker": {
             "line": {
              "color": "#E5ECF6",
              "width": 0.5
             },
             "pattern": {
              "fillmode": "overlay",
              "size": 10,
              "solidity": 0.2
             }
            },
            "type": "bar"
           }
          ],
          "barpolar": [
           {
            "marker": {
             "line": {
              "color": "#E5ECF6",
              "width": 0.5
             },
             "pattern": {
              "fillmode": "overlay",
              "size": 10,
              "solidity": 0.2
             }
            },
            "type": "barpolar"
           }
          ],
          "carpet": [
           {
            "aaxis": {
             "endlinecolor": "#2a3f5f",
             "gridcolor": "white",
             "linecolor": "white",
             "minorgridcolor": "white",
             "startlinecolor": "#2a3f5f"
            },
            "baxis": {
             "endlinecolor": "#2a3f5f",
             "gridcolor": "white",
             "linecolor": "white",
             "minorgridcolor": "white",
             "startlinecolor": "#2a3f5f"
            },
            "type": "carpet"
           }
          ],
          "choropleth": [
           {
            "colorbar": {
             "outlinewidth": 0,
             "ticks": ""
            },
            "type": "choropleth"
           }
          ],
          "contour": [
           {
            "colorbar": {
             "outlinewidth": 0,
             "ticks": ""
            },
            "colorscale": [
             [
              0,
              "#0d0887"
             ],
             [
              0.1111111111111111,
              "#46039f"
             ],
             [
              0.2222222222222222,
              "#7201a8"
             ],
             [
              0.3333333333333333,
              "#9c179e"
             ],
             [
              0.4444444444444444,
              "#bd3786"
             ],
             [
              0.5555555555555556,
              "#d8576b"
             ],
             [
              0.6666666666666666,
              "#ed7953"
             ],
             [
              0.7777777777777778,
              "#fb9f3a"
             ],
             [
              0.8888888888888888,
              "#fdca26"
             ],
             [
              1,
              "#f0f921"
             ]
            ],
            "type": "contour"
           }
          ],
          "contourcarpet": [
           {
            "colorbar": {
             "outlinewidth": 0,
             "ticks": ""
            },
            "type": "contourcarpet"
           }
          ],
          "heatmap": [
           {
            "colorbar": {
             "outlinewidth": 0,
             "ticks": ""
            },
            "colorscale": [
             [
              0,
              "#0d0887"
             ],
             [
              0.1111111111111111,
              "#46039f"
             ],
             [
              0.2222222222222222,
              "#7201a8"
             ],
             [
              0.3333333333333333,
              "#9c179e"
             ],
             [
              0.4444444444444444,
              "#bd3786"
             ],
             [
              0.5555555555555556,
              "#d8576b"
             ],
             [
              0.6666666666666666,
              "#ed7953"
             ],
             [
              0.7777777777777778,
              "#fb9f3a"
             ],
             [
              0.8888888888888888,
              "#fdca26"
             ],
             [
              1,
              "#f0f921"
             ]
            ],
            "type": "heatmap"
           }
          ],
          "heatmapgl": [
           {
            "colorbar": {
             "outlinewidth": 0,
             "ticks": ""
            },
            "colorscale": [
             [
              0,
              "#0d0887"
             ],
             [
              0.1111111111111111,
              "#46039f"
             ],
             [
              0.2222222222222222,
              "#7201a8"
             ],
             [
              0.3333333333333333,
              "#9c179e"
             ],
             [
              0.4444444444444444,
              "#bd3786"
             ],
             [
              0.5555555555555556,
              "#d8576b"
             ],
             [
              0.6666666666666666,
              "#ed7953"
             ],
             [
              0.7777777777777778,
              "#fb9f3a"
             ],
             [
              0.8888888888888888,
              "#fdca26"
             ],
             [
              1,
              "#f0f921"
             ]
            ],
            "type": "heatmapgl"
           }
          ],
          "histogram": [
           {
            "marker": {
             "pattern": {
              "fillmode": "overlay",
              "size": 10,
              "solidity": 0.2
             }
            },
            "type": "histogram"
           }
          ],
          "histogram2d": [
           {
            "colorbar": {
             "outlinewidth": 0,
             "ticks": ""
            },
            "colorscale": [
             [
              0,
              "#0d0887"
             ],
             [
              0.1111111111111111,
              "#46039f"
             ],
             [
              0.2222222222222222,
              "#7201a8"
             ],
             [
              0.3333333333333333,
              "#9c179e"
             ],
             [
              0.4444444444444444,
              "#bd3786"
             ],
             [
              0.5555555555555556,
              "#d8576b"
             ],
             [
              0.6666666666666666,
              "#ed7953"
             ],
             [
              0.7777777777777778,
              "#fb9f3a"
             ],
             [
              0.8888888888888888,
              "#fdca26"
             ],
             [
              1,
              "#f0f921"
             ]
            ],
            "type": "histogram2d"
           }
          ],
          "histogram2dcontour": [
           {
            "colorbar": {
             "outlinewidth": 0,
             "ticks": ""
            },
            "colorscale": [
             [
              0,
              "#0d0887"
             ],
             [
              0.1111111111111111,
              "#46039f"
             ],
             [
              0.2222222222222222,
              "#7201a8"
             ],
             [
              0.3333333333333333,
              "#9c179e"
             ],
             [
              0.4444444444444444,
              "#bd3786"
             ],
             [
              0.5555555555555556,
              "#d8576b"
             ],
             [
              0.6666666666666666,
              "#ed7953"
             ],
             [
              0.7777777777777778,
              "#fb9f3a"
             ],
             [
              0.8888888888888888,
              "#fdca26"
             ],
             [
              1,
              "#f0f921"
             ]
            ],
            "type": "histogram2dcontour"
           }
          ],
          "mesh3d": [
           {
            "colorbar": {
             "outlinewidth": 0,
             "ticks": ""
            },
            "type": "mesh3d"
           }
          ],
          "parcoords": [
           {
            "line": {
             "colorbar": {
              "outlinewidth": 0,
              "ticks": ""
             }
            },
            "type": "parcoords"
           }
          ],
          "pie": [
           {
            "automargin": true,
            "type": "pie"
           }
          ],
          "scatter": [
           {
            "fillpattern": {
             "fillmode": "overlay",
             "size": 10,
             "solidity": 0.2
            },
            "type": "scatter"
           }
          ],
          "scatter3d": [
           {
            "line": {
             "colorbar": {
              "outlinewidth": 0,
              "ticks": ""
             }
            },
            "marker": {
             "colorbar": {
              "outlinewidth": 0,
              "ticks": ""
             }
            },
            "type": "scatter3d"
           }
          ],
          "scattercarpet": [
           {
            "marker": {
             "colorbar": {
              "outlinewidth": 0,
              "ticks": ""
             }
            },
            "type": "scattercarpet"
           }
          ],
          "scattergeo": [
           {
            "marker": {
             "colorbar": {
              "outlinewidth": 0,
              "ticks": ""
             }
            },
            "type": "scattergeo"
           }
          ],
          "scattergl": [
           {
            "marker": {
             "colorbar": {
              "outlinewidth": 0,
              "ticks": ""
             }
            },
            "type": "scattergl"
           }
          ],
          "scattermapbox": [
           {
            "marker": {
             "colorbar": {
              "outlinewidth": 0,
              "ticks": ""
             }
            },
            "type": "scattermapbox"
           }
          ],
          "scatterpolar": [
           {
            "marker": {
             "colorbar": {
              "outlinewidth": 0,
              "ticks": ""
             }
            },
            "type": "scatterpolar"
           }
          ],
          "scatterpolargl": [
           {
            "marker": {
             "colorbar": {
              "outlinewidth": 0,
              "ticks": ""
             }
            },
            "type": "scatterpolargl"
           }
          ],
          "scatterternary": [
           {
            "marker": {
             "colorbar": {
              "outlinewidth": 0,
              "ticks": ""
             }
            },
            "type": "scatterternary"
           }
          ],
          "surface": [
           {
            "colorbar": {
             "outlinewidth": 0,
             "ticks": ""
            },
            "colorscale": [
             [
              0,
              "#0d0887"
             ],
             [
              0.1111111111111111,
              "#46039f"
             ],
             [
              0.2222222222222222,
              "#7201a8"
             ],
             [
              0.3333333333333333,
              "#9c179e"
             ],
             [
              0.4444444444444444,
              "#bd3786"
             ],
             [
              0.5555555555555556,
              "#d8576b"
             ],
             [
              0.6666666666666666,
              "#ed7953"
             ],
             [
              0.7777777777777778,
              "#fb9f3a"
             ],
             [
              0.8888888888888888,
              "#fdca26"
             ],
             [
              1,
              "#f0f921"
             ]
            ],
            "type": "surface"
           }
          ],
          "table": [
           {
            "cells": {
             "fill": {
              "color": "#EBF0F8"
             },
             "line": {
              "color": "white"
             }
            },
            "header": {
             "fill": {
              "color": "#C8D4E3"
             },
             "line": {
              "color": "white"
             }
            },
            "type": "table"
           }
          ]
         },
         "layout": {
          "annotationdefaults": {
           "arrowcolor": "#2a3f5f",
           "arrowhead": 0,
           "arrowwidth": 1
          },
          "autotypenumbers": "strict",
          "coloraxis": {
           "colorbar": {
            "outlinewidth": 0,
            "ticks": ""
           }
          },
          "colorscale": {
           "diverging": [
            [
             0,
             "#8e0152"
            ],
            [
             0.1,
             "#c51b7d"
            ],
            [
             0.2,
             "#de77ae"
            ],
            [
             0.3,
             "#f1b6da"
            ],
            [
             0.4,
             "#fde0ef"
            ],
            [
             0.5,
             "#f7f7f7"
            ],
            [
             0.6,
             "#e6f5d0"
            ],
            [
             0.7,
             "#b8e186"
            ],
            [
             0.8,
             "#7fbc41"
            ],
            [
             0.9,
             "#4d9221"
            ],
            [
             1,
             "#276419"
            ]
           ],
           "sequential": [
            [
             0,
             "#0d0887"
            ],
            [
             0.1111111111111111,
             "#46039f"
            ],
            [
             0.2222222222222222,
             "#7201a8"
            ],
            [
             0.3333333333333333,
             "#9c179e"
            ],
            [
             0.4444444444444444,
             "#bd3786"
            ],
            [
             0.5555555555555556,
             "#d8576b"
            ],
            [
             0.6666666666666666,
             "#ed7953"
            ],
            [
             0.7777777777777778,
             "#fb9f3a"
            ],
            [
             0.8888888888888888,
             "#fdca26"
            ],
            [
             1,
             "#f0f921"
            ]
           ],
           "sequentialminus": [
            [
             0,
             "#0d0887"
            ],
            [
             0.1111111111111111,
             "#46039f"
            ],
            [
             0.2222222222222222,
             "#7201a8"
            ],
            [
             0.3333333333333333,
             "#9c179e"
            ],
            [
             0.4444444444444444,
             "#bd3786"
            ],
            [
             0.5555555555555556,
             "#d8576b"
            ],
            [
             0.6666666666666666,
             "#ed7953"
            ],
            [
             0.7777777777777778,
             "#fb9f3a"
            ],
            [
             0.8888888888888888,
             "#fdca26"
            ],
            [
             1,
             "#f0f921"
            ]
           ]
          },
          "colorway": [
           "#636efa",
           "#EF553B",
           "#00cc96",
           "#ab63fa",
           "#FFA15A",
           "#19d3f3",
           "#FF6692",
           "#B6E880",
           "#FF97FF",
           "#FECB52"
          ],
          "font": {
           "color": "#2a3f5f"
          },
          "geo": {
           "bgcolor": "white",
           "lakecolor": "white",
           "landcolor": "#E5ECF6",
           "showlakes": true,
           "showland": true,
           "subunitcolor": "white"
          },
          "hoverlabel": {
           "align": "left"
          },
          "hovermode": "closest",
          "mapbox": {
           "style": "light"
          },
          "paper_bgcolor": "white",
          "plot_bgcolor": "#E5ECF6",
          "polar": {
           "angularaxis": {
            "gridcolor": "white",
            "linecolor": "white",
            "ticks": ""
           },
           "bgcolor": "#E5ECF6",
           "radialaxis": {
            "gridcolor": "white",
            "linecolor": "white",
            "ticks": ""
           }
          },
          "scene": {
           "xaxis": {
            "backgroundcolor": "#E5ECF6",
            "gridcolor": "white",
            "gridwidth": 2,
            "linecolor": "white",
            "showbackground": true,
            "ticks": "",
            "zerolinecolor": "white"
           },
           "yaxis": {
            "backgroundcolor": "#E5ECF6",
            "gridcolor": "white",
            "gridwidth": 2,
            "linecolor": "white",
            "showbackground": true,
            "ticks": "",
            "zerolinecolor": "white"
           },
           "zaxis": {
            "backgroundcolor": "#E5ECF6",
            "gridcolor": "white",
            "gridwidth": 2,
            "linecolor": "white",
            "showbackground": true,
            "ticks": "",
            "zerolinecolor": "white"
           }
          },
          "shapedefaults": {
           "line": {
            "color": "#2a3f5f"
           }
          },
          "ternary": {
           "aaxis": {
            "gridcolor": "white",
            "linecolor": "white",
            "ticks": ""
           },
           "baxis": {
            "gridcolor": "white",
            "linecolor": "white",
            "ticks": ""
           },
           "bgcolor": "#E5ECF6",
           "caxis": {
            "gridcolor": "white",
            "linecolor": "white",
            "ticks": ""
           }
          },
          "title": {
           "x": 0.05
          },
          "xaxis": {
           "automargin": true,
           "gridcolor": "white",
           "linecolor": "white",
           "ticks": "",
           "title": {
            "standoff": 15
           },
           "zerolinecolor": "white",
           "zerolinewidth": 2
          },
          "yaxis": {
           "automargin": true,
           "gridcolor": "white",
           "linecolor": "white",
           "ticks": "",
           "title": {
            "standoff": 15
           },
           "zerolinecolor": "white",
           "zerolinewidth": 2
          }
         }
        }
       }
      }
     },
     "metadata": {},
     "output_type": "display_data"
    }
   ],
   "source": [
    "fig = go.Figure()\n",
    "fig.add_trace(go.Scatter(x=df[ds], y=df[y], mode='lines', name=y))\n",
    "fig.add_trace(go.Scatter(x=df[ds].tail(len(preds)), y=preds, mode='lines', name=\"PREDS\"))\n",
    "fig.update_layout(showlegend=True)\n",
    "fig.show()"
   ]
  }
 ],
 "metadata": {
  "kernelspec": {
   "display_name": "env",
   "language": "python",
   "name": "python3"
  },
  "language_info": {
   "codemirror_mode": {
    "name": "ipython",
    "version": 3
   },
   "file_extension": ".py",
   "mimetype": "text/x-python",
   "name": "python",
   "nbconvert_exporter": "python",
   "pygments_lexer": "ipython3",
   "version": "3.10.7"
  }
 },
 "nbformat": 4,
 "nbformat_minor": 2
}
