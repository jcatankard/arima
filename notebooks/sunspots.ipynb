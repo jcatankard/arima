{
 "cells": [
  {
   "cell_type": "code",
   "execution_count": 1,
   "metadata": {},
   "outputs": [
    {
     "name": "stdout",
     "output_type": "stream",
     "text": [
      "Requirement already satisfied: statsforecast in c:\\users\\e10110199\\rust_projects\\arima\\env\\lib\\site-packages (1.7.3)\n",
      "Requirement already satisfied: cloudpickle in c:\\users\\e10110199\\rust_projects\\arima\\env\\lib\\site-packages (from statsforecast) (3.0.0)\n",
      "Requirement already satisfied: numba>=0.55.0 in c:\\users\\e10110199\\rust_projects\\arima\\env\\lib\\site-packages (from statsforecast) (0.59.0)\n",
      "Requirement already satisfied: numpy>=1.21.6 in c:\\users\\e10110199\\rust_projects\\arima\\env\\lib\\site-packages (from statsforecast) (1.26.4)\n",
      "Requirement already satisfied: pandas>=1.3.5 in c:\\users\\e10110199\\rust_projects\\arima\\env\\lib\\site-packages (from statsforecast) (2.2.1)\n",
      "Requirement already satisfied: scipy>=1.7.3 in c:\\users\\e10110199\\rust_projects\\arima\\env\\lib\\site-packages (from statsforecast) (1.12.0)\n",
      "Requirement already satisfied: statsmodels>=0.13.2 in c:\\users\\e10110199\\rust_projects\\arima\\env\\lib\\site-packages (from statsforecast) (0.14.1)\n",
      "Requirement already satisfied: tqdm in c:\\users\\e10110199\\rust_projects\\arima\\env\\lib\\site-packages (from statsforecast) (4.66.2)\n",
      "Requirement already satisfied: fugue>=0.8.1 in c:\\users\\e10110199\\rust_projects\\arima\\env\\lib\\site-packages (from statsforecast) (0.8.7)\n",
      "Requirement already satisfied: utilsforecast>=0.0.24 in c:\\users\\e10110199\\rust_projects\\arima\\env\\lib\\site-packages (from statsforecast) (0.1.1)\n",
      "Requirement already satisfied: threadpoolctl in c:\\users\\e10110199\\rust_projects\\arima\\env\\lib\\site-packages (from statsforecast) (3.3.0)\n",
      "Requirement already satisfied: triad>=0.9.3 in c:\\users\\e10110199\\rust_projects\\arima\\env\\lib\\site-packages (from fugue>=0.8.1->statsforecast) (0.9.5)\n",
      "Requirement already satisfied: adagio>=0.2.4 in c:\\users\\e10110199\\rust_projects\\arima\\env\\lib\\site-packages (from fugue>=0.8.1->statsforecast) (0.2.4)\n",
      "Requirement already satisfied: qpd>=0.4.4 in c:\\users\\e10110199\\rust_projects\\arima\\env\\lib\\site-packages (from fugue>=0.8.1->statsforecast) (0.4.4)\n",
      "Requirement already satisfied: fugue-sql-antlr>=0.1.6 in c:\\users\\e10110199\\rust_projects\\arima\\env\\lib\\site-packages (from fugue>=0.8.1->statsforecast) (0.2.0)\n",
      "Requirement already satisfied: sqlglot in c:\\users\\e10110199\\rust_projects\\arima\\env\\lib\\site-packages (from fugue>=0.8.1->statsforecast) (22.2.1)\n",
      "Requirement already satisfied: jinja2 in c:\\users\\e10110199\\rust_projects\\arima\\env\\lib\\site-packages (from fugue>=0.8.1->statsforecast) (3.1.3)\n",
      "Requirement already satisfied: llvmlite<0.43,>=0.42.0dev0 in c:\\users\\e10110199\\rust_projects\\arima\\env\\lib\\site-packages (from numba>=0.55.0->statsforecast) (0.42.0)\n",
      "Requirement already satisfied: python-dateutil>=2.8.2 in c:\\users\\e10110199\\rust_projects\\arima\\env\\lib\\site-packages (from pandas>=1.3.5->statsforecast) (2.9.0.post0)\n",
      "Requirement already satisfied: pytz>=2020.1 in c:\\users\\e10110199\\rust_projects\\arima\\env\\lib\\site-packages (from pandas>=1.3.5->statsforecast) (2024.1)\n",
      "Requirement already satisfied: tzdata>=2022.7 in c:\\users\\e10110199\\rust_projects\\arima\\env\\lib\\site-packages (from pandas>=1.3.5->statsforecast) (2024.1)\n",
      "Requirement already satisfied: patsy>=0.5.4 in c:\\users\\e10110199\\rust_projects\\arima\\env\\lib\\site-packages (from statsmodels>=0.13.2->statsforecast) (0.5.6)\n",
      "Requirement already satisfied: packaging>=21.3 in c:\\users\\e10110199\\rust_projects\\arima\\env\\lib\\site-packages (from statsmodels>=0.13.2->statsforecast) (23.2)\n",
      "Requirement already satisfied: colorama in c:\\users\\e10110199\\rust_projects\\arima\\env\\lib\\site-packages (from tqdm->statsforecast) (0.4.6)\n",
      "Requirement already satisfied: antlr4-python3-runtime<4.12 in c:\\users\\e10110199\\rust_projects\\arima\\env\\lib\\site-packages (from fugue-sql-antlr>=0.1.6->fugue>=0.8.1->statsforecast) (4.11.1)\n",
      "Requirement already satisfied: six in c:\\users\\e10110199\\rust_projects\\arima\\env\\lib\\site-packages (from patsy>=0.5.4->statsmodels>=0.13.2->statsforecast) (1.16.0)\n",
      "Requirement already satisfied: pyarrow>=6.0.1 in c:\\users\\e10110199\\rust_projects\\arima\\env\\lib\\site-packages (from triad>=0.9.3->fugue>=0.8.1->statsforecast) (15.0.0)\n",
      "Requirement already satisfied: fsspec>=2022.5.0 in c:\\users\\e10110199\\rust_projects\\arima\\env\\lib\\site-packages (from triad>=0.9.3->fugue>=0.8.1->statsforecast) (2024.2.0)\n",
      "Requirement already satisfied: fs in c:\\users\\e10110199\\rust_projects\\arima\\env\\lib\\site-packages (from triad>=0.9.3->fugue>=0.8.1->statsforecast) (2.4.16)\n",
      "Requirement already satisfied: MarkupSafe>=2.0 in c:\\users\\e10110199\\rust_projects\\arima\\env\\lib\\site-packages (from jinja2->fugue>=0.8.1->statsforecast) (2.1.5)\n",
      "Requirement already satisfied: appdirs~=1.4.3 in c:\\users\\e10110199\\rust_projects\\arima\\env\\lib\\site-packages (from fs->triad>=0.9.3->fugue>=0.8.1->statsforecast) (1.4.4)\n",
      "Requirement already satisfied: setuptools in c:\\users\\e10110199\\rust_projects\\arima\\env\\lib\\site-packages (from fs->triad>=0.9.3->fugue>=0.8.1->statsforecast) (63.2.0)\n",
      "Note: you may need to restart the kernel to use updated packages.\n",
      "Requirement already satisfied: statsmodels in c:\\users\\e10110199\\rust_projects\\arima\\env\\lib\\site-packages (0.14.1)\n",
      "Requirement already satisfied: numpy<2,>=1.18 in c:\\users\\e10110199\\rust_projects\\arima\\env\\lib\\site-packages (from statsmodels) (1.26.4)\n",
      "Requirement already satisfied: scipy!=1.9.2,>=1.4 in c:\\users\\e10110199\\rust_projects\\arima\\env\\lib\\site-packages (from statsmodels) (1.12.0)\n",
      "Requirement already satisfied: pandas!=2.1.0,>=1.0 in c:\\users\\e10110199\\rust_projects\\arima\\env\\lib\\site-packages (from statsmodels) (2.2.1)\n",
      "Requirement already satisfied: patsy>=0.5.4 in c:\\users\\e10110199\\rust_projects\\arima\\env\\lib\\site-packages (from statsmodels) (0.5.6)\n",
      "Requirement already satisfied: packaging>=21.3 in c:\\users\\e10110199\\rust_projects\\arima\\env\\lib\\site-packages (from statsmodels) (23.2)\n",
      "Requirement already satisfied: python-dateutil>=2.8.2 in c:\\users\\e10110199\\rust_projects\\arima\\env\\lib\\site-packages (from pandas!=2.1.0,>=1.0->statsmodels) (2.9.0.post0)\n",
      "Requirement already satisfied: pytz>=2020.1 in c:\\users\\e10110199\\rust_projects\\arima\\env\\lib\\site-packages (from pandas!=2.1.0,>=1.0->statsmodels) (2024.1)\n",
      "Requirement already satisfied: tzdata>=2022.7 in c:\\users\\e10110199\\rust_projects\\arima\\env\\lib\\site-packages (from pandas!=2.1.0,>=1.0->statsmodels) (2024.1)\n",
      "Requirement already satisfied: six in c:\\users\\e10110199\\rust_projects\\arima\\env\\lib\\site-packages (from patsy>=0.5.4->statsmodels) (1.16.0)\n",
      "Note: you may need to restart the kernel to use updated packages.\n",
      "Requirement already satisfied: pmdarima in c:\\users\\e10110199\\rust_projects\\arima\\env\\lib\\site-packages (2.0.4)\n",
      "Requirement already satisfied: joblib>=0.11 in c:\\users\\e10110199\\rust_projects\\arima\\env\\lib\\site-packages (from pmdarima) (1.3.2)\n",
      "Requirement already satisfied: Cython!=0.29.18,!=0.29.31,>=0.29 in c:\\users\\e10110199\\rust_projects\\arima\\env\\lib\\site-packages (from pmdarima) (3.0.9)\n",
      "Requirement already satisfied: numpy>=1.21.2 in c:\\users\\e10110199\\rust_projects\\arima\\env\\lib\\site-packages (from pmdarima) (1.26.4)\n",
      "Requirement already satisfied: pandas>=0.19 in c:\\users\\e10110199\\rust_projects\\arima\\env\\lib\\site-packages (from pmdarima) (2.2.1)\n",
      "Requirement already satisfied: scikit-learn>=0.22 in c:\\users\\e10110199\\rust_projects\\arima\\env\\lib\\site-packages (from pmdarima) (1.4.1.post1)\n",
      "Requirement already satisfied: scipy>=1.3.2 in c:\\users\\e10110199\\rust_projects\\arima\\env\\lib\\site-packages (from pmdarima) (1.12.0)\n",
      "Requirement already satisfied: statsmodels>=0.13.2 in c:\\users\\e10110199\\rust_projects\\arima\\env\\lib\\site-packages (from pmdarima) (0.14.1)\n",
      "Requirement already satisfied: urllib3 in c:\\users\\e10110199\\rust_projects\\arima\\env\\lib\\site-packages (from pmdarima) (2.2.1)\n",
      "Requirement already satisfied: setuptools!=50.0.0,>=38.6.0 in c:\\users\\e10110199\\rust_projects\\arima\\env\\lib\\site-packages (from pmdarima) (63.2.0)\n",
      "Requirement already satisfied: packaging>=17.1 in c:\\users\\e10110199\\rust_projects\\arima\\env\\lib\\site-packages (from pmdarima) (23.2)\n",
      "Requirement already satisfied: python-dateutil>=2.8.2 in c:\\users\\e10110199\\rust_projects\\arima\\env\\lib\\site-packages (from pandas>=0.19->pmdarima) (2.9.0.post0)\n",
      "Requirement already satisfied: pytz>=2020.1 in c:\\users\\e10110199\\rust_projects\\arima\\env\\lib\\site-packages (from pandas>=0.19->pmdarima) (2024.1)\n",
      "Requirement already satisfied: tzdata>=2022.7 in c:\\users\\e10110199\\rust_projects\\arima\\env\\lib\\site-packages (from pandas>=0.19->pmdarima) (2024.1)\n",
      "Requirement already satisfied: threadpoolctl>=2.0.0 in c:\\users\\e10110199\\rust_projects\\arima\\env\\lib\\site-packages (from scikit-learn>=0.22->pmdarima) (3.3.0)\n",
      "Requirement already satisfied: patsy>=0.5.4 in c:\\users\\e10110199\\rust_projects\\arima\\env\\lib\\site-packages (from statsmodels>=0.13.2->pmdarima) (0.5.6)\n",
      "Requirement already satisfied: six in c:\\users\\e10110199\\rust_projects\\arima\\env\\lib\\site-packages (from patsy>=0.5.4->statsmodels>=0.13.2->pmdarima) (1.16.0)\n",
      "Note: you may need to restart the kernel to use updated packages.\n",
      "Requirement already satisfied: pandas in c:\\users\\e10110199\\rust_projects\\arima\\env\\lib\\site-packages (2.2.1)\n",
      "Requirement already satisfied: numpy<2,>=1.22.4 in c:\\users\\e10110199\\rust_projects\\arima\\env\\lib\\site-packages (from pandas) (1.26.4)\n",
      "Requirement already satisfied: python-dateutil>=2.8.2 in c:\\users\\e10110199\\rust_projects\\arima\\env\\lib\\site-packages (from pandas) (2.9.0.post0)\n",
      "Requirement already satisfied: pytz>=2020.1 in c:\\users\\e10110199\\rust_projects\\arima\\env\\lib\\site-packages (from pandas) (2024.1)\n",
      "Requirement already satisfied: tzdata>=2022.7 in c:\\users\\e10110199\\rust_projects\\arima\\env\\lib\\site-packages (from pandas) (2024.1)\n",
      "Requirement already satisfied: six>=1.5 in c:\\users\\e10110199\\rust_projects\\arima\\env\\lib\\site-packages (from python-dateutil>=2.8.2->pandas) (1.16.0)\n",
      "Note: you may need to restart the kernel to use updated packages.\n",
      "Requirement already satisfied: plotly in c:\\users\\e10110199\\rust_projects\\arima\\env\\lib\\site-packages (5.19.0)\n",
      "Requirement already satisfied: tenacity>=6.2.0 in c:\\users\\e10110199\\rust_projects\\arima\\env\\lib\\site-packages (from plotly) (8.2.3)\n",
      "Requirement already satisfied: packaging in c:\\users\\e10110199\\rust_projects\\arima\\env\\lib\\site-packages (from plotly) (23.2)\n",
      "Note: you may need to restart the kernel to use updated packages.\n",
      "Note: you may need to restart the kernel to use updated packages.\n"
     ]
    }
   ],
   "source": [
    "%pip install statsforecast\n",
    "%pip install statsmodels\n",
    "%pip install pmdarima\n",
    "%pip install pandas\n",
    "%pip install plotly\n",
    "%pip install nbformat>=4.2.0"
   ]
  },
  {
   "cell_type": "markdown",
   "metadata": {},
   "source": [
    "# YEARLY SUNSPOT DATA"
   ]
  },
  {
   "cell_type": "code",
   "execution_count": 2,
   "metadata": {},
   "outputs": [
    {
     "name": "stderr",
     "output_type": "stream",
     "text": [
      "c:\\Users\\e10110199\\rust_projects\\arima\\env\\lib\\site-packages\\statsforecast\\core.py:26: TqdmWarning: IProgress not found. Please update jupyter and ipywidgets. See https://ipywidgets.readthedocs.io/en/stable/user_install.html\n",
      "  from tqdm.autonotebook import tqdm\n",
      "c:\\Users\\e10110199\\rust_projects\\arima\\env\\lib\\site-packages\\statsforecast\\utils.py:237: FutureWarning: 'M' is deprecated and will be removed in a future version, please use 'ME' instead.\n",
      "  \"ds\": pd.date_range(start=\"1949-01-01\", periods=len(AirPassengers), freq=\"M\"),\n"
     ]
    }
   ],
   "source": [
    "from statsforecast.models import ARIMA\n",
    "from pmdarima.arima import auto_arima\n",
    "import plotly.graph_objs as go\n",
    "import statsmodels.api as sm\n",
    "from arima import Model"
   ]
  },
  {
   "cell_type": "code",
   "execution_count": 3,
   "metadata": {},
   "outputs": [],
   "source": [
    "H = 45\n",
    "DS = \"YEAR\"\n",
    "Y = \"SUNACTIVITY\""
   ]
  },
  {
   "cell_type": "code",
   "execution_count": 4,
   "metadata": {},
   "outputs": [],
   "source": [
    "df = sm.datasets.sunspots.load_pandas().data\n",
    "y_train = df[Y].values[:-H]"
   ]
  },
  {
   "cell_type": "markdown",
   "metadata": {},
   "source": [
    "# Search hyper-parameters"
   ]
  },
  {
   "cell_type": "code",
   "execution_count": 5,
   "metadata": {},
   "outputs": [],
   "source": [
    "# search = auto_arima(\n",
    "#     y=y_train,\n",
    "#     start_p=0,\n",
    "#     max_p=5,\n",
    "#     d=0,\n",
    "#     max_d=1,\n",
    "#     start_q=0,\n",
    "#     max_q=5,\n",
    "#     start_P=0,\n",
    "#     max_P=2,\n",
    "#     start_Q=0,\n",
    "#     max_Q=2,\n",
    "#     D=1,\n",
    "#     seasonal=True,\n",
    "#     m=43,\n",
    "#     stepwise=True,\n",
    "#     maxiter=50,\n",
    "#     information_criterion=\"aic\",\n",
    "#     suppress_warnings=True,\n",
    "#     trace=True\n",
    "# )"
   ]
  },
  {
   "cell_type": "code",
   "execution_count": 14,
   "metadata": {},
   "outputs": [],
   "source": [
    "# params = search.get_params()\n",
    "# order = params[\"order\"]\n",
    "order = (2, 0, 1)\n",
    "# order = (3, 0, 0)\n",
    "# seasonal_order = params[\"seasonal_order\"]\n",
    "seasonal_order = (2, 1, 0, 43)\n",
    "# params"
   ]
  },
  {
   "cell_type": "markdown",
   "metadata": {},
   "source": [
    "# Train arima models"
   ]
  },
  {
   "cell_type": "markdown",
   "metadata": {},
   "source": [
    "### My Arima"
   ]
  },
  {
   "cell_type": "code",
   "execution_count": 15,
   "metadata": {},
   "outputs": [
    {
     "name": "stdout",
     "output_type": "stream",
     "text": [
      "410 µs ± 11.1 µs per loop (mean ± std. dev. of 7 runs, 1,000 loops each)\n"
     ]
    }
   ],
   "source": [
    "%%timeit\n",
    "m1 = Model.sarima(order=order, seasonal_order=seasonal_order)\n",
    "m1.fit(y=y_train)\n",
    "preds1 = m1.predict(h=H, x=None)"
   ]
  },
  {
   "cell_type": "markdown",
   "metadata": {},
   "source": [
    "### StatsForecast"
   ]
  },
  {
   "cell_type": "code",
   "execution_count": 16,
   "metadata": {},
   "outputs": [
    {
     "name": "stderr",
     "output_type": "stream",
     "text": [
      "c:\\Users\\e10110199\\rust_projects\\arima\\env\\lib\\site-packages\\statsforecast\\arima.py:1158: RuntimeWarning:\n",
      "\n",
      "invalid value encountered in sqrt\n",
      "\n",
      "c:\\Users\\e10110199\\rust_projects\\arima\\env\\lib\\site-packages\\statsforecast\\arima.py:1158: RuntimeWarning:\n",
      "\n",
      "invalid value encountered in sqrt\n",
      "\n",
      "c:\\Users\\e10110199\\rust_projects\\arima\\env\\lib\\site-packages\\statsforecast\\arima.py:1158: RuntimeWarning:\n",
      "\n",
      "invalid value encountered in sqrt\n",
      "\n",
      "c:\\Users\\e10110199\\rust_projects\\arima\\env\\lib\\site-packages\\statsforecast\\arima.py:1158: RuntimeWarning:\n",
      "\n",
      "invalid value encountered in sqrt\n",
      "\n",
      "c:\\Users\\e10110199\\rust_projects\\arima\\env\\lib\\site-packages\\statsforecast\\arima.py:1158: RuntimeWarning:\n",
      "\n",
      "invalid value encountered in sqrt\n",
      "\n",
      "c:\\Users\\e10110199\\rust_projects\\arima\\env\\lib\\site-packages\\statsforecast\\arima.py:1158: RuntimeWarning:\n",
      "\n",
      "invalid value encountered in sqrt\n",
      "\n",
      "c:\\Users\\e10110199\\rust_projects\\arima\\env\\lib\\site-packages\\statsforecast\\arima.py:1158: RuntimeWarning:\n",
      "\n",
      "invalid value encountered in sqrt\n",
      "\n"
     ]
    },
    {
     "name": "stdout",
     "output_type": "stream",
     "text": [
      "1min 4s ± 1.87 s per loop (mean ± std. dev. of 7 runs, 1 loop each)\n"
     ]
    },
    {
     "name": "stderr",
     "output_type": "stream",
     "text": [
      "c:\\Users\\e10110199\\rust_projects\\arima\\env\\lib\\site-packages\\statsforecast\\arima.py:1158: RuntimeWarning:\n",
      "\n",
      "invalid value encountered in sqrt\n",
      "\n"
     ]
    }
   ],
   "source": [
    "%%timeit\n",
    "m2 = ARIMA(order=order, seasonal_order=seasonal_order[: -1], season_length=seasonal_order[-1])\n",
    "preds2 = m2.forecast(y=y_train, h=H)[\"mean\"]"
   ]
  },
  {
   "cell_type": "markdown",
   "metadata": {},
   "source": [
    "### Statsmodels"
   ]
  },
  {
   "cell_type": "code",
   "execution_count": 9,
   "metadata": {},
   "outputs": [],
   "source": [
    "m3 = (sm.tsa.statespace\n",
    "      .SARIMAX(endog=y_train, order=order, seasonal_order=seasonal_order)\n",
    "      .fit()\n",
    ")\n",
    "preds3 = m3.predict(start=y_train.size, end=y_train.size + H - 1)"
   ]
  },
  {
   "cell_type": "markdown",
   "metadata": {},
   "source": [
    "# Plot"
   ]
  },
  {
   "cell_type": "code",
   "execution_count": 13,
   "metadata": {},
   "outputs": [
    {
     "data": {
      "application/vnd.plotly.v1+json": {
       "config": {
        "plotlyServerURL": "https://plot.ly"
       },
       "data": [
        {
         "mode": "lines",
         "name": "SUNACTIVITY",
         "type": "scatter",
         "x": [
          1700,
          1701,
          1702,
          1703,
          1704,
          1705,
          1706,
          1707,
          1708,
          1709,
          1710,
          1711,
          1712,
          1713,
          1714,
          1715,
          1716,
          1717,
          1718,
          1719,
          1720,
          1721,
          1722,
          1723,
          1724,
          1725,
          1726,
          1727,
          1728,
          1729,
          1730,
          1731,
          1732,
          1733,
          1734,
          1735,
          1736,
          1737,
          1738,
          1739,
          1740,
          1741,
          1742,
          1743,
          1744,
          1745,
          1746,
          1747,
          1748,
          1749,
          1750,
          1751,
          1752,
          1753,
          1754,
          1755,
          1756,
          1757,
          1758,
          1759,
          1760,
          1761,
          1762,
          1763,
          1764,
          1765,
          1766,
          1767,
          1768,
          1769,
          1770,
          1771,
          1772,
          1773,
          1774,
          1775,
          1776,
          1777,
          1778,
          1779,
          1780,
          1781,
          1782,
          1783,
          1784,
          1785,
          1786,
          1787,
          1788,
          1789,
          1790,
          1791,
          1792,
          1793,
          1794,
          1795,
          1796,
          1797,
          1798,
          1799,
          1800,
          1801,
          1802,
          1803,
          1804,
          1805,
          1806,
          1807,
          1808,
          1809,
          1810,
          1811,
          1812,
          1813,
          1814,
          1815,
          1816,
          1817,
          1818,
          1819,
          1820,
          1821,
          1822,
          1823,
          1824,
          1825,
          1826,
          1827,
          1828,
          1829,
          1830,
          1831,
          1832,
          1833,
          1834,
          1835,
          1836,
          1837,
          1838,
          1839,
          1840,
          1841,
          1842,
          1843,
          1844,
          1845,
          1846,
          1847,
          1848,
          1849,
          1850,
          1851,
          1852,
          1853,
          1854,
          1855,
          1856,
          1857,
          1858,
          1859,
          1860,
          1861,
          1862,
          1863,
          1864,
          1865,
          1866,
          1867,
          1868,
          1869,
          1870,
          1871,
          1872,
          1873,
          1874,
          1875,
          1876,
          1877,
          1878,
          1879,
          1880,
          1881,
          1882,
          1883,
          1884,
          1885,
          1886,
          1887,
          1888,
          1889,
          1890,
          1891,
          1892,
          1893,
          1894,
          1895,
          1896,
          1897,
          1898,
          1899,
          1900,
          1901,
          1902,
          1903,
          1904,
          1905,
          1906,
          1907,
          1908,
          1909,
          1910,
          1911,
          1912,
          1913,
          1914,
          1915,
          1916,
          1917,
          1918,
          1919,
          1920,
          1921,
          1922,
          1923,
          1924,
          1925,
          1926,
          1927,
          1928,
          1929,
          1930,
          1931,
          1932,
          1933,
          1934,
          1935,
          1936,
          1937,
          1938,
          1939,
          1940,
          1941,
          1942,
          1943,
          1944,
          1945,
          1946,
          1947,
          1948,
          1949,
          1950,
          1951,
          1952,
          1953,
          1954,
          1955,
          1956,
          1957,
          1958,
          1959,
          1960,
          1961,
          1962,
          1963,
          1964,
          1965,
          1966,
          1967,
          1968,
          1969,
          1970,
          1971,
          1972,
          1973,
          1974,
          1975,
          1976,
          1977,
          1978,
          1979,
          1980,
          1981,
          1982,
          1983,
          1984,
          1985,
          1986,
          1987,
          1988,
          1989,
          1990,
          1991,
          1992,
          1993,
          1994,
          1995,
          1996,
          1997,
          1998,
          1999,
          2000,
          2001,
          2002,
          2003,
          2004,
          2005,
          2006,
          2007,
          2008
         ],
         "y": [
          5,
          11,
          16,
          23,
          36,
          58,
          29,
          20,
          10,
          8,
          3,
          0,
          0,
          2,
          11,
          27,
          47,
          63,
          60,
          39,
          28,
          26,
          22,
          11,
          21,
          40,
          78,
          122,
          103,
          73,
          47,
          35,
          11,
          5,
          16,
          34,
          70,
          81,
          111,
          101,
          73,
          40,
          20,
          16,
          5,
          11,
          22,
          40,
          60,
          80.9,
          83.4,
          47.7,
          47.8,
          30.7,
          12.2,
          9.6,
          10.2,
          32.4,
          47.6,
          54,
          62.9,
          85.9,
          61.2,
          45.1,
          36.4,
          20.9,
          11.4,
          37.8,
          69.8,
          106.1,
          100.8,
          81.6,
          66.5,
          34.8,
          30.6,
          7,
          19.8,
          92.5,
          154.4,
          125.9,
          84.8,
          68.1,
          38.5,
          22.8,
          10.2,
          24.1,
          82.9,
          132,
          130.9,
          118.1,
          89.9,
          66.6,
          60,
          46.9,
          41,
          21.3,
          16,
          6.4,
          4.1,
          6.8,
          14.5,
          34,
          45,
          43.1,
          47.5,
          42.2,
          28.1,
          10.1,
          8.1,
          2.5,
          0,
          1.4,
          5,
          12.2,
          13.9,
          35.4,
          45.8,
          41.1,
          30.1,
          23.9,
          15.6,
          6.6,
          4,
          1.8,
          8.5,
          16.6,
          36.3,
          49.6,
          64.2,
          67,
          70.9,
          47.8,
          27.5,
          8.5,
          13.2,
          56.9,
          121.5,
          138.3,
          103.2,
          85.7,
          64.6,
          36.7,
          24.2,
          10.7,
          15,
          40.1,
          61.5,
          98.5,
          124.7,
          96.3,
          66.6,
          64.5,
          54.1,
          39,
          20.6,
          6.7,
          4.3,
          22.7,
          54.8,
          93.8,
          95.8,
          77.2,
          59.1,
          44,
          47,
          30.5,
          16.3,
          7.3,
          37.6,
          74,
          139,
          111.2,
          101.6,
          66.2,
          44.7,
          17,
          11.3,
          12.4,
          3.4,
          6,
          32.3,
          54.3,
          59.7,
          63.7,
          63.5,
          52.2,
          25.4,
          13.1,
          6.8,
          6.3,
          7.1,
          35.6,
          73,
          85.1,
          78,
          64,
          41.8,
          26.2,
          26.7,
          12.1,
          9.5,
          2.7,
          5,
          24.4,
          42,
          63.5,
          53.8,
          62,
          48.5,
          43.9,
          18.6,
          5.7,
          3.6,
          1.4,
          9.6,
          47.4,
          57.1,
          103.9,
          80.6,
          63.6,
          37.6,
          26.1,
          14.2,
          5.8,
          16.7,
          44.3,
          63.9,
          69,
          77.8,
          64.9,
          35.7,
          21.2,
          11.1,
          5.7,
          8.7,
          36.1,
          79.7,
          114.4,
          109.6,
          88.8,
          67.8,
          47.5,
          30.6,
          16.3,
          9.6,
          33.2,
          92.6,
          151.6,
          136.3,
          134.7,
          83.9,
          69.4,
          31.5,
          13.9,
          4.4,
          38,
          141.7,
          190.2,
          184.8,
          159,
          112.3,
          53.9,
          37.6,
          27.9,
          10.2,
          15.1,
          47,
          93.8,
          105.9,
          105.5,
          104.5,
          66.6,
          68.9,
          38,
          34.5,
          15.5,
          12.6,
          27.5,
          92.5,
          155.4,
          154.6,
          140.4,
          115.9,
          66.6,
          45.9,
          17.9,
          13.4,
          29.4,
          100.2,
          157.6,
          142.6,
          145.7,
          94.3,
          54.6,
          29.9,
          17.5,
          8.6,
          21.5,
          64.3,
          93.3,
          119.6,
          111,
          104,
          63.7,
          40.4,
          29.8,
          15.2,
          7.5,
          2.9
         ]
        },
        {
         "mode": "lines",
         "name": "MyArima",
         "type": "scatter",
         "x": [
          1964,
          1965,
          1966,
          1967,
          1968,
          1969,
          1970,
          1971,
          1972,
          1973,
          1974,
          1975,
          1976,
          1977,
          1978,
          1979,
          1980,
          1981,
          1982,
          1983,
          1984,
          1985,
          1986,
          1987,
          1988,
          1989,
          1990,
          1991,
          1992,
          1993,
          1994,
          1995,
          1996,
          1997,
          1998,
          1999,
          2000,
          2001,
          2002,
          2003,
          2004,
          2005,
          2006,
          2007,
          2008
         ],
         "y": [
          28.21700689611864,
          25.157154914823572,
          25.130879433888033,
          42.648338993283716,
          70.20296949812602,
          83.7776475038997,
          80.33572996785875,
          78.5947056601795,
          55.53068512370682,
          22.325930553803822,
          9.709176407782163,
          6.1640197534986445,
          8.853774420712,
          22.212885419621273,
          59.56241109989447,
          105.1194317389463,
          130.3379648401765,
          110.81471647426761,
          76.03691613795392,
          46.84879943402543,
          28.005249613990195,
          18.393069151848998,
          14.807568529338742,
          17.10991307868717,
          42.34788928883162,
          92.68407291285371,
          133.29446280183262,
          105.75420958791184,
          97.36765219363897,
          55.13903579964022,
          55.32141308161621,
          37.2234849142122,
          34.26844162043677,
          30.867614886638187,
          57.09873059552825,
          131.21802892330356,
          141.62425953586123,
          111.52733076413188,
          82.19689375576556,
          61.48263511488837,
          43.739619658038116,
          64.86113998303323,
          76.050725381359,
          74.97583367007648,
          58.3235246248813
         ]
        },
        {
         "mode": "lines",
         "name": "StatsForecast",
         "type": "scatter",
         "x": [
          1964,
          1965,
          1966,
          1967,
          1968,
          1969,
          1970,
          1971,
          1972,
          1973,
          1974,
          1975,
          1976,
          1977,
          1978,
          1979,
          1980,
          1981,
          1982,
          1983,
          1984,
          1985,
          1986,
          1987,
          1988,
          1989,
          1990,
          1991,
          1992,
          1993,
          1994,
          1995,
          1996,
          1997,
          1998,
          1999,
          2000,
          2001,
          2002,
          2003,
          2004,
          2005,
          2006,
          2007,
          2008
         ],
         "y": [
          24.558515634707426,
          30.573471837203165,
          40.87017364595431,
          47.89422872429412,
          57.163366694366395,
          62.61836477728474,
          59.839155861907955,
          56.124756719270664,
          37.13095731198419,
          21.779144747027395,
          18.1215498865442,
          17.985989138561266,
          22.846948528156123,
          41.50290758428736,
          63.603079619787565,
          79.90489855359847,
          89.03274749897975,
          79.02754803533546,
          58.58002814504019,
          40.501019985539685,
          30.820485613811993,
          17.525793878652376,
          14.31451137316302,
          14.389625586254997,
          30.982192148882127,
          62.05758091970921,
          88.54515223405505,
          89.5388760699758,
          81.87171350869622,
          67.43141186853344,
          53.035199527174456,
          34.486498891517435,
          14.884042615535494,
          10.822470990696903,
          28.62957310582027,
          77.22666759820206,
          93.94457029231003,
          107.51313052264557,
          96.22091397119678,
          96.59700846430636,
          59.59940350835937,
          44.84156441297238,
          29.602798112760865,
          21.546012374704798,
          18.789211187375358
         ]
        },
        {
         "mode": "lines",
         "name": "Statsmodels",
         "type": "scatter",
         "x": [
          1964,
          1965,
          1966,
          1967,
          1968,
          1969,
          1970,
          1971,
          1972,
          1973,
          1974,
          1975,
          1976,
          1977,
          1978,
          1979,
          1980,
          1981,
          1982,
          1983,
          1984,
          1985,
          1986,
          1987,
          1988,
          1989,
          1990,
          1991,
          1992,
          1993,
          1994,
          1995,
          1996,
          1997,
          1998,
          1999,
          2000,
          2001,
          2002,
          2003,
          2004,
          2005,
          2006,
          2007,
          2008
         ],
         "y": [
          25.389828730072885,
          31.23561215694236,
          39.96806477369998,
          46.02315909214673,
          56.12129130255538,
          62.38246521876303,
          60.07437986277351,
          57.46348357945294,
          39.25472673127776,
          23.39420155537242,
          19.482673323496925,
          18.877220414002345,
          23.547416071669037,
          41.08544946671192,
          62.15026940233892,
          79.20387116625898,
          89.95267750991331,
          80.44342311996152,
          60.23253954624774,
          42.01475779339184,
          31.497998538572435,
          18.215393874781526,
          14.745462405469546,
          15.13435564100468,
          32.769391707358686,
          65.05481154122734,
          92.64535437743343,
          91.9990901271052,
          84.58105906723773,
          68.05320327881074,
          53.60643663971077,
          33.81354375331472,
          14.630136439911738,
          11.083512889263552,
          30.486170887715627,
          83.39258086632202,
          101.17740955239904,
          112.79936437126979,
          99.85213588572275,
          96.33748954434549,
          58.077884304741666,
          43.45096004842498,
          29.03266560110864,
          21.618494173895357,
          19.55192521073969
         ]
        }
       ],
       "layout": {
        "showlegend": true,
        "template": {
         "data": {
          "bar": [
           {
            "error_x": {
             "color": "#2a3f5f"
            },
            "error_y": {
             "color": "#2a3f5f"
            },
            "marker": {
             "line": {
              "color": "#E5ECF6",
              "width": 0.5
             },
             "pattern": {
              "fillmode": "overlay",
              "size": 10,
              "solidity": 0.2
             }
            },
            "type": "bar"
           }
          ],
          "barpolar": [
           {
            "marker": {
             "line": {
              "color": "#E5ECF6",
              "width": 0.5
             },
             "pattern": {
              "fillmode": "overlay",
              "size": 10,
              "solidity": 0.2
             }
            },
            "type": "barpolar"
           }
          ],
          "carpet": [
           {
            "aaxis": {
             "endlinecolor": "#2a3f5f",
             "gridcolor": "white",
             "linecolor": "white",
             "minorgridcolor": "white",
             "startlinecolor": "#2a3f5f"
            },
            "baxis": {
             "endlinecolor": "#2a3f5f",
             "gridcolor": "white",
             "linecolor": "white",
             "minorgridcolor": "white",
             "startlinecolor": "#2a3f5f"
            },
            "type": "carpet"
           }
          ],
          "choropleth": [
           {
            "colorbar": {
             "outlinewidth": 0,
             "ticks": ""
            },
            "type": "choropleth"
           }
          ],
          "contour": [
           {
            "colorbar": {
             "outlinewidth": 0,
             "ticks": ""
            },
            "colorscale": [
             [
              0,
              "#0d0887"
             ],
             [
              0.1111111111111111,
              "#46039f"
             ],
             [
              0.2222222222222222,
              "#7201a8"
             ],
             [
              0.3333333333333333,
              "#9c179e"
             ],
             [
              0.4444444444444444,
              "#bd3786"
             ],
             [
              0.5555555555555556,
              "#d8576b"
             ],
             [
              0.6666666666666666,
              "#ed7953"
             ],
             [
              0.7777777777777778,
              "#fb9f3a"
             ],
             [
              0.8888888888888888,
              "#fdca26"
             ],
             [
              1,
              "#f0f921"
             ]
            ],
            "type": "contour"
           }
          ],
          "contourcarpet": [
           {
            "colorbar": {
             "outlinewidth": 0,
             "ticks": ""
            },
            "type": "contourcarpet"
           }
          ],
          "heatmap": [
           {
            "colorbar": {
             "outlinewidth": 0,
             "ticks": ""
            },
            "colorscale": [
             [
              0,
              "#0d0887"
             ],
             [
              0.1111111111111111,
              "#46039f"
             ],
             [
              0.2222222222222222,
              "#7201a8"
             ],
             [
              0.3333333333333333,
              "#9c179e"
             ],
             [
              0.4444444444444444,
              "#bd3786"
             ],
             [
              0.5555555555555556,
              "#d8576b"
             ],
             [
              0.6666666666666666,
              "#ed7953"
             ],
             [
              0.7777777777777778,
              "#fb9f3a"
             ],
             [
              0.8888888888888888,
              "#fdca26"
             ],
             [
              1,
              "#f0f921"
             ]
            ],
            "type": "heatmap"
           }
          ],
          "heatmapgl": [
           {
            "colorbar": {
             "outlinewidth": 0,
             "ticks": ""
            },
            "colorscale": [
             [
              0,
              "#0d0887"
             ],
             [
              0.1111111111111111,
              "#46039f"
             ],
             [
              0.2222222222222222,
              "#7201a8"
             ],
             [
              0.3333333333333333,
              "#9c179e"
             ],
             [
              0.4444444444444444,
              "#bd3786"
             ],
             [
              0.5555555555555556,
              "#d8576b"
             ],
             [
              0.6666666666666666,
              "#ed7953"
             ],
             [
              0.7777777777777778,
              "#fb9f3a"
             ],
             [
              0.8888888888888888,
              "#fdca26"
             ],
             [
              1,
              "#f0f921"
             ]
            ],
            "type": "heatmapgl"
           }
          ],
          "histogram": [
           {
            "marker": {
             "pattern": {
              "fillmode": "overlay",
              "size": 10,
              "solidity": 0.2
             }
            },
            "type": "histogram"
           }
          ],
          "histogram2d": [
           {
            "colorbar": {
             "outlinewidth": 0,
             "ticks": ""
            },
            "colorscale": [
             [
              0,
              "#0d0887"
             ],
             [
              0.1111111111111111,
              "#46039f"
             ],
             [
              0.2222222222222222,
              "#7201a8"
             ],
             [
              0.3333333333333333,
              "#9c179e"
             ],
             [
              0.4444444444444444,
              "#bd3786"
             ],
             [
              0.5555555555555556,
              "#d8576b"
             ],
             [
              0.6666666666666666,
              "#ed7953"
             ],
             [
              0.7777777777777778,
              "#fb9f3a"
             ],
             [
              0.8888888888888888,
              "#fdca26"
             ],
             [
              1,
              "#f0f921"
             ]
            ],
            "type": "histogram2d"
           }
          ],
          "histogram2dcontour": [
           {
            "colorbar": {
             "outlinewidth": 0,
             "ticks": ""
            },
            "colorscale": [
             [
              0,
              "#0d0887"
             ],
             [
              0.1111111111111111,
              "#46039f"
             ],
             [
              0.2222222222222222,
              "#7201a8"
             ],
             [
              0.3333333333333333,
              "#9c179e"
             ],
             [
              0.4444444444444444,
              "#bd3786"
             ],
             [
              0.5555555555555556,
              "#d8576b"
             ],
             [
              0.6666666666666666,
              "#ed7953"
             ],
             [
              0.7777777777777778,
              "#fb9f3a"
             ],
             [
              0.8888888888888888,
              "#fdca26"
             ],
             [
              1,
              "#f0f921"
             ]
            ],
            "type": "histogram2dcontour"
           }
          ],
          "mesh3d": [
           {
            "colorbar": {
             "outlinewidth": 0,
             "ticks": ""
            },
            "type": "mesh3d"
           }
          ],
          "parcoords": [
           {
            "line": {
             "colorbar": {
              "outlinewidth": 0,
              "ticks": ""
             }
            },
            "type": "parcoords"
           }
          ],
          "pie": [
           {
            "automargin": true,
            "type": "pie"
           }
          ],
          "scatter": [
           {
            "fillpattern": {
             "fillmode": "overlay",
             "size": 10,
             "solidity": 0.2
            },
            "type": "scatter"
           }
          ],
          "scatter3d": [
           {
            "line": {
             "colorbar": {
              "outlinewidth": 0,
              "ticks": ""
             }
            },
            "marker": {
             "colorbar": {
              "outlinewidth": 0,
              "ticks": ""
             }
            },
            "type": "scatter3d"
           }
          ],
          "scattercarpet": [
           {
            "marker": {
             "colorbar": {
              "outlinewidth": 0,
              "ticks": ""
             }
            },
            "type": "scattercarpet"
           }
          ],
          "scattergeo": [
           {
            "marker": {
             "colorbar": {
              "outlinewidth": 0,
              "ticks": ""
             }
            },
            "type": "scattergeo"
           }
          ],
          "scattergl": [
           {
            "marker": {
             "colorbar": {
              "outlinewidth": 0,
              "ticks": ""
             }
            },
            "type": "scattergl"
           }
          ],
          "scattermapbox": [
           {
            "marker": {
             "colorbar": {
              "outlinewidth": 0,
              "ticks": ""
             }
            },
            "type": "scattermapbox"
           }
          ],
          "scatterpolar": [
           {
            "marker": {
             "colorbar": {
              "outlinewidth": 0,
              "ticks": ""
             }
            },
            "type": "scatterpolar"
           }
          ],
          "scatterpolargl": [
           {
            "marker": {
             "colorbar": {
              "outlinewidth": 0,
              "ticks": ""
             }
            },
            "type": "scatterpolargl"
           }
          ],
          "scatterternary": [
           {
            "marker": {
             "colorbar": {
              "outlinewidth": 0,
              "ticks": ""
             }
            },
            "type": "scatterternary"
           }
          ],
          "surface": [
           {
            "colorbar": {
             "outlinewidth": 0,
             "ticks": ""
            },
            "colorscale": [
             [
              0,
              "#0d0887"
             ],
             [
              0.1111111111111111,
              "#46039f"
             ],
             [
              0.2222222222222222,
              "#7201a8"
             ],
             [
              0.3333333333333333,
              "#9c179e"
             ],
             [
              0.4444444444444444,
              "#bd3786"
             ],
             [
              0.5555555555555556,
              "#d8576b"
             ],
             [
              0.6666666666666666,
              "#ed7953"
             ],
             [
              0.7777777777777778,
              "#fb9f3a"
             ],
             [
              0.8888888888888888,
              "#fdca26"
             ],
             [
              1,
              "#f0f921"
             ]
            ],
            "type": "surface"
           }
          ],
          "table": [
           {
            "cells": {
             "fill": {
              "color": "#EBF0F8"
             },
             "line": {
              "color": "white"
             }
            },
            "header": {
             "fill": {
              "color": "#C8D4E3"
             },
             "line": {
              "color": "white"
             }
            },
            "type": "table"
           }
          ]
         },
         "layout": {
          "annotationdefaults": {
           "arrowcolor": "#2a3f5f",
           "arrowhead": 0,
           "arrowwidth": 1
          },
          "autotypenumbers": "strict",
          "coloraxis": {
           "colorbar": {
            "outlinewidth": 0,
            "ticks": ""
           }
          },
          "colorscale": {
           "diverging": [
            [
             0,
             "#8e0152"
            ],
            [
             0.1,
             "#c51b7d"
            ],
            [
             0.2,
             "#de77ae"
            ],
            [
             0.3,
             "#f1b6da"
            ],
            [
             0.4,
             "#fde0ef"
            ],
            [
             0.5,
             "#f7f7f7"
            ],
            [
             0.6,
             "#e6f5d0"
            ],
            [
             0.7,
             "#b8e186"
            ],
            [
             0.8,
             "#7fbc41"
            ],
            [
             0.9,
             "#4d9221"
            ],
            [
             1,
             "#276419"
            ]
           ],
           "sequential": [
            [
             0,
             "#0d0887"
            ],
            [
             0.1111111111111111,
             "#46039f"
            ],
            [
             0.2222222222222222,
             "#7201a8"
            ],
            [
             0.3333333333333333,
             "#9c179e"
            ],
            [
             0.4444444444444444,
             "#bd3786"
            ],
            [
             0.5555555555555556,
             "#d8576b"
            ],
            [
             0.6666666666666666,
             "#ed7953"
            ],
            [
             0.7777777777777778,
             "#fb9f3a"
            ],
            [
             0.8888888888888888,
             "#fdca26"
            ],
            [
             1,
             "#f0f921"
            ]
           ],
           "sequentialminus": [
            [
             0,
             "#0d0887"
            ],
            [
             0.1111111111111111,
             "#46039f"
            ],
            [
             0.2222222222222222,
             "#7201a8"
            ],
            [
             0.3333333333333333,
             "#9c179e"
            ],
            [
             0.4444444444444444,
             "#bd3786"
            ],
            [
             0.5555555555555556,
             "#d8576b"
            ],
            [
             0.6666666666666666,
             "#ed7953"
            ],
            [
             0.7777777777777778,
             "#fb9f3a"
            ],
            [
             0.8888888888888888,
             "#fdca26"
            ],
            [
             1,
             "#f0f921"
            ]
           ]
          },
          "colorway": [
           "#636efa",
           "#EF553B",
           "#00cc96",
           "#ab63fa",
           "#FFA15A",
           "#19d3f3",
           "#FF6692",
           "#B6E880",
           "#FF97FF",
           "#FECB52"
          ],
          "font": {
           "color": "#2a3f5f"
          },
          "geo": {
           "bgcolor": "white",
           "lakecolor": "white",
           "landcolor": "#E5ECF6",
           "showlakes": true,
           "showland": true,
           "subunitcolor": "white"
          },
          "hoverlabel": {
           "align": "left"
          },
          "hovermode": "closest",
          "mapbox": {
           "style": "light"
          },
          "paper_bgcolor": "white",
          "plot_bgcolor": "#E5ECF6",
          "polar": {
           "angularaxis": {
            "gridcolor": "white",
            "linecolor": "white",
            "ticks": ""
           },
           "bgcolor": "#E5ECF6",
           "radialaxis": {
            "gridcolor": "white",
            "linecolor": "white",
            "ticks": ""
           }
          },
          "scene": {
           "xaxis": {
            "backgroundcolor": "#E5ECF6",
            "gridcolor": "white",
            "gridwidth": 2,
            "linecolor": "white",
            "showbackground": true,
            "ticks": "",
            "zerolinecolor": "white"
           },
           "yaxis": {
            "backgroundcolor": "#E5ECF6",
            "gridcolor": "white",
            "gridwidth": 2,
            "linecolor": "white",
            "showbackground": true,
            "ticks": "",
            "zerolinecolor": "white"
           },
           "zaxis": {
            "backgroundcolor": "#E5ECF6",
            "gridcolor": "white",
            "gridwidth": 2,
            "linecolor": "white",
            "showbackground": true,
            "ticks": "",
            "zerolinecolor": "white"
           }
          },
          "shapedefaults": {
           "line": {
            "color": "#2a3f5f"
           }
          },
          "ternary": {
           "aaxis": {
            "gridcolor": "white",
            "linecolor": "white",
            "ticks": ""
           },
           "baxis": {
            "gridcolor": "white",
            "linecolor": "white",
            "ticks": ""
           },
           "bgcolor": "#E5ECF6",
           "caxis": {
            "gridcolor": "white",
            "linecolor": "white",
            "ticks": ""
           }
          },
          "title": {
           "x": 0.05
          },
          "xaxis": {
           "automargin": true,
           "gridcolor": "white",
           "linecolor": "white",
           "ticks": "",
           "title": {
            "standoff": 15
           },
           "zerolinecolor": "white",
           "zerolinewidth": 2
          },
          "yaxis": {
           "automargin": true,
           "gridcolor": "white",
           "linecolor": "white",
           "ticks": "",
           "title": {
            "standoff": 15
           },
           "zerolinecolor": "white",
           "zerolinewidth": 2
          }
         }
        }
       }
      }
     },
     "metadata": {},
     "output_type": "display_data"
    }
   ],
   "source": [
    "fig = go.Figure()\n",
    "fig.add_trace(go.Scatter(x=df[DS], y=df[Y], mode='lines', name=Y))\n",
    "test_dates = df[DS].values[-H:]\n",
    "fig.add_trace(go.Scatter(x=test_dates, y=preds1, mode='lines', name=\"MyArima\"))\n",
    "fig.add_trace(go.Scatter(x=test_dates, y=preds2, mode='lines', name=\"StatsForecast\"))\n",
    "fig.add_trace(go.Scatter(x=test_dates, y=preds3, mode='lines', name=\"Statsmodels\"))\n",
    "fig.update_layout(showlegend=True)\n",
    "fig.show()"
   ]
  }
 ],
 "metadata": {
  "kernelspec": {
   "display_name": "env",
   "language": "python",
   "name": "python3"
  },
  "language_info": {
   "codemirror_mode": {
    "name": "ipython",
    "version": 3
   },
   "file_extension": ".py",
   "mimetype": "text/x-python",
   "name": "python",
   "nbconvert_exporter": "python",
   "pygments_lexer": "ipython3",
   "version": "3.10.7"
  }
 },
 "nbformat": 4,
 "nbformat_minor": 2
}
