{
 "cells": [
  {
   "cell_type": "code",
   "execution_count": 1,
   "metadata": {},
   "outputs": [
    {
     "name": "stdout",
     "output_type": "stream",
     "text": [
      "Requirement already satisfied: statsforecast in c:\\users\\e10110199\\rust_projects\\arima\\env\\lib\\site-packages (1.7.3)\n",
      "Requirement already satisfied: cloudpickle in c:\\users\\e10110199\\rust_projects\\arima\\env\\lib\\site-packages (from statsforecast) (3.0.0)\n",
      "Requirement already satisfied: numba>=0.55.0 in c:\\users\\e10110199\\rust_projects\\arima\\env\\lib\\site-packages (from statsforecast) (0.59.0)\n",
      "Requirement already satisfied: numpy>=1.21.6 in c:\\users\\e10110199\\rust_projects\\arima\\env\\lib\\site-packages (from statsforecast) (1.26.4)\n",
      "Requirement already satisfied: pandas>=1.3.5 in c:\\users\\e10110199\\rust_projects\\arima\\env\\lib\\site-packages (from statsforecast) (2.2.1)\n",
      "Requirement already satisfied: scipy>=1.7.3 in c:\\users\\e10110199\\rust_projects\\arima\\env\\lib\\site-packages (from statsforecast) (1.12.0)\n",
      "Requirement already satisfied: statsmodels>=0.13.2 in c:\\users\\e10110199\\rust_projects\\arima\\env\\lib\\site-packages (from statsforecast) (0.14.1)\n",
      "Requirement already satisfied: tqdm in c:\\users\\e10110199\\rust_projects\\arima\\env\\lib\\site-packages (from statsforecast) (4.66.2)\n",
      "Requirement already satisfied: fugue>=0.8.1 in c:\\users\\e10110199\\rust_projects\\arima\\env\\lib\\site-packages (from statsforecast) (0.8.7)\n",
      "Requirement already satisfied: utilsforecast>=0.0.24 in c:\\users\\e10110199\\rust_projects\\arima\\env\\lib\\site-packages (from statsforecast) (0.1.1)\n",
      "Requirement already satisfied: threadpoolctl in c:\\users\\e10110199\\rust_projects\\arima\\env\\lib\\site-packages (from statsforecast) (3.3.0)\n",
      "Requirement already satisfied: triad>=0.9.3 in c:\\users\\e10110199\\rust_projects\\arima\\env\\lib\\site-packages (from fugue>=0.8.1->statsforecast) (0.9.5)\n",
      "Requirement already satisfied: adagio>=0.2.4 in c:\\users\\e10110199\\rust_projects\\arima\\env\\lib\\site-packages (from fugue>=0.8.1->statsforecast) (0.2.4)\n",
      "Requirement already satisfied: qpd>=0.4.4 in c:\\users\\e10110199\\rust_projects\\arima\\env\\lib\\site-packages (from fugue>=0.8.1->statsforecast) (0.4.4)\n",
      "Requirement already satisfied: fugue-sql-antlr>=0.1.6 in c:\\users\\e10110199\\rust_projects\\arima\\env\\lib\\site-packages (from fugue>=0.8.1->statsforecast) (0.2.0)\n",
      "Requirement already satisfied: sqlglot in c:\\users\\e10110199\\rust_projects\\arima\\env\\lib\\site-packages (from fugue>=0.8.1->statsforecast) (22.2.1)\n",
      "Requirement already satisfied: jinja2 in c:\\users\\e10110199\\rust_projects\\arima\\env\\lib\\site-packages (from fugue>=0.8.1->statsforecast) (3.1.3)\n",
      "Requirement already satisfied: llvmlite<0.43,>=0.42.0dev0 in c:\\users\\e10110199\\rust_projects\\arima\\env\\lib\\site-packages (from numba>=0.55.0->statsforecast) (0.42.0)\n",
      "Requirement already satisfied: python-dateutil>=2.8.2 in c:\\users\\e10110199\\rust_projects\\arima\\env\\lib\\site-packages (from pandas>=1.3.5->statsforecast) (2.9.0.post0)\n",
      "Requirement already satisfied: pytz>=2020.1 in c:\\users\\e10110199\\rust_projects\\arima\\env\\lib\\site-packages (from pandas>=1.3.5->statsforecast) (2024.1)\n",
      "Requirement already satisfied: tzdata>=2022.7 in c:\\users\\e10110199\\rust_projects\\arima\\env\\lib\\site-packages (from pandas>=1.3.5->statsforecast) (2024.1)\n",
      "Requirement already satisfied: patsy>=0.5.4 in c:\\users\\e10110199\\rust_projects\\arima\\env\\lib\\site-packages (from statsmodels>=0.13.2->statsforecast) (0.5.6)\n",
      "Requirement already satisfied: packaging>=21.3 in c:\\users\\e10110199\\rust_projects\\arima\\env\\lib\\site-packages (from statsmodels>=0.13.2->statsforecast) (23.2)\n",
      "Requirement already satisfied: colorama in c:\\users\\e10110199\\rust_projects\\arima\\env\\lib\\site-packages (from tqdm->statsforecast) (0.4.6)\n",
      "Requirement already satisfied: antlr4-python3-runtime<4.12 in c:\\users\\e10110199\\rust_projects\\arima\\env\\lib\\site-packages (from fugue-sql-antlr>=0.1.6->fugue>=0.8.1->statsforecast) (4.11.1)\n",
      "Requirement already satisfied: six in c:\\users\\e10110199\\rust_projects\\arima\\env\\lib\\site-packages (from patsy>=0.5.4->statsmodels>=0.13.2->statsforecast) (1.16.0)\n",
      "Requirement already satisfied: pyarrow>=6.0.1 in c:\\users\\e10110199\\rust_projects\\arima\\env\\lib\\site-packages (from triad>=0.9.3->fugue>=0.8.1->statsforecast) (15.0.0)\n",
      "Requirement already satisfied: fsspec>=2022.5.0 in c:\\users\\e10110199\\rust_projects\\arima\\env\\lib\\site-packages (from triad>=0.9.3->fugue>=0.8.1->statsforecast) (2024.2.0)\n",
      "Requirement already satisfied: fs in c:\\users\\e10110199\\rust_projects\\arima\\env\\lib\\site-packages (from triad>=0.9.3->fugue>=0.8.1->statsforecast) (2.4.16)\n",
      "Requirement already satisfied: MarkupSafe>=2.0 in c:\\users\\e10110199\\rust_projects\\arima\\env\\lib\\site-packages (from jinja2->fugue>=0.8.1->statsforecast) (2.1.5)\n",
      "Requirement already satisfied: appdirs~=1.4.3 in c:\\users\\e10110199\\rust_projects\\arima\\env\\lib\\site-packages (from fs->triad>=0.9.3->fugue>=0.8.1->statsforecast) (1.4.4)\n",
      "Requirement already satisfied: setuptools in c:\\users\\e10110199\\rust_projects\\arima\\env\\lib\\site-packages (from fs->triad>=0.9.3->fugue>=0.8.1->statsforecast) (63.2.0)\n",
      "Note: you may need to restart the kernel to use updated packages.\n",
      "Requirement already satisfied: statsmodels in c:\\users\\e10110199\\rust_projects\\arima\\env\\lib\\site-packages (0.14.1)\n",
      "Requirement already satisfied: numpy<2,>=1.18 in c:\\users\\e10110199\\rust_projects\\arima\\env\\lib\\site-packages (from statsmodels) (1.26.4)\n",
      "Requirement already satisfied: scipy!=1.9.2,>=1.4 in c:\\users\\e10110199\\rust_projects\\arima\\env\\lib\\site-packages (from statsmodels) (1.12.0)\n",
      "Requirement already satisfied: pandas!=2.1.0,>=1.0 in c:\\users\\e10110199\\rust_projects\\arima\\env\\lib\\site-packages (from statsmodels) (2.2.1)\n",
      "Requirement already satisfied: patsy>=0.5.4 in c:\\users\\e10110199\\rust_projects\\arima\\env\\lib\\site-packages (from statsmodels) (0.5.6)\n",
      "Requirement already satisfied: packaging>=21.3 in c:\\users\\e10110199\\rust_projects\\arima\\env\\lib\\site-packages (from statsmodels) (23.2)\n",
      "Requirement already satisfied: python-dateutil>=2.8.2 in c:\\users\\e10110199\\rust_projects\\arima\\env\\lib\\site-packages (from pandas!=2.1.0,>=1.0->statsmodels) (2.9.0.post0)\n",
      "Requirement already satisfied: pytz>=2020.1 in c:\\users\\e10110199\\rust_projects\\arima\\env\\lib\\site-packages (from pandas!=2.1.0,>=1.0->statsmodels) (2024.1)\n",
      "Requirement already satisfied: tzdata>=2022.7 in c:\\users\\e10110199\\rust_projects\\arima\\env\\lib\\site-packages (from pandas!=2.1.0,>=1.0->statsmodels) (2024.1)\n",
      "Requirement already satisfied: six in c:\\users\\e10110199\\rust_projects\\arima\\env\\lib\\site-packages (from patsy>=0.5.4->statsmodels) (1.16.0)\n",
      "Note: you may need to restart the kernel to use updated packages.\n",
      "Requirement already satisfied: pmdarima in c:\\users\\e10110199\\rust_projects\\arima\\env\\lib\\site-packages (2.0.4)\n",
      "Requirement already satisfied: joblib>=0.11 in c:\\users\\e10110199\\rust_projects\\arima\\env\\lib\\site-packages (from pmdarima) (1.3.2)\n",
      "Requirement already satisfied: Cython!=0.29.18,!=0.29.31,>=0.29 in c:\\users\\e10110199\\rust_projects\\arima\\env\\lib\\site-packages (from pmdarima) (3.0.9)\n",
      "Requirement already satisfied: numpy>=1.21.2 in c:\\users\\e10110199\\rust_projects\\arima\\env\\lib\\site-packages (from pmdarima) (1.26.4)\n",
      "Requirement already satisfied: pandas>=0.19 in c:\\users\\e10110199\\rust_projects\\arima\\env\\lib\\site-packages (from pmdarima) (2.2.1)\n",
      "Requirement already satisfied: scikit-learn>=0.22 in c:\\users\\e10110199\\rust_projects\\arima\\env\\lib\\site-packages (from pmdarima) (1.4.1.post1)\n",
      "Requirement already satisfied: scipy>=1.3.2 in c:\\users\\e10110199\\rust_projects\\arima\\env\\lib\\site-packages (from pmdarima) (1.12.0)\n",
      "Requirement already satisfied: statsmodels>=0.13.2 in c:\\users\\e10110199\\rust_projects\\arima\\env\\lib\\site-packages (from pmdarima) (0.14.1)\n",
      "Requirement already satisfied: urllib3 in c:\\users\\e10110199\\rust_projects\\arima\\env\\lib\\site-packages (from pmdarima) (2.2.1)\n",
      "Requirement already satisfied: setuptools!=50.0.0,>=38.6.0 in c:\\users\\e10110199\\rust_projects\\arima\\env\\lib\\site-packages (from pmdarima) (63.2.0)\n",
      "Requirement already satisfied: packaging>=17.1 in c:\\users\\e10110199\\rust_projects\\arima\\env\\lib\\site-packages (from pmdarima) (23.2)\n",
      "Requirement already satisfied: python-dateutil>=2.8.2 in c:\\users\\e10110199\\rust_projects\\arima\\env\\lib\\site-packages (from pandas>=0.19->pmdarima) (2.9.0.post0)\n",
      "Requirement already satisfied: pytz>=2020.1 in c:\\users\\e10110199\\rust_projects\\arima\\env\\lib\\site-packages (from pandas>=0.19->pmdarima) (2024.1)\n",
      "Requirement already satisfied: tzdata>=2022.7 in c:\\users\\e10110199\\rust_projects\\arima\\env\\lib\\site-packages (from pandas>=0.19->pmdarima) (2024.1)\n",
      "Requirement already satisfied: threadpoolctl>=2.0.0 in c:\\users\\e10110199\\rust_projects\\arima\\env\\lib\\site-packages (from scikit-learn>=0.22->pmdarima) (3.3.0)\n",
      "Requirement already satisfied: patsy>=0.5.4 in c:\\users\\e10110199\\rust_projects\\arima\\env\\lib\\site-packages (from statsmodels>=0.13.2->pmdarima) (0.5.6)\n",
      "Requirement already satisfied: six in c:\\users\\e10110199\\rust_projects\\arima\\env\\lib\\site-packages (from patsy>=0.5.4->statsmodels>=0.13.2->pmdarima) (1.16.0)\n",
      "Note: you may need to restart the kernel to use updated packages.\n",
      "Requirement already satisfied: pandas in c:\\users\\e10110199\\rust_projects\\arima\\env\\lib\\site-packages (2.2.1)\n",
      "Requirement already satisfied: numpy<2,>=1.22.4 in c:\\users\\e10110199\\rust_projects\\arima\\env\\lib\\site-packages (from pandas) (1.26.4)\n",
      "Requirement already satisfied: python-dateutil>=2.8.2 in c:\\users\\e10110199\\rust_projects\\arima\\env\\lib\\site-packages (from pandas) (2.9.0.post0)\n",
      "Requirement already satisfied: pytz>=2020.1 in c:\\users\\e10110199\\rust_projects\\arima\\env\\lib\\site-packages (from pandas) (2024.1)\n",
      "Requirement already satisfied: tzdata>=2022.7 in c:\\users\\e10110199\\rust_projects\\arima\\env\\lib\\site-packages (from pandas) (2024.1)\n",
      "Requirement already satisfied: six>=1.5 in c:\\users\\e10110199\\rust_projects\\arima\\env\\lib\\site-packages (from python-dateutil>=2.8.2->pandas) (1.16.0)\n",
      "Note: you may need to restart the kernel to use updated packages.\n",
      "Requirement already satisfied: plotly in c:\\users\\e10110199\\rust_projects\\arima\\env\\lib\\site-packages (5.19.0)\n",
      "Requirement already satisfied: tenacity>=6.2.0 in c:\\users\\e10110199\\rust_projects\\arima\\env\\lib\\site-packages (from plotly) (8.2.3)\n",
      "Requirement already satisfied: packaging in c:\\users\\e10110199\\rust_projects\\arima\\env\\lib\\site-packages (from plotly) (23.2)\n",
      "Note: you may need to restart the kernel to use updated packages.\n",
      "Note: you may need to restart the kernel to use updated packages.\n"
     ]
    }
   ],
   "source": [
    "%pip install statsforecast\n",
    "%pip install statsmodels\n",
    "%pip install pmdarima\n",
    "%pip install pandas\n",
    "%pip install plotly\n",
    "%pip install nbformat>=4.2.0"
   ]
  },
  {
   "cell_type": "markdown",
   "metadata": {},
   "source": [
    "# YEARLY SUNSPOT DATA"
   ]
  },
  {
   "cell_type": "code",
   "execution_count": 2,
   "metadata": {},
   "outputs": [
    {
     "name": "stderr",
     "output_type": "stream",
     "text": [
      "c:\\Users\\e10110199\\rust_projects\\arima\\env\\lib\\site-packages\\statsforecast\\core.py:26: TqdmWarning: IProgress not found. Please update jupyter and ipywidgets. See https://ipywidgets.readthedocs.io/en/stable/user_install.html\n",
      "  from tqdm.autonotebook import tqdm\n",
      "c:\\Users\\e10110199\\rust_projects\\arima\\env\\lib\\site-packages\\statsforecast\\utils.py:237: FutureWarning: 'M' is deprecated and will be removed in a future version, please use 'ME' instead.\n",
      "  \"ds\": pd.date_range(start=\"1949-01-01\", periods=len(AirPassengers), freq=\"M\"),\n"
     ]
    }
   ],
   "source": [
    "from statsforecast.models import ARIMA\n",
    "from pmdarima.arima import auto_arima\n",
    "import plotly.graph_objs as go\n",
    "import statsmodels.api as sm\n",
    "from arima import Model"
   ]
  },
  {
   "cell_type": "code",
   "execution_count": 3,
   "metadata": {},
   "outputs": [],
   "source": [
    "H = 45\n",
    "DS = \"YEAR\"\n",
    "Y = \"SUNACTIVITY\""
   ]
  },
  {
   "cell_type": "code",
   "execution_count": 4,
   "metadata": {},
   "outputs": [],
   "source": [
    "df = sm.datasets.sunspots.load_pandas().data\n",
    "y_train = df[Y].values[:-H]"
   ]
  },
  {
   "cell_type": "markdown",
   "metadata": {},
   "source": [
    "# Search hyper-parameters"
   ]
  },
  {
   "cell_type": "code",
   "execution_count": 17,
   "metadata": {},
   "outputs": [
    {
     "name": "stdout",
     "output_type": "stream",
     "text": [
      "Performing stepwise search to minimize aic\n",
      " ARIMA(0,0,0)(0,1,0)[43] intercept   : AIC=2359.096, Time=0.21 sec\n",
      " ARIMA(1,0,0)(1,1,0)[43] intercept   : AIC=2078.131, Time=7.20 sec\n",
      " ARIMA(0,0,1)(0,1,1)[43] intercept   : AIC=2121.528, Time=10.46 sec\n",
      " ARIMA(0,0,0)(0,1,0)[43]             : AIC=2359.393, Time=0.08 sec\n",
      " ARIMA(1,0,0)(0,1,0)[43] intercept   : AIC=2107.876, Time=0.64 sec\n",
      " ARIMA(1,0,0)(2,1,0)[43] intercept   : AIC=2071.946, Time=19.71 sec\n",
      " ARIMA(1,0,0)(2,1,1)[43] intercept   : AIC=2073.859, Time=24.00 sec\n",
      " ARIMA(1,0,0)(1,1,1)[43] intercept   : AIC=2074.445, Time=8.92 sec\n",
      " ARIMA(0,0,0)(2,1,0)[43] intercept   : AIC=2317.910, Time=16.47 sec\n",
      " ARIMA(2,0,0)(2,1,0)[43] intercept   : AIC=1956.030, Time=24.01 sec\n",
      " ARIMA(2,0,0)(1,1,0)[43] intercept   : AIC=1960.115, Time=11.76 sec\n",
      " ARIMA(2,0,0)(2,1,1)[43] intercept   : AIC=inf, Time=63.67 sec\n",
      " ARIMA(2,0,0)(1,1,1)[43] intercept   : AIC=inf, Time=22.25 sec\n",
      " ARIMA(3,0,0)(2,1,0)[43] intercept   : AIC=1956.788, Time=29.49 sec\n",
      " ARIMA(2,0,1)(2,1,0)[43] intercept   : AIC=1956.998, Time=31.18 sec\n",
      " ARIMA(1,0,1)(2,1,0)[43] intercept   : AIC=2003.519, Time=28.34 sec\n",
      " ARIMA(3,0,1)(2,1,0)[43] intercept   : AIC=1957.513, Time=55.90 sec\n",
      " ARIMA(2,0,0)(2,1,0)[43]             : AIC=1955.540, Time=13.10 sec\n",
      " ARIMA(2,0,0)(1,1,0)[43]             : AIC=1959.083, Time=3.09 sec\n",
      " ARIMA(2,0,0)(2,1,1)[43]             : AIC=inf, Time=66.20 sec\n",
      " ARIMA(2,0,0)(1,1,1)[43]             : AIC=1950.184, Time=18.38 sec\n",
      " ARIMA(2,0,0)(0,1,1)[43]             : AIC=inf, Time=6.95 sec\n",
      " ARIMA(2,0,0)(1,1,2)[43]             : AIC=inf, Time=52.52 sec\n",
      " ARIMA(2,0,0)(0,1,0)[43]             : AIC=2005.792, Time=0.37 sec\n",
      " ARIMA(2,0,0)(0,1,2)[43]             : AIC=1950.211, Time=20.46 sec\n",
      " ARIMA(2,0,0)(2,1,2)[43]             : AIC=inf, Time=45.20 sec\n",
      " ARIMA(1,0,0)(1,1,1)[43]             : AIC=2072.880, Time=8.10 sec\n",
      " ARIMA(3,0,0)(1,1,1)[43]             : AIC=1950.600, Time=22.71 sec\n",
      " ARIMA(2,0,1)(1,1,1)[43]             : AIC=1950.845, Time=19.86 sec\n",
      " ARIMA(1,0,1)(1,1,1)[43]             : AIC=2003.500, Time=11.62 sec\n",
      " ARIMA(3,0,1)(1,1,1)[43]             : AIC=1951.200, Time=31.88 sec\n",
      "\n",
      "Best model:  ARIMA(2,0,0)(1,1,1)[43]          \n",
      "Total fit time: 674.954 seconds\n"
     ]
    }
   ],
   "source": [
    "search = auto_arima(\n",
    "    y=y_train,\n",
    "    start_p=0,\n",
    "    max_p=5,\n",
    "    d=0,\n",
    "    max_d=1,\n",
    "    start_q=0,\n",
    "    max_q=5,\n",
    "    start_P=0,\n",
    "    max_P=2,\n",
    "    start_Q=0,\n",
    "    max_Q=2,\n",
    "    D=1,\n",
    "    seasonal=True,\n",
    "    m=43,\n",
    "    stepwise=True,\n",
    "    maxiter=50,\n",
    "    information_criterion=\"aic\",\n",
    "    suppress_warnings=True,\n",
    "    trace=True\n",
    ")"
   ]
  },
  {
   "cell_type": "code",
   "execution_count": 18,
   "metadata": {},
   "outputs": [
    {
     "data": {
      "text/plain": [
       "{'maxiter': 50,\n",
       " 'method': 'lbfgs',\n",
       " 'order': (2, 0, 0),\n",
       " 'out_of_sample_size': 0,\n",
       " 'scoring': 'mse',\n",
       " 'scoring_args': {},\n",
       " 'seasonal_order': (1, 1, 1, 43),\n",
       " 'start_params': None,\n",
       " 'suppress_warnings': True,\n",
       " 'trend': None,\n",
       " 'with_intercept': False}"
      ]
     },
     "execution_count": 18,
     "metadata": {},
     "output_type": "execute_result"
    }
   ],
   "source": [
    "params = search.get_params()\n",
    "order = params[\"order\"]\n",
    "# order = (2, 0, 1)\n",
    "# order = (3, 0, 0)\n",
    "seasonal_order = params[\"seasonal_order\"]\n",
    "# seasonal_order = (2, 1, 0, 43)\n",
    "params"
   ]
  },
  {
   "cell_type": "markdown",
   "metadata": {},
   "source": [
    "# Train arima models"
   ]
  },
  {
   "cell_type": "markdown",
   "metadata": {},
   "source": [
    "### My Arima"
   ]
  },
  {
   "cell_type": "code",
   "execution_count": 23,
   "metadata": {},
   "outputs": [
    {
     "name": "stdout",
     "output_type": "stream",
     "text": [
      "780 µs ± 27.6 µs per loop (mean ± std. dev. of 7 runs, 1,000 loops each)\n"
     ]
    }
   ],
   "source": [
    "%%timeit\n",
    "m1 = Model.sarima(order=order, seasonal_order=seasonal_order)\n",
    "m1.fit(y=y_train)\n",
    "preds1 = m1.predict(h=H, x=None)"
   ]
  },
  {
   "cell_type": "markdown",
   "metadata": {},
   "source": [
    "### StatsForecast"
   ]
  },
  {
   "cell_type": "code",
   "execution_count": 24,
   "metadata": {},
   "outputs": [
    {
     "name": "stdout",
     "output_type": "stream",
     "text": [
      "3.92 s ± 12.1 ms per loop (mean ± std. dev. of 7 runs, 1 loop each)\n"
     ]
    }
   ],
   "source": [
    "%%timeit\n",
    "m2 = ARIMA(order=order, seasonal_order=seasonal_order[: -1], season_length=seasonal_order[-1])\n",
    "preds2 = m2.forecast(y=y_train, h=H)[\"mean\"]"
   ]
  },
  {
   "cell_type": "markdown",
   "metadata": {},
   "source": [
    "### Statsmodels"
   ]
  },
  {
   "cell_type": "code",
   "execution_count": 25,
   "metadata": {},
   "outputs": [
    {
     "name": "stdout",
     "output_type": "stream",
     "text": [
      "16.9 s ± 1.56 s per loop (mean ± std. dev. of 7 runs, 1 loop each)\n"
     ]
    }
   ],
   "source": [
    "%%timeit\n",
    "m3 = (sm.tsa.statespace\n",
    "      .SARIMAX(endog=y_train, order=order, seasonal_order=seasonal_order)\n",
    "      .fit()\n",
    ")\n",
    "preds3 = m3.predict(start=y_train.size, end=y_train.size + H - 1)"
   ]
  },
  {
   "cell_type": "markdown",
   "metadata": {},
   "source": [
    "# Plot"
   ]
  },
  {
   "cell_type": "code",
   "execution_count": 22,
   "metadata": {},
   "outputs": [
    {
     "data": {
      "application/vnd.plotly.v1+json": {
       "config": {
        "plotlyServerURL": "https://plot.ly"
       },
       "data": [
        {
         "mode": "lines",
         "name": "SUNACTIVITY",
         "type": "scatter",
         "x": [
          1700,
          1701,
          1702,
          1703,
          1704,
          1705,
          1706,
          1707,
          1708,
          1709,
          1710,
          1711,
          1712,
          1713,
          1714,
          1715,
          1716,
          1717,
          1718,
          1719,
          1720,
          1721,
          1722,
          1723,
          1724,
          1725,
          1726,
          1727,
          1728,
          1729,
          1730,
          1731,
          1732,
          1733,
          1734,
          1735,
          1736,
          1737,
          1738,
          1739,
          1740,
          1741,
          1742,
          1743,
          1744,
          1745,
          1746,
          1747,
          1748,
          1749,
          1750,
          1751,
          1752,
          1753,
          1754,
          1755,
          1756,
          1757,
          1758,
          1759,
          1760,
          1761,
          1762,
          1763,
          1764,
          1765,
          1766,
          1767,
          1768,
          1769,
          1770,
          1771,
          1772,
          1773,
          1774,
          1775,
          1776,
          1777,
          1778,
          1779,
          1780,
          1781,
          1782,
          1783,
          1784,
          1785,
          1786,
          1787,
          1788,
          1789,
          1790,
          1791,
          1792,
          1793,
          1794,
          1795,
          1796,
          1797,
          1798,
          1799,
          1800,
          1801,
          1802,
          1803,
          1804,
          1805,
          1806,
          1807,
          1808,
          1809,
          1810,
          1811,
          1812,
          1813,
          1814,
          1815,
          1816,
          1817,
          1818,
          1819,
          1820,
          1821,
          1822,
          1823,
          1824,
          1825,
          1826,
          1827,
          1828,
          1829,
          1830,
          1831,
          1832,
          1833,
          1834,
          1835,
          1836,
          1837,
          1838,
          1839,
          1840,
          1841,
          1842,
          1843,
          1844,
          1845,
          1846,
          1847,
          1848,
          1849,
          1850,
          1851,
          1852,
          1853,
          1854,
          1855,
          1856,
          1857,
          1858,
          1859,
          1860,
          1861,
          1862,
          1863,
          1864,
          1865,
          1866,
          1867,
          1868,
          1869,
          1870,
          1871,
          1872,
          1873,
          1874,
          1875,
          1876,
          1877,
          1878,
          1879,
          1880,
          1881,
          1882,
          1883,
          1884,
          1885,
          1886,
          1887,
          1888,
          1889,
          1890,
          1891,
          1892,
          1893,
          1894,
          1895,
          1896,
          1897,
          1898,
          1899,
          1900,
          1901,
          1902,
          1903,
          1904,
          1905,
          1906,
          1907,
          1908,
          1909,
          1910,
          1911,
          1912,
          1913,
          1914,
          1915,
          1916,
          1917,
          1918,
          1919,
          1920,
          1921,
          1922,
          1923,
          1924,
          1925,
          1926,
          1927,
          1928,
          1929,
          1930,
          1931,
          1932,
          1933,
          1934,
          1935,
          1936,
          1937,
          1938,
          1939,
          1940,
          1941,
          1942,
          1943,
          1944,
          1945,
          1946,
          1947,
          1948,
          1949,
          1950,
          1951,
          1952,
          1953,
          1954,
          1955,
          1956,
          1957,
          1958,
          1959,
          1960,
          1961,
          1962,
          1963,
          1964,
          1965,
          1966,
          1967,
          1968,
          1969,
          1970,
          1971,
          1972,
          1973,
          1974,
          1975,
          1976,
          1977,
          1978,
          1979,
          1980,
          1981,
          1982,
          1983,
          1984,
          1985,
          1986,
          1987,
          1988,
          1989,
          1990,
          1991,
          1992,
          1993,
          1994,
          1995,
          1996,
          1997,
          1998,
          1999,
          2000,
          2001,
          2002,
          2003,
          2004,
          2005,
          2006,
          2007,
          2008
         ],
         "y": [
          5,
          11,
          16,
          23,
          36,
          58,
          29,
          20,
          10,
          8,
          3,
          0,
          0,
          2,
          11,
          27,
          47,
          63,
          60,
          39,
          28,
          26,
          22,
          11,
          21,
          40,
          78,
          122,
          103,
          73,
          47,
          35,
          11,
          5,
          16,
          34,
          70,
          81,
          111,
          101,
          73,
          40,
          20,
          16,
          5,
          11,
          22,
          40,
          60,
          80.9,
          83.4,
          47.7,
          47.8,
          30.7,
          12.2,
          9.6,
          10.2,
          32.4,
          47.6,
          54,
          62.9,
          85.9,
          61.2,
          45.1,
          36.4,
          20.9,
          11.4,
          37.8,
          69.8,
          106.1,
          100.8,
          81.6,
          66.5,
          34.8,
          30.6,
          7,
          19.8,
          92.5,
          154.4,
          125.9,
          84.8,
          68.1,
          38.5,
          22.8,
          10.2,
          24.1,
          82.9,
          132,
          130.9,
          118.1,
          89.9,
          66.6,
          60,
          46.9,
          41,
          21.3,
          16,
          6.4,
          4.1,
          6.8,
          14.5,
          34,
          45,
          43.1,
          47.5,
          42.2,
          28.1,
          10.1,
          8.1,
          2.5,
          0,
          1.4,
          5,
          12.2,
          13.9,
          35.4,
          45.8,
          41.1,
          30.1,
          23.9,
          15.6,
          6.6,
          4,
          1.8,
          8.5,
          16.6,
          36.3,
          49.6,
          64.2,
          67,
          70.9,
          47.8,
          27.5,
          8.5,
          13.2,
          56.9,
          121.5,
          138.3,
          103.2,
          85.7,
          64.6,
          36.7,
          24.2,
          10.7,
          15,
          40.1,
          61.5,
          98.5,
          124.7,
          96.3,
          66.6,
          64.5,
          54.1,
          39,
          20.6,
          6.7,
          4.3,
          22.7,
          54.8,
          93.8,
          95.8,
          77.2,
          59.1,
          44,
          47,
          30.5,
          16.3,
          7.3,
          37.6,
          74,
          139,
          111.2,
          101.6,
          66.2,
          44.7,
          17,
          11.3,
          12.4,
          3.4,
          6,
          32.3,
          54.3,
          59.7,
          63.7,
          63.5,
          52.2,
          25.4,
          13.1,
          6.8,
          6.3,
          7.1,
          35.6,
          73,
          85.1,
          78,
          64,
          41.8,
          26.2,
          26.7,
          12.1,
          9.5,
          2.7,
          5,
          24.4,
          42,
          63.5,
          53.8,
          62,
          48.5,
          43.9,
          18.6,
          5.7,
          3.6,
          1.4,
          9.6,
          47.4,
          57.1,
          103.9,
          80.6,
          63.6,
          37.6,
          26.1,
          14.2,
          5.8,
          16.7,
          44.3,
          63.9,
          69,
          77.8,
          64.9,
          35.7,
          21.2,
          11.1,
          5.7,
          8.7,
          36.1,
          79.7,
          114.4,
          109.6,
          88.8,
          67.8,
          47.5,
          30.6,
          16.3,
          9.6,
          33.2,
          92.6,
          151.6,
          136.3,
          134.7,
          83.9,
          69.4,
          31.5,
          13.9,
          4.4,
          38,
          141.7,
          190.2,
          184.8,
          159,
          112.3,
          53.9,
          37.6,
          27.9,
          10.2,
          15.1,
          47,
          93.8,
          105.9,
          105.5,
          104.5,
          66.6,
          68.9,
          38,
          34.5,
          15.5,
          12.6,
          27.5,
          92.5,
          155.4,
          154.6,
          140.4,
          115.9,
          66.6,
          45.9,
          17.9,
          13.4,
          29.4,
          100.2,
          157.6,
          142.6,
          145.7,
          94.3,
          54.6,
          29.9,
          17.5,
          8.6,
          21.5,
          64.3,
          93.3,
          119.6,
          111,
          104,
          63.7,
          40.4,
          29.8,
          15.2,
          7.5,
          2.9
         ]
        },
        {
         "mode": "lines",
         "name": "MyArima",
         "type": "scatter",
         "x": [
          1964,
          1965,
          1966,
          1967,
          1968,
          1969,
          1970,
          1971,
          1972,
          1973,
          1974,
          1975,
          1976,
          1977,
          1978,
          1979,
          1980,
          1981,
          1982,
          1983,
          1984,
          1985,
          1986,
          1987,
          1988,
          1989,
          1990,
          1991,
          1992,
          1993,
          1994,
          1995,
          1996,
          1997,
          1998,
          1999,
          2000,
          2001,
          2002,
          2003,
          2004,
          2005,
          2006,
          2007,
          2008
         ],
         "y": [
          24.913041987476774,
          25.438168218775296,
          32.33558185822289,
          46.92666528334711,
          65.88651138810964,
          73.44166654625643,
          66.83325140218894,
          59.905561135826936,
          35.44601414492612,
          10.040272494233507,
          3.42190240944616,
          5.043432859687249,
          13.108718611694265,
          33.19833806512094,
          65.4232266143144,
          94.89536065840917,
          106.56125691498164,
          85.1925355657835,
          52.79973206713301,
          27.461533003081747,
          14.341727433841138,
          5.564754804314626,
          5.229022522928652,
          9.887301785375259,
          33.12542900561217,
          73.41765424197938,
          102.2576346856908,
          82.97075339511689,
          69.75497196492769,
          40.12854021623621,
          35.88413661159759,
          22.191895821367943,
          16.37164601692313,
          16.80008453391506,
          41.52413603168493,
          100.4531415542359,
          107.66901908999219,
          91.37504175176359,
          66.15959681090861,
          54.193255358371545,
          30.632882312807453,
          39.19140225292299,
          42.695210256707185,
          42.295319007889766,
          35.8777501627534
         ]
        },
        {
         "mode": "lines",
         "name": "StatsForecast",
         "type": "scatter",
         "x": [
          1964,
          1965,
          1966,
          1967,
          1968,
          1969,
          1970,
          1971,
          1972,
          1973,
          1974,
          1975,
          1976,
          1977,
          1978,
          1979,
          1980,
          1981,
          1982,
          1983,
          1984,
          1985,
          1986,
          1987,
          1988,
          1989,
          1990,
          1991,
          1992,
          1993,
          1994,
          1995,
          1996,
          1997,
          1998,
          1999,
          2000,
          2001,
          2002,
          2003,
          2004,
          2005,
          2006,
          2007,
          2008
         ],
         "y": [
          27.437941203557294,
          32.40777248735026,
          34.41827581081251,
          37.76460666476923,
          46.26425923821674,
          49.786601006803025,
          47.55887790601038,
          47.425305203206435,
          38.131721583288,
          28.8536883525795,
          28.308740324545482,
          28.781076709326367,
          34.00282609561184,
          40.25331170304642,
          50.937093029018,
          63.86146679370573,
          74.29212568624123,
          65.98741604924152,
          53.901870797957145,
          44.11468997898585,
          40.44244184350213,
          34.19830961182235,
          27.662953268503912,
          26.811851630122256,
          38.630864671914686,
          64.70674382820505,
          84.23209702787949,
          79.83545472616846,
          81.24519188820173,
          68.64544509460006,
          58.148734399770284,
          37.33515964502536,
          25.524352771899082,
          20.661124871145873,
          36.70731571578007,
          83.79173649994013,
          101.17340184682891,
          109.42282409108324,
          99.89818845055379,
          85.81807767580833,
          52.64118277262271,
          40.02242966757811,
          32.434314015412504,
          32.206816771822474,
          37.198939969053995
         ]
        },
        {
         "mode": "lines",
         "name": "Statsmodels",
         "type": "scatter",
         "x": [
          1964,
          1965,
          1966,
          1967,
          1968,
          1969,
          1970,
          1971,
          1972,
          1973,
          1974,
          1975,
          1976,
          1977,
          1978,
          1979,
          1980,
          1981,
          1982,
          1983,
          1984,
          1985,
          1986,
          1987,
          1988,
          1989,
          1990,
          1991,
          1992,
          1993,
          1994,
          1995,
          1996,
          1997,
          1998,
          1999,
          2000,
          2001,
          2002,
          2003,
          2004,
          2005,
          2006,
          2007,
          2008
         ],
         "y": [
          28.00420158167621,
          35.526012173325974,
          40.574055943908306,
          43.55738589732069,
          49.63968923745215,
          50.84308825280804,
          46.91361801107638,
          44.38547962299611,
          33.780669304357474,
          26.288124350157247,
          27.243578317077677,
          29.189042740914154,
          36.39983819144101,
          45.23763211897706,
          55.03294974037239,
          63.79905936823517,
          70.57446935465181,
          61.53746266489621,
          49.416638383580896,
          39.89751297234677,
          37.39690869790688,
          31.340186743957897,
          26.658873544426203,
          27.41715712915294,
          38.58618985712536,
          60.44645055161469,
          75.10000914704945,
          72.80426107466221,
          73.28921254421378,
          65.85337809111738,
          55.17267808975021,
          37.24280195297355,
          25.320039754674184,
          21.784793696544643,
          36.23915886333664,
          75.96049364862809,
          88.80583578050266,
          99.49231351905314,
          91.94340636200079,
          83.96033475727779,
          53.43798257553457,
          40.62796311069957,
          32.073478238890985,
          31.82530128525027,
          37.2823988752129
         ]
        }
       ],
       "layout": {
        "showlegend": true,
        "template": {
         "data": {
          "bar": [
           {
            "error_x": {
             "color": "#2a3f5f"
            },
            "error_y": {
             "color": "#2a3f5f"
            },
            "marker": {
             "line": {
              "color": "#E5ECF6",
              "width": 0.5
             },
             "pattern": {
              "fillmode": "overlay",
              "size": 10,
              "solidity": 0.2
             }
            },
            "type": "bar"
           }
          ],
          "barpolar": [
           {
            "marker": {
             "line": {
              "color": "#E5ECF6",
              "width": 0.5
             },
             "pattern": {
              "fillmode": "overlay",
              "size": 10,
              "solidity": 0.2
             }
            },
            "type": "barpolar"
           }
          ],
          "carpet": [
           {
            "aaxis": {
             "endlinecolor": "#2a3f5f",
             "gridcolor": "white",
             "linecolor": "white",
             "minorgridcolor": "white",
             "startlinecolor": "#2a3f5f"
            },
            "baxis": {
             "endlinecolor": "#2a3f5f",
             "gridcolor": "white",
             "linecolor": "white",
             "minorgridcolor": "white",
             "startlinecolor": "#2a3f5f"
            },
            "type": "carpet"
           }
          ],
          "choropleth": [
           {
            "colorbar": {
             "outlinewidth": 0,
             "ticks": ""
            },
            "type": "choropleth"
           }
          ],
          "contour": [
           {
            "colorbar": {
             "outlinewidth": 0,
             "ticks": ""
            },
            "colorscale": [
             [
              0,
              "#0d0887"
             ],
             [
              0.1111111111111111,
              "#46039f"
             ],
             [
              0.2222222222222222,
              "#7201a8"
             ],
             [
              0.3333333333333333,
              "#9c179e"
             ],
             [
              0.4444444444444444,
              "#bd3786"
             ],
             [
              0.5555555555555556,
              "#d8576b"
             ],
             [
              0.6666666666666666,
              "#ed7953"
             ],
             [
              0.7777777777777778,
              "#fb9f3a"
             ],
             [
              0.8888888888888888,
              "#fdca26"
             ],
             [
              1,
              "#f0f921"
             ]
            ],
            "type": "contour"
           }
          ],
          "contourcarpet": [
           {
            "colorbar": {
             "outlinewidth": 0,
             "ticks": ""
            },
            "type": "contourcarpet"
           }
          ],
          "heatmap": [
           {
            "colorbar": {
             "outlinewidth": 0,
             "ticks": ""
            },
            "colorscale": [
             [
              0,
              "#0d0887"
             ],
             [
              0.1111111111111111,
              "#46039f"
             ],
             [
              0.2222222222222222,
              "#7201a8"
             ],
             [
              0.3333333333333333,
              "#9c179e"
             ],
             [
              0.4444444444444444,
              "#bd3786"
             ],
             [
              0.5555555555555556,
              "#d8576b"
             ],
             [
              0.6666666666666666,
              "#ed7953"
             ],
             [
              0.7777777777777778,
              "#fb9f3a"
             ],
             [
              0.8888888888888888,
              "#fdca26"
             ],
             [
              1,
              "#f0f921"
             ]
            ],
            "type": "heatmap"
           }
          ],
          "heatmapgl": [
           {
            "colorbar": {
             "outlinewidth": 0,
             "ticks": ""
            },
            "colorscale": [
             [
              0,
              "#0d0887"
             ],
             [
              0.1111111111111111,
              "#46039f"
             ],
             [
              0.2222222222222222,
              "#7201a8"
             ],
             [
              0.3333333333333333,
              "#9c179e"
             ],
             [
              0.4444444444444444,
              "#bd3786"
             ],
             [
              0.5555555555555556,
              "#d8576b"
             ],
             [
              0.6666666666666666,
              "#ed7953"
             ],
             [
              0.7777777777777778,
              "#fb9f3a"
             ],
             [
              0.8888888888888888,
              "#fdca26"
             ],
             [
              1,
              "#f0f921"
             ]
            ],
            "type": "heatmapgl"
           }
          ],
          "histogram": [
           {
            "marker": {
             "pattern": {
              "fillmode": "overlay",
              "size": 10,
              "solidity": 0.2
             }
            },
            "type": "histogram"
           }
          ],
          "histogram2d": [
           {
            "colorbar": {
             "outlinewidth": 0,
             "ticks": ""
            },
            "colorscale": [
             [
              0,
              "#0d0887"
             ],
             [
              0.1111111111111111,
              "#46039f"
             ],
             [
              0.2222222222222222,
              "#7201a8"
             ],
             [
              0.3333333333333333,
              "#9c179e"
             ],
             [
              0.4444444444444444,
              "#bd3786"
             ],
             [
              0.5555555555555556,
              "#d8576b"
             ],
             [
              0.6666666666666666,
              "#ed7953"
             ],
             [
              0.7777777777777778,
              "#fb9f3a"
             ],
             [
              0.8888888888888888,
              "#fdca26"
             ],
             [
              1,
              "#f0f921"
             ]
            ],
            "type": "histogram2d"
           }
          ],
          "histogram2dcontour": [
           {
            "colorbar": {
             "outlinewidth": 0,
             "ticks": ""
            },
            "colorscale": [
             [
              0,
              "#0d0887"
             ],
             [
              0.1111111111111111,
              "#46039f"
             ],
             [
              0.2222222222222222,
              "#7201a8"
             ],
             [
              0.3333333333333333,
              "#9c179e"
             ],
             [
              0.4444444444444444,
              "#bd3786"
             ],
             [
              0.5555555555555556,
              "#d8576b"
             ],
             [
              0.6666666666666666,
              "#ed7953"
             ],
             [
              0.7777777777777778,
              "#fb9f3a"
             ],
             [
              0.8888888888888888,
              "#fdca26"
             ],
             [
              1,
              "#f0f921"
             ]
            ],
            "type": "histogram2dcontour"
           }
          ],
          "mesh3d": [
           {
            "colorbar": {
             "outlinewidth": 0,
             "ticks": ""
            },
            "type": "mesh3d"
           }
          ],
          "parcoords": [
           {
            "line": {
             "colorbar": {
              "outlinewidth": 0,
              "ticks": ""
             }
            },
            "type": "parcoords"
           }
          ],
          "pie": [
           {
            "automargin": true,
            "type": "pie"
           }
          ],
          "scatter": [
           {
            "fillpattern": {
             "fillmode": "overlay",
             "size": 10,
             "solidity": 0.2
            },
            "type": "scatter"
           }
          ],
          "scatter3d": [
           {
            "line": {
             "colorbar": {
              "outlinewidth": 0,
              "ticks": ""
             }
            },
            "marker": {
             "colorbar": {
              "outlinewidth": 0,
              "ticks": ""
             }
            },
            "type": "scatter3d"
           }
          ],
          "scattercarpet": [
           {
            "marker": {
             "colorbar": {
              "outlinewidth": 0,
              "ticks": ""
             }
            },
            "type": "scattercarpet"
           }
          ],
          "scattergeo": [
           {
            "marker": {
             "colorbar": {
              "outlinewidth": 0,
              "ticks": ""
             }
            },
            "type": "scattergeo"
           }
          ],
          "scattergl": [
           {
            "marker": {
             "colorbar": {
              "outlinewidth": 0,
              "ticks": ""
             }
            },
            "type": "scattergl"
           }
          ],
          "scattermapbox": [
           {
            "marker": {
             "colorbar": {
              "outlinewidth": 0,
              "ticks": ""
             }
            },
            "type": "scattermapbox"
           }
          ],
          "scatterpolar": [
           {
            "marker": {
             "colorbar": {
              "outlinewidth": 0,
              "ticks": ""
             }
            },
            "type": "scatterpolar"
           }
          ],
          "scatterpolargl": [
           {
            "marker": {
             "colorbar": {
              "outlinewidth": 0,
              "ticks": ""
             }
            },
            "type": "scatterpolargl"
           }
          ],
          "scatterternary": [
           {
            "marker": {
             "colorbar": {
              "outlinewidth": 0,
              "ticks": ""
             }
            },
            "type": "scatterternary"
           }
          ],
          "surface": [
           {
            "colorbar": {
             "outlinewidth": 0,
             "ticks": ""
            },
            "colorscale": [
             [
              0,
              "#0d0887"
             ],
             [
              0.1111111111111111,
              "#46039f"
             ],
             [
              0.2222222222222222,
              "#7201a8"
             ],
             [
              0.3333333333333333,
              "#9c179e"
             ],
             [
              0.4444444444444444,
              "#bd3786"
             ],
             [
              0.5555555555555556,
              "#d8576b"
             ],
             [
              0.6666666666666666,
              "#ed7953"
             ],
             [
              0.7777777777777778,
              "#fb9f3a"
             ],
             [
              0.8888888888888888,
              "#fdca26"
             ],
             [
              1,
              "#f0f921"
             ]
            ],
            "type": "surface"
           }
          ],
          "table": [
           {
            "cells": {
             "fill": {
              "color": "#EBF0F8"
             },
             "line": {
              "color": "white"
             }
            },
            "header": {
             "fill": {
              "color": "#C8D4E3"
             },
             "line": {
              "color": "white"
             }
            },
            "type": "table"
           }
          ]
         },
         "layout": {
          "annotationdefaults": {
           "arrowcolor": "#2a3f5f",
           "arrowhead": 0,
           "arrowwidth": 1
          },
          "autotypenumbers": "strict",
          "coloraxis": {
           "colorbar": {
            "outlinewidth": 0,
            "ticks": ""
           }
          },
          "colorscale": {
           "diverging": [
            [
             0,
             "#8e0152"
            ],
            [
             0.1,
             "#c51b7d"
            ],
            [
             0.2,
             "#de77ae"
            ],
            [
             0.3,
             "#f1b6da"
            ],
            [
             0.4,
             "#fde0ef"
            ],
            [
             0.5,
             "#f7f7f7"
            ],
            [
             0.6,
             "#e6f5d0"
            ],
            [
             0.7,
             "#b8e186"
            ],
            [
             0.8,
             "#7fbc41"
            ],
            [
             0.9,
             "#4d9221"
            ],
            [
             1,
             "#276419"
            ]
           ],
           "sequential": [
            [
             0,
             "#0d0887"
            ],
            [
             0.1111111111111111,
             "#46039f"
            ],
            [
             0.2222222222222222,
             "#7201a8"
            ],
            [
             0.3333333333333333,
             "#9c179e"
            ],
            [
             0.4444444444444444,
             "#bd3786"
            ],
            [
             0.5555555555555556,
             "#d8576b"
            ],
            [
             0.6666666666666666,
             "#ed7953"
            ],
            [
             0.7777777777777778,
             "#fb9f3a"
            ],
            [
             0.8888888888888888,
             "#fdca26"
            ],
            [
             1,
             "#f0f921"
            ]
           ],
           "sequentialminus": [
            [
             0,
             "#0d0887"
            ],
            [
             0.1111111111111111,
             "#46039f"
            ],
            [
             0.2222222222222222,
             "#7201a8"
            ],
            [
             0.3333333333333333,
             "#9c179e"
            ],
            [
             0.4444444444444444,
             "#bd3786"
            ],
            [
             0.5555555555555556,
             "#d8576b"
            ],
            [
             0.6666666666666666,
             "#ed7953"
            ],
            [
             0.7777777777777778,
             "#fb9f3a"
            ],
            [
             0.8888888888888888,
             "#fdca26"
            ],
            [
             1,
             "#f0f921"
            ]
           ]
          },
          "colorway": [
           "#636efa",
           "#EF553B",
           "#00cc96",
           "#ab63fa",
           "#FFA15A",
           "#19d3f3",
           "#FF6692",
           "#B6E880",
           "#FF97FF",
           "#FECB52"
          ],
          "font": {
           "color": "#2a3f5f"
          },
          "geo": {
           "bgcolor": "white",
           "lakecolor": "white",
           "landcolor": "#E5ECF6",
           "showlakes": true,
           "showland": true,
           "subunitcolor": "white"
          },
          "hoverlabel": {
           "align": "left"
          },
          "hovermode": "closest",
          "mapbox": {
           "style": "light"
          },
          "paper_bgcolor": "white",
          "plot_bgcolor": "#E5ECF6",
          "polar": {
           "angularaxis": {
            "gridcolor": "white",
            "linecolor": "white",
            "ticks": ""
           },
           "bgcolor": "#E5ECF6",
           "radialaxis": {
            "gridcolor": "white",
            "linecolor": "white",
            "ticks": ""
           }
          },
          "scene": {
           "xaxis": {
            "backgroundcolor": "#E5ECF6",
            "gridcolor": "white",
            "gridwidth": 2,
            "linecolor": "white",
            "showbackground": true,
            "ticks": "",
            "zerolinecolor": "white"
           },
           "yaxis": {
            "backgroundcolor": "#E5ECF6",
            "gridcolor": "white",
            "gridwidth": 2,
            "linecolor": "white",
            "showbackground": true,
            "ticks": "",
            "zerolinecolor": "white"
           },
           "zaxis": {
            "backgroundcolor": "#E5ECF6",
            "gridcolor": "white",
            "gridwidth": 2,
            "linecolor": "white",
            "showbackground": true,
            "ticks": "",
            "zerolinecolor": "white"
           }
          },
          "shapedefaults": {
           "line": {
            "color": "#2a3f5f"
           }
          },
          "ternary": {
           "aaxis": {
            "gridcolor": "white",
            "linecolor": "white",
            "ticks": ""
           },
           "baxis": {
            "gridcolor": "white",
            "linecolor": "white",
            "ticks": ""
           },
           "bgcolor": "#E5ECF6",
           "caxis": {
            "gridcolor": "white",
            "linecolor": "white",
            "ticks": ""
           }
          },
          "title": {
           "x": 0.05
          },
          "xaxis": {
           "automargin": true,
           "gridcolor": "white",
           "linecolor": "white",
           "ticks": "",
           "title": {
            "standoff": 15
           },
           "zerolinecolor": "white",
           "zerolinewidth": 2
          },
          "yaxis": {
           "automargin": true,
           "gridcolor": "white",
           "linecolor": "white",
           "ticks": "",
           "title": {
            "standoff": 15
           },
           "zerolinecolor": "white",
           "zerolinewidth": 2
          }
         }
        }
       }
      }
     },
     "metadata": {},
     "output_type": "display_data"
    }
   ],
   "source": [
    "fig = go.Figure()\n",
    "fig.add_trace(go.Scatter(x=df[DS], y=df[Y], mode='lines', name=Y))\n",
    "test_dates = df[DS].values[-H:]\n",
    "fig.add_trace(go.Scatter(x=test_dates, y=preds1, mode='lines', name=\"MyArima\"))\n",
    "fig.add_trace(go.Scatter(x=test_dates, y=preds2, mode='lines', name=\"StatsForecast\"))\n",
    "fig.add_trace(go.Scatter(x=test_dates, y=preds3, mode='lines', name=\"Statsmodels\"))\n",
    "fig.update_layout(showlegend=True)\n",
    "fig.show()"
   ]
  }
 ],
 "metadata": {
  "kernelspec": {
   "display_name": "env",
   "language": "python",
   "name": "python3"
  },
  "language_info": {
   "codemirror_mode": {
    "name": "ipython",
    "version": 3
   },
   "file_extension": ".py",
   "mimetype": "text/x-python",
   "name": "python",
   "nbconvert_exporter": "python",
   "pygments_lexer": "ipython3",
   "version": "3.10.7"
  }
 },
 "nbformat": 4,
 "nbformat_minor": 2
}
